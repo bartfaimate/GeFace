{
 "cells": [
  {
   "cell_type": "code",
   "execution_count": 1,
   "metadata": {
    "colab": {},
    "colab_type": "code",
    "id": "ss5EuOyfDU6b"
   },
   "outputs": [
    {
     "name": "stderr",
     "output_type": "stream",
     "text": [
      "Using TensorFlow backend.\n"
     ]
    }
   ],
   "source": [
    "from keras.models import load_model\n",
    "# Import all packages\n",
    "\n",
    "import numpy as np\n",
    "import pandas as pd\n",
    "import os\n",
    "import matplotlib.pyplot as plt\n",
    "import cv2\n",
    "import sys\n",
    "from keras.preprocessing.image import img_to_array\n",
    "import tensorflow as tf\n",
    "import pickle\n",
    "from sklearn.preprocessing import MinMaxScaler\n",
    "\n",
    "%matplotlib inline"
   ]
  },
  {
   "cell_type": "code",
   "execution_count": 2,
   "metadata": {},
   "outputs": [],
   "source": [
    "import math\n",
    "\n",
    "def font_size_calculator(img_shape):\n",
    "    font_size = math.ceil(img_shape[0] / 800)\n",
    "    return font_size\n",
    "\n",
    "def font_width_calculator(img_shape):\n",
    "    font_width = math.ceil(img_shape[0] / 400)\n",
    "    return font_width\n",
    "\n",
    "def calculate_text_position(img_shape):\n",
    "    x = math.ceil(img_shape[1] / 40) \n",
    "    y = math.ceil(img_shape[0] / 40) + math.ceil(img_shape[0] / 100)\n",
    "    return x,y"
   ]
  },
  {
   "cell_type": "code",
   "execution_count": 11,
   "metadata": {
    "colab": {
     "base_uri": "https://localhost:8080/",
     "height": 34
    },
    "colab_type": "code",
    "executionInfo": {
     "elapsed": 61724,
     "status": "ok",
     "timestamp": 1543755029375,
     "user": {
      "displayName": "Örkény Zováthi",
      "photoUrl": "",
      "userId": "18120339239965062711"
     },
     "user_tz": -60
    },
    "id": "bykg1S0NUpha",
    "outputId": "d5232611-f8a0-437c-e96d-a2d3744f1029"
   },
   "outputs": [
    {
     "name": "stdout",
     "output_type": "stream",
     "text": [
      "[INFO] loading network...\n"
     ]
    },
    {
     "name": "stderr",
     "output_type": "stream",
     "text": [
      "/home/mate/.virtualenvs/deeplearn_gpu/lib/python3.6/site-packages/sklearn/base.py:251: UserWarning: Trying to unpickle estimator MinMaxScaler from version 0.19.2 when using version 0.20.0. This might lead to breaking code or invalid results. Use at your own risk.\n",
      "  UserWarning)\n"
     ]
    }
   ],
   "source": [
    "project_path = \"/home/mate/develop/PycharmProjects/GeFace/\"\n",
    "\n",
    "# load the trained convolutional neural network from disk, followed\n",
    "# by the category and color label binarizers, respectively\n",
    "print(\"[INFO] loading network...\")\n",
    "model = load_model(project_path  + \"faces_model/last/xception_regression_age_fine.hdf5\", custom_objects={\"tf\": tf})\n",
    "agesLB = pickle.loads(open(project_path + \"faces_model/last/regression.label\", \"rb\").read())\n"
   ]
  },
  {
   "cell_type": "code",
   "execution_count": 55,
   "metadata": {
    "colab": {},
    "colab_type": "code",
    "id": "ifW51w6IUklQ"
   },
   "outputs": [],
   "source": [
    "# load the image\n",
    "image_name = project_path + \"faces_colored/00/nm0000100_rm616798464_1955-1-6_2003.jpg\"\n",
    "image = cv2.imread(image_name)\n",
    "# image = cv2.GaussianBlur(image, (11,11), 1)\n",
    "# image = cv2.equalizeHist(image)\n",
    "#image = cv2.imread(project_path+\"faces_colored/01/nm0000001_rm124825600_1899-5-10_1968.jpg\")\n",
    "# image = cv2.imread(\"/home/mate/Pictures/dorka1.jpg\")\n",
    "face_cascade = cv2.CascadeClassifier(project_path + 'detector/haarcascade_frontalface_default.xml')\n",
    "\n",
    "gray = cv2.cvtColor(image, cv2.COLOR_BGR2GRAY)\n",
    "faces = face_cascade.detectMultiScale(gray, 1.1, 5)"
   ]
  },
  {
   "cell_type": "code",
   "execution_count": 56,
   "metadata": {
    "colab": {
     "base_uri": "https://localhost:8080/",
     "height": 34
    },
    "colab_type": "code",
    "executionInfo": {
     "elapsed": 703,
     "status": "ok",
     "timestamp": 1543755246025,
     "user": {
      "displayName": "Örkény Zováthi",
      "photoUrl": "",
      "userId": "18120339239965062711"
     },
     "user_tz": -60
    },
    "id": "EWd62GssWKTZ",
    "outputId": "b5f33445-1bef-4eaf-c145-e915082544f6"
   },
   "outputs": [
    {
     "name": "stdout",
     "output_type": "stream",
     "text": [
      "1\n"
     ]
    }
   ],
   "source": [
    "bb = []\n",
    "roi = []\n",
    "i = 0\n",
    "output = image.copy()\n",
    "for (x,y,w,h) in faces:\n",
    "    bb.append([w * h, i])\n",
    "    #cv2.rectangle(output,(x,y),(x+w,y+h),(255,0,0),2)\n",
    " #   roi_gray = gray[y:y+h, x:x+w]\n",
    "    roi.append([x,y,w,h])\n",
    "    i += 1\n",
    "    print(i)\n",
    "m = 0\n",
    "for j in range(i):\n",
    "    if bb[j][0] > m:\n",
    "        m = bb[j][0]\n",
    "        (x,y,w,h) = roi[bb[j][1]]\n",
    "border_width = font_width_calculator(image.shape)\n",
    "cv2.rectangle(output,(x,y),(x+w,y+h),(0,0,255),border_width)\n",
    "roi_color = image[y:y+h, x:x+w]\n",
    "# pre-process the image for classification\n",
    "roi_color = cv2.resize(roi_color, (96, 96))\n",
    "roi_color = roi_color.astype(\"float\") / 255.0*2.0-1\n",
    "roi_color = img_to_array(roi_color)\n",
    "roi_color = np.expand_dims(roi_color, axis=0)"
   ]
  },
  {
   "cell_type": "code",
   "execution_count": 57,
   "metadata": {
    "colab": {
     "base_uri": "https://localhost:8080/",
     "height": 34
    },
    "colab_type": "code",
    "executionInfo": {
     "elapsed": 939,
     "status": "ok",
     "timestamp": 1543755246281,
     "user": {
      "displayName": "Örkény Zováthi",
      "photoUrl": "",
      "userId": "18120339239965062711"
     },
     "user_tz": -60
    },
    "id": "OSDVKS3IVOb5",
    "outputId": "be3dbb7c-664e-4961-9dfc-3b976d20546b"
   },
   "outputs": [
    {
     "name": "stdout",
     "output_type": "stream",
     "text": [
      "[INFO] classifying image...\n"
     ]
    }
   ],
   "source": [
    "# classify the input image using Keras' multi-output functionality\n",
    "print(\"[INFO] classifying image...\")\n",
    "(agesProba ) = model.predict(roi_color)"
   ]
  },
  {
   "cell_type": "code",
   "execution_count": 58,
   "metadata": {
    "colab": {},
    "colab_type": "code",
    "id": "opltiPAZVSa6"
   },
   "outputs": [],
   "source": [
    "agesLabel = agesLB.inverse_transform(agesProba[0])\n",
    "genderLabel = agesProba[1]"
   ]
  },
  {
   "cell_type": "code",
   "execution_count": 59,
   "metadata": {
    "colab": {
     "base_uri": "https://localhost:8080/",
     "height": 34
    },
    "colab_type": "code",
    "executionInfo": {
     "elapsed": 922,
     "status": "ok",
     "timestamp": 1543755246286,
     "user": {
      "displayName": "Örkény Zováthi",
      "photoUrl": "",
      "userId": "18120339239965062711"
     },
     "user_tz": -60
    },
    "id": "ZhfxIJgDVssK",
    "outputId": "e6794355-63ef-4b46-da6e-9fa8b35554d0"
   },
   "outputs": [
    {
     "data": {
      "text/plain": [
       "array([0.8718174 , 0.12818253], dtype=float32)"
      ]
     },
     "execution_count": 59,
     "metadata": {},
     "output_type": "execute_result"
    }
   ],
   "source": [
    "genderLabel[0]"
   ]
  },
  {
   "cell_type": "code",
   "execution_count": 60,
   "metadata": {
    "colab": {},
    "colab_type": "code",
    "id": "-KvWp8csg6jP"
   },
   "outputs": [],
   "source": [
    "if np.argmax(genderLabel) == 1:\n",
    "    gendertext = \"female\"\n",
    "else:\n",
    "    gendertext = \"male\""
   ]
  },
  {
   "cell_type": "code",
   "execution_count": null,
   "metadata": {},
   "outputs": [],
   "source": []
  },
  {
   "cell_type": "code",
   "execution_count": 61,
   "metadata": {
    "colab": {
     "base_uri": "https://localhost:8080/",
     "height": 304
    },
    "colab_type": "code",
    "executionInfo": {
     "elapsed": 1224,
     "status": "ok",
     "timestamp": 1543755246608,
     "user": {
      "displayName": "Örkény Zováthi",
      "photoUrl": "",
      "userId": "18120339239965062711"
     },
     "user_tz": -60
    },
    "id": "joVyaOJPDU6v",
    "outputId": "4fe48e80-bf58-425d-c3e2-fea44b5edd1f",
    "scrolled": false
   },
   "outputs": [
    {
     "name": "stdout",
     "output_type": "stream",
     "text": [
      "male\n",
      "1\n",
      "3 4\n",
      "[INFO] age: (48)\n"
     ]
    },
    {
     "data": {
      "text/plain": [
       "<matplotlib.image.AxesImage at 0x7fcbb5721c88>"
      ]
     },
     "execution_count": 61,
     "metadata": {},
     "output_type": "execute_result"
    },
    {
     "data": {
      "image/png": "[encoded data removed]",
      "text/plain": [
       "<Figure size 432x288 with 1 Axes>"
      ]
     },
     "metadata": {
      "needs_background": "light"
     },
     "output_type": "display_data"
    }
   ],
   "source": [
    "# draw the category label and color label on the image\n",
    "agesText = \"age: ({:.0f})\".format(float(agesLabel))\n",
    "print(gendertext)\n",
    "fontsize = font_size_calculator(image.shape)\n",
    "fontwidth = font_width_calculator(image.shape)\n",
    "print(fontsize)\n",
    "x_pos, y_pos = calculate_text_position(image.shape)\n",
    "print(x_pos, y_pos)\n",
    "cv2.putText(output, agesText, (x_pos, y_pos+10), cv2.FONT_HERSHEY_SIMPLEX,\n",
    "\tfontsize, (255, 0, 0), fontwidth)\n",
    "cv2.putText(output, gendertext, (x_pos, y_pos*2+20), cv2.FONT_HERSHEY_SIMPLEX,\n",
    "\tfontsize, (255, 155, 0), fontwidth)\n",
    "# display the predictions to the terminal as well\n",
    "print(\"[INFO] {}\".format(agesText))\n",
    "# show the probabilities for each of the individual labels\n",
    "cv2.imwrite(image_name + \"_class_fine.jpg\",output)\n",
    "outp = cv2.cvtColor(output, cv2.COLOR_BGR2RGB)\n",
    "# show the output image\n",
    "# print(\"[INFO] {} years old\".format(label))\n",
    "plt.imshow(outp,)"
   ]
  },
  {
   "cell_type": "code",
   "execution_count": 54,
   "metadata": {},
   "outputs": [
    {
     "data": {
      "text/plain": [
       "(480, 640, 3)"
      ]
     },
     "execution_count": 54,
     "metadata": {},
     "output_type": "execute_result"
    }
   ],
   "source": [
    "output.shape"
   ]
  },
  {
   "cell_type": "code",
   "execution_count": null,
   "metadata": {},
   "outputs": [],
   "source": []
  },
  {
   "cell_type": "code",
   "execution_count": null,
   "metadata": {},
   "outputs": [],
   "source": []
  }
 ],
 "metadata": {
  "colab": {
   "collapsed_sections": [],
   "name": "Xception-regression_classifiy.ipynb",
   "provenance": [],
   "version": "0.3.2"
  },
  "kernelspec": {
   "display_name": "Python 3",
   "language": "python",
   "name": "python3"
  },
  "language_info": {
   "codemirror_mode": {
    "name": "ipython",
    "version": 3
   },
   "file_extension": ".py",
   "mimetype": "text/x-python",
   "name": "python",
   "nbconvert_exporter": "python",
   "pygments_lexer": "ipython3",
   "version": "3.6.5"
  }
 },
 "nbformat": 4,
 "nbformat_minor": 1
}
