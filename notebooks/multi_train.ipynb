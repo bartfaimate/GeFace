{
 "cells": [
  {
   "cell_type": "markdown",
   "metadata": {},
   "source": [
    "# Training"
   ]
  },
  {
   "cell_type": "code",
   "execution_count": 1,
   "metadata": {},
   "outputs": [],
   "source": [
    "# Import all packages\n",
    "\n",
    "import numpy as np\n",
    "import pandas as pd\n",
    "import os\n",
    "import matplotlib.pyplot as plt\n",
    "import cv2\n",
    "import sys\n",
    "%matplotlib inline"
   ]
  },
  {
   "cell_type": "code",
   "execution_count": 2,
   "metadata": {},
   "outputs": [],
   "source": [
    "# chdir. it depends on the platform\n",
    "if sys.platform == 'linux':\n",
    "    # if os is linux cd to\n",
    "    project_path = \"/home/mate/develop/PycharmProjects/GeFace/\"\n",
    "    NUMBER_OF_DATA = 9000\n",
    "elif sys.platform is 'windows':\n",
    "    pass\n",
    "else:\n",
    "    pass\n",
    "\n",
    "os.chdir(project_path)"
   ]
  },
  {
   "cell_type": "code",
   "execution_count": 3,
   "metadata": {},
   "outputs": [
    {
     "name": "stdout",
     "output_type": "stream",
     "text": [
      "/home/mate/develop/PycharmProjects/GeFace\n"
     ]
    }
   ],
   "source": [
    "try:\n",
    "    print(os.getcwd())\n",
    "    # Open CSV with all informations\n",
    "    csv_file = pd.read_csv(\"faces_colored/faces_correct.csv\",delimiter = ',', encoding = \"ISO-8859-1\", engine='python')\n",
    "    pd.set_option('display.max_columns', 100)\n",
    "except (FileNotFoundError):\n",
    "    print(\"CSV file not found\")\n",
    "    current_path = os.getcwd()\n",
    "    print(\"Current path is \" + current_path)"
   ]
  },
  {
   "cell_type": "code",
   "execution_count": 4,
   "metadata": {},
   "outputs": [
    {
     "data": {
      "text/html": [
       "<div>\n",
       "<style scoped>\n",
       "    .dataframe tbody tr th:only-of-type {\n",
       "        vertical-align: middle;\n",
       "    }\n",
       "\n",
       "    .dataframe tbody tr th {\n",
       "        vertical-align: top;\n",
       "    }\n",
       "\n",
       "    .dataframe thead th {\n",
       "        text-align: right;\n",
       "    }\n",
       "</style>\n",
       "<table border=\"1\" class=\"dataframe\">\n",
       "  <thead>\n",
       "    <tr style=\"text-align: right;\">\n",
       "      <th></th>\n",
       "      <th>nr</th>\n",
       "      <th>age</th>\n",
       "      <th>full_path</th>\n",
       "      <th>gender</th>\n",
       "    </tr>\n",
       "  </thead>\n",
       "  <tbody>\n",
       "    <tr>\n",
       "      <th>0</th>\n",
       "      <td>0</td>\n",
       "      <td>69</td>\n",
       "      <td>01/nm0000001_rm124825600_1899-5-10_1968.jpg</td>\n",
       "      <td>1.0</td>\n",
       "    </tr>\n",
       "    <tr>\n",
       "      <th>1</th>\n",
       "      <td>1</td>\n",
       "      <td>71</td>\n",
       "      <td>01/nm0000001_rm3343756032_1899-5-10_1970.jpg</td>\n",
       "      <td>1.0</td>\n",
       "    </tr>\n",
       "    <tr>\n",
       "      <th>2</th>\n",
       "      <td>2</td>\n",
       "      <td>69</td>\n",
       "      <td>01/nm0000001_rm577153792_1899-5-10_1968.jpg</td>\n",
       "      <td>1.0</td>\n",
       "    </tr>\n",
       "    <tr>\n",
       "      <th>3</th>\n",
       "      <td>5</td>\n",
       "      <td>67</td>\n",
       "      <td>02/nm0000002_rm1075631616_1924-9-16_1991.jpg</td>\n",
       "      <td>0.0</td>\n",
       "    </tr>\n",
       "    <tr>\n",
       "      <th>4</th>\n",
       "      <td>6</td>\n",
       "      <td>80</td>\n",
       "      <td>02/nm0000002_rm1346607872_1924-9-16_2004.jpg</td>\n",
       "      <td>0.0</td>\n",
       "    </tr>\n",
       "  </tbody>\n",
       "</table>\n",
       "</div>"
      ],
      "text/plain": [
       "   nr  age                                     full_path  gender\n",
       "0   0   69   01/nm0000001_rm124825600_1899-5-10_1968.jpg     1.0\n",
       "1   1   71  01/nm0000001_rm3343756032_1899-5-10_1970.jpg     1.0\n",
       "2   2   69   01/nm0000001_rm577153792_1899-5-10_1968.jpg     1.0\n",
       "3   5   67  02/nm0000002_rm1075631616_1924-9-16_1991.jpg     0.0\n",
       "4   6   80  02/nm0000002_rm1346607872_1924-9-16_2004.jpg     0.0"
      ]
     },
     "execution_count": 4,
     "metadata": {},
     "output_type": "execute_result"
    }
   ],
   "source": [
    "csv_file.head()"
   ]
  },
  {
   "cell_type": "code",
   "execution_count": 5,
   "metadata": {},
   "outputs": [],
   "source": [
    "#df = csv_file.drop(columns=[\"nr\"])\n",
    "df = csv_file "
   ]
  },
  {
   "cell_type": "code",
   "execution_count": 6,
   "metadata": {},
   "outputs": [],
   "source": [
    "# convert 1.0 to m as male\n",
    "#         0.0 to f as female\n",
    "def mod(x):\n",
    "    if x == 1.0:\n",
    "        x = \"m\"\n",
    "    else:\n",
    "        x = \"f\"\n",
    "    return x\n",
    "\n",
    "df[\"gender\"] = df[\"gender\"].apply(mod)"
   ]
  },
  {
   "cell_type": "code",
   "execution_count": 7,
   "metadata": {},
   "outputs": [
    {
     "data": {
      "text/html": [
       "<div>\n",
       "<style scoped>\n",
       "    .dataframe tbody tr th:only-of-type {\n",
       "        vertical-align: middle;\n",
       "    }\n",
       "\n",
       "    .dataframe tbody tr th {\n",
       "        vertical-align: top;\n",
       "    }\n",
       "\n",
       "    .dataframe thead th {\n",
       "        text-align: right;\n",
       "    }\n",
       "</style>\n",
       "<table border=\"1\" class=\"dataframe\">\n",
       "  <thead>\n",
       "    <tr style=\"text-align: right;\">\n",
       "      <th></th>\n",
       "      <th>nr</th>\n",
       "      <th>age</th>\n",
       "      <th>full_path</th>\n",
       "      <th>gender</th>\n",
       "    </tr>\n",
       "  </thead>\n",
       "  <tbody>\n",
       "    <tr>\n",
       "      <th>0</th>\n",
       "      <td>0</td>\n",
       "      <td>69</td>\n",
       "      <td>01/nm0000001_rm124825600_1899-5-10_1968.jpg</td>\n",
       "      <td>m</td>\n",
       "    </tr>\n",
       "    <tr>\n",
       "      <th>1</th>\n",
       "      <td>1</td>\n",
       "      <td>71</td>\n",
       "      <td>01/nm0000001_rm3343756032_1899-5-10_1970.jpg</td>\n",
       "      <td>m</td>\n",
       "    </tr>\n",
       "    <tr>\n",
       "      <th>2</th>\n",
       "      <td>2</td>\n",
       "      <td>69</td>\n",
       "      <td>01/nm0000001_rm577153792_1899-5-10_1968.jpg</td>\n",
       "      <td>m</td>\n",
       "    </tr>\n",
       "    <tr>\n",
       "      <th>3</th>\n",
       "      <td>5</td>\n",
       "      <td>67</td>\n",
       "      <td>02/nm0000002_rm1075631616_1924-9-16_1991.jpg</td>\n",
       "      <td>f</td>\n",
       "    </tr>\n",
       "    <tr>\n",
       "      <th>4</th>\n",
       "      <td>6</td>\n",
       "      <td>80</td>\n",
       "      <td>02/nm0000002_rm1346607872_1924-9-16_2004.jpg</td>\n",
       "      <td>f</td>\n",
       "    </tr>\n",
       "  </tbody>\n",
       "</table>\n",
       "</div>"
      ],
      "text/plain": [
       "   nr  age                                     full_path gender\n",
       "0   0   69   01/nm0000001_rm124825600_1899-5-10_1968.jpg      m\n",
       "1   1   71  01/nm0000001_rm3343756032_1899-5-10_1970.jpg      m\n",
       "2   2   69   01/nm0000001_rm577153792_1899-5-10_1968.jpg      m\n",
       "3   5   67  02/nm0000002_rm1075631616_1924-9-16_1991.jpg      f\n",
       "4   6   80  02/nm0000002_rm1346607872_1924-9-16_2004.jpg      f"
      ]
     },
     "execution_count": 7,
     "metadata": {},
     "output_type": "execute_result"
    }
   ],
   "source": [
    "df.head()"
   ]
  },
  {
   "cell_type": "code",
   "execution_count": 8,
   "metadata": {},
   "outputs": [],
   "source": [
    "# create dataset for testing the network\n",
    "import random\n",
    "from sklearn.utils import shuffle\n",
    "from sklearn.preprocessing import StandardScaler\n",
    "\n",
    "\n",
    "proba_df = df.head(NUMBER_OF_DATA)\n",
    "\n",
    "# Randomize but always the same random numbers\n",
    "np.random.seed(42)\n",
    "random.seed(42)\n",
    "# shuffle rows\n",
    "proba_df = shuffle(proba_df)"
   ]
  },
  {
   "cell_type": "code",
   "execution_count": 9,
   "metadata": {},
   "outputs": [
    {
     "data": {
      "text/html": [
       "<div>\n",
       "<style scoped>\n",
       "    .dataframe tbody tr th:only-of-type {\n",
       "        vertical-align: middle;\n",
       "    }\n",
       "\n",
       "    .dataframe tbody tr th {\n",
       "        vertical-align: top;\n",
       "    }\n",
       "\n",
       "    .dataframe thead th {\n",
       "        text-align: right;\n",
       "    }\n",
       "</style>\n",
       "<table border=\"1\" class=\"dataframe\">\n",
       "  <thead>\n",
       "    <tr style=\"text-align: right;\">\n",
       "      <th></th>\n",
       "      <th>nr</th>\n",
       "      <th>age</th>\n",
       "      <th>full_path</th>\n",
       "      <th>gender</th>\n",
       "    </tr>\n",
       "  </thead>\n",
       "  <tbody>\n",
       "    <tr>\n",
       "      <th>7940</th>\n",
       "      <td>13900</td>\n",
       "      <td>30</td>\n",
       "      <td>39/nm0000139_rm1366989568_1972-8-30_2002.jpg</td>\n",
       "      <td>f</td>\n",
       "    </tr>\n",
       "    <tr>\n",
       "      <th>1162</th>\n",
       "      <td>2180</td>\n",
       "      <td>44</td>\n",
       "      <td>93/nm0000093_rm3216481024_1963-12-18_2007.jpg</td>\n",
       "      <td>m</td>\n",
       "    </tr>\n",
       "    <tr>\n",
       "      <th>582</th>\n",
       "      <td>1218</td>\n",
       "      <td>46</td>\n",
       "      <td>76/nm0000076_rm1079950080_1932-2-6_1978.jpg</td>\n",
       "      <td>m</td>\n",
       "    </tr>\n",
       "    <tr>\n",
       "      <th>4081</th>\n",
       "      <td>7006</td>\n",
       "      <td>53</td>\n",
       "      <td>14/nm0000114_rm3459219712_1957-12-13_2010.jpg</td>\n",
       "      <td>m</td>\n",
       "    </tr>\n",
       "    <tr>\n",
       "      <th>8412</th>\n",
       "      <td>14656</td>\n",
       "      <td>50</td>\n",
       "      <td>40/nm0000140_rm4245330432_1944-9-25_1994.jpg</td>\n",
       "      <td>m</td>\n",
       "    </tr>\n",
       "  </tbody>\n",
       "</table>\n",
       "</div>"
      ],
      "text/plain": [
       "         nr  age                                      full_path gender\n",
       "7940  13900   30   39/nm0000139_rm1366989568_1972-8-30_2002.jpg      f\n",
       "1162   2180   44  93/nm0000093_rm3216481024_1963-12-18_2007.jpg      m\n",
       "582    1218   46    76/nm0000076_rm1079950080_1932-2-6_1978.jpg      m\n",
       "4081   7006   53  14/nm0000114_rm3459219712_1957-12-13_2010.jpg      m\n",
       "8412  14656   50   40/nm0000140_rm4245330432_1944-9-25_1994.jpg      m"
      ]
     },
     "execution_count": 9,
     "metadata": {},
     "output_type": "execute_result"
    }
   ],
   "source": [
    "proba_df.head()"
   ]
  },
  {
   "cell_type": "code",
   "execution_count": 10,
   "metadata": {},
   "outputs": [
    {
     "name": "stdout",
     "output_type": "stream",
     "text": [
      "train: 6300 | valid: 1800 | test: 900\n"
     ]
    }
   ],
   "source": [
    "# calculate test train valid data numbers\n",
    "test_num = int(np.floor(0.1 * proba_df.shape[0]))\n",
    "valid_num = int(np.floor(0.2 * proba_df.shape[0]))\n",
    "train_num = int(proba_df.shape[0] - test_num - valid_num)\n",
    "print(\"train: {} | valid: {} | test: {}\".format(train_num, valid_num, test_num))"
   ]
  },
  {
   "cell_type": "code",
   "execution_count": 11,
   "metadata": {},
   "outputs": [
    {
     "name": "stdout",
     "output_type": "stream",
     "text": [
      "train: (6300, 4) | valid: (1800, 4) | test: (900, 4)\n"
     ]
    }
   ],
   "source": [
    "# split the data into train valid and test data\n",
    "train_data = proba_df.iloc[0:train_num, :]\n",
    "\n",
    "valid_data = proba_df.iloc[train_num:train_num + valid_num, :]\n",
    "\n",
    "test_data = proba_df.iloc[ train_num+valid_num:, :]\n",
    "\n",
    "print(\"train: {} | valid: {} | test: {}\".format(train_data.shape, valid_data.shape, test_data.shape))"
   ]
  },
  {
   "cell_type": "code",
   "execution_count": 12,
   "metadata": {},
   "outputs": [
    {
     "data": {
      "text/plain": [
       "'faces_colored/08/nm0000108_rm2615513088_1959-3-18_2006.jpg'"
      ]
     },
     "execution_count": 12,
     "metadata": {},
     "output_type": "execute_result"
    }
   ],
   "source": [
    "image_path = \"faces_colored/\"\n",
    "x_train_p = image_path + train_data['full_path'].values\n",
    "x_valid_p = image_path + valid_data['full_path'].values\n",
    "x_test_p = image_path + test_data['full_path'].values\n",
    "\n",
    "# x_train_l = image_path + train_data['age'].values\n",
    "# x_valid_l = image_path + train_data['age'].values\n",
    "# x_test_l = image_path + train_data['age'].values\n",
    "\n",
    "x_test_p.shape\n",
    "x_test_p[0]"
   ]
  },
  {
   "cell_type": "code",
   "execution_count": 13,
   "metadata": {},
   "outputs": [
    {
     "name": "stdout",
     "output_type": "stream",
     "text": [
      "age: 6300  |  1800\n"
     ]
    },
    {
     "data": {
      "text/plain": [
       "array([30, 44, 46, ..., 49, 43, 50])"
      ]
     },
     "execution_count": 13,
     "metadata": {},
     "output_type": "execute_result"
    }
   ],
   "source": [
    "# get the ages\n",
    "y_train_age = train_data['age'].values\n",
    "y_valid_age = valid_data['age'].values\n",
    "y_test_age = test_data['age'].values\n",
    "\n",
    "print(\"age:\" ,len(y_train_age), \" | \", len(y_valid_age))\n",
    "y_train_age\n"
   ]
  },
  {
   "cell_type": "code",
   "execution_count": 14,
   "metadata": {},
   "outputs": [
    {
     "name": "stdout",
     "output_type": "stream",
     "text": [
      "gender: 6300  |  1800\n"
     ]
    }
   ],
   "source": [
    "y_train_gender = train_data['gender'].values\n",
    "y_valid_gender = valid_data['gender'].values\n",
    "y_test_gender = test_data['gender'].values\n",
    "print(\"gender:\", len(y_train_gender), \" | \", len(y_valid_gender))"
   ]
  },
  {
   "cell_type": "markdown",
   "metadata": {},
   "source": [
    "# Copy train, valid, test data into a new folder"
   ]
  },
  {
   "cell_type": "code",
   "execution_count": 15,
   "metadata": {},
   "outputs": [
    {
     "data": {
      "text/html": [
       "<div>\n",
       "<style scoped>\n",
       "    .dataframe tbody tr th:only-of-type {\n",
       "        vertical-align: middle;\n",
       "    }\n",
       "\n",
       "    .dataframe tbody tr th {\n",
       "        vertical-align: top;\n",
       "    }\n",
       "\n",
       "    .dataframe thead th {\n",
       "        text-align: right;\n",
       "    }\n",
       "</style>\n",
       "<table border=\"1\" class=\"dataframe\">\n",
       "  <thead>\n",
       "    <tr style=\"text-align: right;\">\n",
       "      <th></th>\n",
       "      <th>nr</th>\n",
       "      <th>age</th>\n",
       "      <th>full_path</th>\n",
       "      <th>gender</th>\n",
       "    </tr>\n",
       "  </thead>\n",
       "  <tbody>\n",
       "    <tr>\n",
       "      <th>7940</th>\n",
       "      <td>13900</td>\n",
       "      <td>30</td>\n",
       "      <td>39/nm0000139_rm1366989568_1972-8-30_2002.jpg</td>\n",
       "      <td>f</td>\n",
       "    </tr>\n",
       "    <tr>\n",
       "      <th>1162</th>\n",
       "      <td>2180</td>\n",
       "      <td>44</td>\n",
       "      <td>93/nm0000093_rm3216481024_1963-12-18_2007.jpg</td>\n",
       "      <td>m</td>\n",
       "    </tr>\n",
       "    <tr>\n",
       "      <th>582</th>\n",
       "      <td>1218</td>\n",
       "      <td>46</td>\n",
       "      <td>76/nm0000076_rm1079950080_1932-2-6_1978.jpg</td>\n",
       "      <td>m</td>\n",
       "    </tr>\n",
       "    <tr>\n",
       "      <th>4081</th>\n",
       "      <td>7006</td>\n",
       "      <td>53</td>\n",
       "      <td>14/nm0000114_rm3459219712_1957-12-13_2010.jpg</td>\n",
       "      <td>m</td>\n",
       "    </tr>\n",
       "    <tr>\n",
       "      <th>8412</th>\n",
       "      <td>14656</td>\n",
       "      <td>50</td>\n",
       "      <td>40/nm0000140_rm4245330432_1944-9-25_1994.jpg</td>\n",
       "      <td>m</td>\n",
       "    </tr>\n",
       "  </tbody>\n",
       "</table>\n",
       "</div>"
      ],
      "text/plain": [
       "         nr  age                                      full_path gender\n",
       "7940  13900   30   39/nm0000139_rm1366989568_1972-8-30_2002.jpg      f\n",
       "1162   2180   44  93/nm0000093_rm3216481024_1963-12-18_2007.jpg      m\n",
       "582    1218   46    76/nm0000076_rm1079950080_1932-2-6_1978.jpg      m\n",
       "4081   7006   53  14/nm0000114_rm3459219712_1957-12-13_2010.jpg      m\n",
       "8412  14656   50   40/nm0000140_rm4245330432_1944-9-25_1994.jpg      m"
      ]
     },
     "execution_count": 15,
     "metadata": {},
     "output_type": "execute_result"
    }
   ],
   "source": [
    "proba_df.head()"
   ]
  },
  {
   "cell_type": "code",
   "execution_count": 16,
   "metadata": {
    "scrolled": true
   },
   "outputs": [
    {
     "name": "stdout",
     "output_type": "stream",
     "text": [
      "test_face Direcotry exist\n",
      "train_face Direcotry exist\n",
      "valid_face Direcotry exist\n"
     ]
    }
   ],
   "source": [
    "from shutil import copyfile, copy2\n",
    "try:\n",
    "    os.mkdir(\"test_face\")\n",
    "except FileExistsError:\n",
    "    print(\"test_face Direcotry exist\")\n",
    "    \n",
    "# training \n",
    "try:\n",
    "    os.mkdir(\"train_face\")\n",
    "    # create directory structure\n",
    "    \n",
    "    \n",
    "except FileExistsError:\n",
    "    print(\"train_face Direcotry exist\")\n",
    "    \n",
    "for i in range(100):\n",
    "    try:\n",
    "        if i < 10:\n",
    "        \n",
    "            os.mkdir(\"train_face/0\" + str(i))\n",
    "        else:\n",
    "            os.mkdir(\"train_face/\" + str(i))\n",
    "    except FileExistsError:\n",
    "        continue\n",
    "i = 0\n",
    "dest_path = \"train_face/\"+train_data['full_path'].values\n",
    "for p in x_train_p:\n",
    "    \n",
    "    copy2(p, dest_path[i])\n",
    "    i += 1\n",
    "#     print(\"train_face/\"+train_data['full_path'].values)\n",
    "#     print(dest_path[i])\n",
    "\n",
    "# validation\n",
    "try:\n",
    "    os.mkdir(\"valid_face\")\n",
    "    # create directory structure\n",
    "    \n",
    "    for i in range(100):\n",
    "        try:\n",
    "            if i < 10:\n",
    "            \n",
    "                os.mkdir(\"valid_face/0\" + str(i))\n",
    "            else:\n",
    "                os.mkdir(\"valid_face/\" + str(i))\n",
    "        except FileExistsError:\n",
    "            continue\n",
    "except FileExistsError:\n",
    "    print(\"valid_face Direcotry exist\")\n",
    "    \n",
    "i = 0\n",
    "dest_path = \"valid_face/\"+valid_data['full_path'].values\n",
    "for p in x_valid_p:\n",
    "    \n",
    "    copy2(p, dest_path[i])\n",
    "    i += 1\n",
    "#     print(\"train_face/\"+train_data['full_path'].values)\n",
    "#     print(dest_path[i])"
   ]
  },
  {
   "cell_type": "markdown",
   "metadata": {},
   "source": [
    "# Training and model building"
   ]
  },
  {
   "cell_type": "code",
   "execution_count": 17,
   "metadata": {},
   "outputs": [
    {
     "name": "stderr",
     "output_type": "stream",
     "text": [
      "Using TensorFlow backend.\n",
      "/home/mate/.virtualenvs/deeplearn_gpu/lib/python3.6/site-packages/ipykernel_launcher.py:25: UserWarning: matplotlib.pyplot as already been imported, this call will have no effect.\n"
     ]
    }
   ],
   "source": [
    "# import the necessary packages\n",
    "import sys\n",
    "import os\n",
    "import PIL\n",
    "# import the necessary packages\n",
    "from keras.models import Model\n",
    "from keras.layers.normalization import BatchNormalization\n",
    "from keras.layers.convolutional import Conv2D\n",
    "from keras.layers.convolutional import MaxPooling2D\n",
    "from keras.layers.core import Activation\n",
    "from keras.layers.core import Dropout\n",
    "from keras.layers.core import Lambda\n",
    "from keras.layers.core import Dense\n",
    "from keras.layers import Flatten\n",
    "from keras.layers import Input\n",
    "import tensorflow as tf\n",
    "from keras.optimizers import *\n",
    "from keras.applications import *\n",
    "from keras.models import Model, Sequential\n",
    "from keras.preprocessing.image import ImageDataGenerator\n",
    "from keras.callbacks import ModelCheckpoint, EarlyStopping\n",
    "\n",
    "# set the matplotlib backend so figures can be saved in the background\n",
    "import matplotlib\n",
    "matplotlib.use(\"Agg\")\n",
    " \n",
    "# import the necessary packages\n",
    "from keras.preprocessing.image import ImageDataGenerator\n",
    "from keras.optimizers import Adam\n",
    "from keras.preprocessing.image import img_to_array\n",
    "from sklearn.preprocessing import LabelBinarizer, MultiLabelBinarizer\n",
    "from sklearn.model_selection import train_test_split\n",
    "# from pyimagesearch.smallervggnet import SmallerVGGNet\n",
    "import matplotlib.pyplot as plt\n",
    "# from imutils import paths\n",
    "import numpy as np\n",
    "import argparse\n",
    "import random\n",
    "import pickle\n",
    "import cv2\n",
    "import os"
   ]
  },
  {
   "cell_type": "code",
   "execution_count": 45,
   "metadata": {},
   "outputs": [],
   "source": [
    "class FaceNet:\n",
    "    \n",
    "    @staticmethod\n",
    "    def build_ages_branch(inputs, numAges, finalAct=\"softmax\", chanDim=-1):\n",
    "        # utilize a lambda layer to convert the 3 channel input to a\n",
    "        # grayscale representation\n",
    "\n",
    "        padding = \"same\"\n",
    "        # CONV => RELU => POOL\n",
    "        x = Conv2D(32, (3, 3), padding=padding)(inputs) \n",
    "        x = Activation(\"relu\")(x)\n",
    "        x = BatchNormalization(axis=chanDim)(x)\n",
    "        x = MaxPooling2D(pool_size=(3, 3))(x)\n",
    "        x = Dropout(0.25)(x)\n",
    "        \n",
    "        \n",
    "        x = Conv2D(32, (3, 3), padding=padding)(x)\n",
    "        x = Activation(\"relu\")(x)\n",
    "        x = BatchNormalization(axis=chanDim)(x)\n",
    "        x = Conv2D(32, (3, 3), padding=padding)(x)\n",
    "        x = Activation(\"relu\")(x)\n",
    "        x = BatchNormalization(axis=chanDim)(x)\n",
    "        x = MaxPooling2D(pool_size=(2, 2))(x)\n",
    "        x = Dropout(0.25)(x)\n",
    "        \n",
    "         # (CONV => RELU) * 2 => POOL\n",
    "        x = Conv2D(32, (5, 5), padding=padding)(x)\n",
    "        x = Activation(\"relu\")(x)\n",
    "        x = BatchNormalization(axis=chanDim)(x)\n",
    "        x = Conv2D(32, (3, 3), padding=padding)(x)\n",
    "        x = Activation(\"relu\")(x)\n",
    "        x = BatchNormalization(axis=chanDim)(x)\n",
    "        x = MaxPooling2D(pool_size=(2, 2))(x)\n",
    "        x = Dropout(0.25)(x)\n",
    "\n",
    "#         x = Conv2D(32, (3, 3), padding=padding)(x) \n",
    "#         x = Activation(\"relu\")(x)\n",
    "#         x = BatchNormalization(axis=chanDim)(x)\n",
    "#         x = MaxPooling2D(pool_size=(3, 3))(x)\n",
    "#         x = Conv2D(32, (3, 3), padding=padding)(x) \n",
    "#         x = Activation(\"relu\")(x)\n",
    "#         x = BatchNormalization(axis=chanDim)(x)\n",
    "#         x = MaxPooling2D(pool_size=(3, 3))(x)\n",
    "#         x = Dropout(0.25)(x)\n",
    "        \n",
    "        # (CONV => RELU) * 2 => POOL\n",
    "        x = Conv2D(64, (3, 3), padding=padding)(x)\n",
    "        x = Activation(\"relu\")(x)\n",
    "        x = BatchNormalization(axis=chanDim)(x)\n",
    "        x = Conv2D(64, (3, 3), padding=padding)(x)\n",
    "        x = Activation(\"relu\")(x)\n",
    "        x = BatchNormalization(axis=chanDim)(x)\n",
    "        x = MaxPooling2D(pool_size=(2, 2))(x)\n",
    "        x = Dropout(0.25)(x)\n",
    "        \n",
    "        # (CONV => RELU) * 2 => POOL\n",
    "        x = Conv2D(64, (3, 3), padding=padding)(x)\n",
    "        x = Activation(\"relu\")(x)\n",
    "        x = BatchNormalization(axis=chanDim)(x)\n",
    "        x = Conv2D(64, (3, 3), padding=padding)(x)\n",
    "        x = Activation(\"relu\")(x)\n",
    "        x = BatchNormalization(axis=chanDim)(x)\n",
    "        x = MaxPooling2D(pool_size=(2, 2))(x)\n",
    "        x = Dropout(0.25)(x)\n",
    "        \n",
    "#         # (CONV => RELU) * 2 => POOL\n",
    "#         x = Conv2D(64, (3, 3), padding=padding)(x)\n",
    "#         x = Activation(\"relu\")(x)\n",
    "#         x = BatchNormalization(axis=chanDim)(x)\n",
    "#         x = Conv2D(64, (3, 3), padding=padding)(x)\n",
    "#         x = Activation(\"relu\")(x)\n",
    "#         print(x.shape)\n",
    "#         x = BatchNormalization(axis=chanDim)(x)\n",
    "#         x = MaxPooling2D(pool_size=(2, 2))(x)\n",
    "#         x = Dropout(0.25)(x)\n",
    "        \n",
    " \n",
    "        # (CONV => RELU) * 2 => POOL\n",
    "        x = Conv2D(128, (3, 3), padding=padding)(x)\n",
    "        x = Activation(\"relu\")(x)\n",
    "        x = BatchNormalization(axis=chanDim)(x)\n",
    "        x = Conv2D(128, (3, 3), padding=padding)(x)\n",
    "        x = Activation(\"relu\")(x)\n",
    "        x = BatchNormalization(axis=chanDim)(x)\n",
    "        x = MaxPooling2D(pool_size=(2, 2))(x)\n",
    "        x = Dropout(0.25)(x)\n",
    "\n",
    "#         baseModel = keras_applications.xception.Xception(input_shape=(96,96,3),\n",
    "#                                                 include_top=False, image_data_format=(96,96,3))\n",
    "#         x = baseModel.output()\n",
    "        \n",
    "        # define a branch of output layers for the number of different\n",
    "        # ages\n",
    "        x = Flatten()(x)\n",
    "        x = Dense(256)(x)\n",
    "        x = Activation(\"relu\")(x)\n",
    "        x = BatchNormalization()(x)\n",
    "        x = Dropout(0.5)(x)\n",
    "        x = Dense(numAges)(x)\n",
    "        x = Activation(finalAct, name=\"ages_output\")(x)\n",
    " \n",
    "        # return the category prediction sub-network\n",
    "        return x\n",
    "    \n",
    "\n",
    "    \n",
    "    @staticmethod\n",
    "    def build_gender_branch(inputs, numGender, finalAct=\"softmax\", chanDim=-1):\n",
    "#         padding = \"same\"\n",
    "#         # CONV => RELU => POOL\n",
    "#         x = Conv2D(16, (3, 3), padding=padding)(inputs)\n",
    "#         x = Activation(\"relu\")(x)\n",
    "#         x = BatchNormalization(axis=chanDim)(x)\n",
    "#         x = MaxPooling2D(pool_size=(3, 3))(x)\n",
    "#         x = Dropout(0.25)(x)\n",
    " \n",
    "#         # CONV => RELU => POOL\n",
    "#         x = Conv2D(32, (3, 3), padding=padding)(x)\n",
    "#         x = Activation(\"relu\")(x)\n",
    "#         x = BatchNormalization(axis=chanDim)(x)\n",
    "#         x = MaxPooling2D(pool_size=(2, 2))(x)\n",
    "#         x = Dropout(0.25)(x)\n",
    " \n",
    "#         # CONV => RELU => POOL\n",
    "#         x = Conv2D(32, (5, 5), padding=padding)(x)\n",
    "#         x = Activation(\"relu\")(x)\n",
    "#         x = BatchNormalization(axis=chanDim)(x)\n",
    "#         x = MaxPooling2D(pool_size=(2, 2))(x)\n",
    "#         x = Dropout(0.25)(x)\n",
    "        \n",
    "        padding = \"same\"\n",
    "        # CONV => RELU => POOL\n",
    "        x = Conv2D(32, (3, 3), padding=padding)(inputs) \n",
    "        x = Activation(\"relu\")(x)\n",
    "        x = BatchNormalization(axis=chanDim)(x)\n",
    "        x = MaxPooling2D(pool_size=(3, 3))(x)\n",
    "        x = Dropout(0.25)(x)\n",
    "        \n",
    "        # CONV => RELU => POOL\n",
    "        x = Conv2D(32, (3, 3), padding=padding)(x) \n",
    "        x = Activation(\"relu\")(x)\n",
    "        x = BatchNormalization(axis=chanDim)(x)\n",
    "        x = MaxPooling2D(pool_size=(3, 3))(x)\n",
    "        x = Dropout(0.25)(x)\n",
    "        \n",
    "        # (CONV => RELU) * 2 => POOL\n",
    "        x = Conv2D(64, (5, 5), padding=padding)(x)\n",
    "        x = Activation(\"relu\")(x)\n",
    "        x = BatchNormalization(axis=chanDim)(x)\n",
    "        x = Conv2D(64, (3, 3), padding=padding)(x)\n",
    "        x = Activation(\"relu\")(x)\n",
    "        x = BatchNormalization(axis=chanDim)(x)\n",
    "        x = MaxPooling2D(pool_size=(2, 2))(x)\n",
    "        x = Dropout(0.25)(x)\n",
    "        \n",
    "        \n",
    "        # (CONV => RELU) * 2 => POOL\n",
    "        x = Conv2D(64, (5, 5), padding=padding)(x)\n",
    "        x = Activation(\"relu\")(x)\n",
    "        x = BatchNormalization(axis=chanDim)(x)\n",
    "        x = Conv2D(64, (3, 3), padding=padding)(x)\n",
    "        x = Activation(\"relu\")(x)\n",
    "        x = BatchNormalization(axis=chanDim)(x)\n",
    "        x = MaxPooling2D(pool_size=(2, 2))(x)\n",
    "        x = Dropout(0.25)(x)\n",
    " \n",
    "        # (CONV => RELU) * 2 => POOL\n",
    "        x = Conv2D(128, (3, 3), padding=padding)(x)\n",
    "        x = Activation(\"relu\")(x)\n",
    "        x = BatchNormalization(axis=chanDim)(x)\n",
    "        x = Conv2D(128, (3, 3), padding=padding)(x)\n",
    "        x = Activation(\"relu\")(x)\n",
    "        x = BatchNormalization(axis=chanDim)(x)\n",
    "        x = MaxPooling2D(pool_size=(2, 2))(x)\n",
    "        x = Dropout(0.25)(x)\n",
    "        \n",
    "        # define a branch of output layers for the number of different\n",
    "        # genders\n",
    "        x = Flatten()(x)\n",
    "        x = Dense(128)(x)\n",
    "        x = Activation(\"relu\")(x)\n",
    "        x = BatchNormalization()(x)\n",
    "        x = Dropout(0.5)(x)\n",
    "        x = Dense(numGender)(x)\n",
    "        x = Activation(finalAct, name=\"gender_output\")(x)\n",
    " \n",
    "        # return the color prediction sub-network\n",
    "        return x\n",
    "    \n",
    "    @staticmethod\n",
    "    def build(width, height, numAges, numGenders, finalAct=\"softmax\"):\n",
    "        # initialize the input shape and channel dimension (this code\n",
    "        # assumes you are using TensorFlow which utilizes channels\n",
    "        # last ordering)\n",
    "        inputShape = (height, width, 3)\n",
    "        chanDim = -1\n",
    " \n",
    "        # construct both the \"category\" and \"color\" sub-networks\n",
    "        inputs = Input(shape=inputShape)\n",
    "        agesBranch = FaceNet.build_ages_branch(inputs,\n",
    "            numAges, finalAct=finalAct, chanDim=chanDim)\n",
    "        \n",
    "        genderBranch = FaceNet.build_gender_branch(inputs,\n",
    "            numGenders, finalAct=finalAct, chanDim=chanDim)\n",
    " \n",
    "        # create the model using our input (the batch of images) and\n",
    "        # two separate outputs -- one for the clothing category\n",
    "        # branch and another for the color branch, respectively\n",
    "        model = Model(\n",
    "            inputs=inputs,\n",
    "            outputs=[agesBranch, genderBranch],\n",
    "            name=\"FaceNet\")\n",
    " \n",
    "        # return the constructed network architecture\n",
    "        return model"
   ]
  },
  {
   "cell_type": "code",
   "execution_count": 19,
   "metadata": {},
   "outputs": [],
   "source": [
    "# fix seed for reproducible results (only works on CPU, not GPU)\n",
    "seed = 42\n",
    "np.random.seed(seed=seed)\n",
    "tf.set_random_seed(seed=seed)"
   ]
  },
  {
   "cell_type": "code",
   "execution_count": 20,
   "metadata": {},
   "outputs": [],
   "source": [
    "# initialize the number of epochs to train for, initial learning rate,\n",
    "# batch size, and image dimensions\n",
    "EPOCHS = 100\n",
    "INIT_LR = 1e-3\n",
    "BS = 32\n",
    "IMAGE_DIMS = (96, 96, 3)\n"
   ]
  },
  {
   "cell_type": "code",
   "execution_count": 21,
   "metadata": {},
   "outputs": [
    {
     "name": "stdout",
     "output_type": "stream",
     "text": [
      "train_x: 6300 | valid_x: 1800\n"
     ]
    }
   ],
   "source": [
    "# Create inputs\n",
    "\n",
    "# train\n",
    "# loop over the input images\n",
    "train_x = []\n",
    "for imagePath in x_train_p:\n",
    "    # load the image, pre-process it, and store it in the data list\n",
    "    image = cv2.imread(imagePath)\n",
    "    image = img_to_array(image)\n",
    "    train_x.append(image)\n",
    "    \n",
    "# valid\n",
    "# loop over the input images\n",
    "valid_x = []\n",
    "for imagePath in x_valid_p:\n",
    "    # load the image, pre-process it, and store it in the data list\n",
    "    image = cv2.imread(imagePath)\n",
    "    image = img_to_array(image)\n",
    "    valid_x.append(image)\n",
    " \n",
    "print(\"train_x: {} | valid_x: {}\".format(len(train_x), len(valid_x)))"
   ]
  },
  {
   "cell_type": "code",
   "execution_count": 22,
   "metadata": {},
   "outputs": [],
   "source": [
    "# convert to string\n",
    "y_train_age = y_train_age.astype(\"str\")\n",
    "y_valid_age = y_valid_age.astype(\"str\")\n",
    "y_test_age = y_test_age.astype(\"str\")\n",
    "\n",
    "\n",
    "y_train_gender = y_train_gender.astype(\"str\")\n",
    "y_valid_gender = y_valid_gender.astype(\"str\")\n",
    "y_test_gender = y_test_gender.astype(\"str\")\n",
    "\n",
    "y_train_gen_age = np.core.defchararray.add(y_train_age, y_train_gender)\n",
    "y_valid_gen_age = np.core.defchararray.add(y_valid_age, y_valid_gender)\n",
    "y_test_gen_age = np.core.defchararray.add(y_test_age, y_test_gender)\n"
   ]
  },
  {
   "cell_type": "code",
   "execution_count": 23,
   "metadata": {},
   "outputs": [
    {
     "data": {
      "text/plain": [
       "array(['30f', '44m', '46m', ..., '49m', '43f', '50m'], dtype='<U22')"
      ]
     },
     "execution_count": 23,
     "metadata": {},
     "output_type": "execute_result"
    }
   ],
   "source": [
    "y_train_gen_age"
   ]
  },
  {
   "cell_type": "code",
   "execution_count": 24,
   "metadata": {},
   "outputs": [
    {
     "name": "stdout",
     "output_type": "stream",
     "text": [
      "[INFO] train data matrix: 1360.80MB\n",
      "[INFO] valid data matrix: 388.80MB\n",
      "[INFO] class labels:\n",
      "train_x: 6300\n",
      "y_train_age: 6300\n",
      "valid_x 1800\n",
      "y_valid_age 1800\n"
     ]
    }
   ],
   "source": [
    "# scale the raw pixel intensities to the range [0, 1]\n",
    "train_x = np.array(train_x, dtype=\"float\") / 255.0\n",
    "\n",
    "lb_gender = LabelBinarizer()\n",
    "lb_age = LabelBinarizer()\n",
    "\n",
    "y_train_gender = lb_gender.fit_transform(y_train_gender)\n",
    "y_train_gen_age = lb_age.fit_transform(y_train_gen_age)\n",
    "\n",
    "# print(y_train_gender)\n",
    "\n",
    "y_train_gender = np.array(y_train_gender)\n",
    "y_train_gen_age = np.array(y_train_gen_age)\n",
    "\n",
    "# print(train_y)\n",
    "print(\"[INFO] train data matrix: {:.2f}MB\".format(\n",
    "\ttrain_x.nbytes / (1024 * 1000.0)))\n",
    " \n",
    "# print(y_train_gender)\n",
    "# binarize the labels\n",
    "\n",
    "# scale the raw pixel intensities to the range [0, 1]\n",
    "valid_x = np.array(valid_x, dtype=\"float\") / 255.0\n",
    "\n",
    "y_valid_gender = np.array(y_valid_gender)\n",
    "y_valid_gen_age = np.array(y_valid_gen_age)\n",
    "\n",
    "print(\"[INFO] valid data matrix: {:.2f}MB\".format(\n",
    "\tvalid_x.nbytes / (1024 * 1000.0)))\n",
    " \n",
    "# binarize the labels\n",
    "print(\"[INFO] class labels:\")\n",
    "# mlb = MultiLabelBinarizer()\n",
    "y_valid_gender = lb_gender.transform(y_valid_gender)\n",
    "y_valid_gen_age = lb_age.transform(y_valid_gen_age)\n",
    "    \n",
    "print(\"train_x:\",len(train_x))\n",
    "print(\"y_train_age:\",len(y_train_gen_age))\n",
    "print(\"valid_x\", len(valid_x))\n",
    "print(\"y_valid_age\",len(y_valid_gen_age))"
   ]
  },
  {
   "cell_type": "code",
   "execution_count": 25,
   "metadata": {},
   "outputs": [
    {
     "data": {
      "text/plain": [
       "(6300, 136)"
      ]
     },
     "execution_count": 25,
     "metadata": {},
     "output_type": "execute_result"
    }
   ],
   "source": [
    "y_train_gen_age.shape"
   ]
  },
  {
   "cell_type": "code",
   "execution_count": 26,
   "metadata": {},
   "outputs": [],
   "source": [
    "y_train_gender = [1 - y_train_gender, y_train_gender]\n",
    "y_valid_gender = [1 - y_valid_gender, y_valid_gender]"
   ]
  },
  {
   "cell_type": "code",
   "execution_count": 27,
   "metadata": {},
   "outputs": [],
   "source": [
    "y_train_gender = np.array(y_train_gender).squeeze().T\n",
    "y_valid_gender = np.array(y_valid_gender).squeeze().T"
   ]
  },
  {
   "cell_type": "code",
   "execution_count": 28,
   "metadata": {},
   "outputs": [],
   "source": [
    "# construct the image generator for data augmentation\n",
    "aug = ImageDataGenerator(rotation_range=25, width_shift_range=0.1,\n",
    "\theight_shift_range=0.1, shear_range=0.2, zoom_range=0.2,\n",
    "\thorizontal_flip=True, fill_mode=\"nearest\",\n",
    "#     brightness_range=(0.2,1.0),\n",
    "                        )"
   ]
  },
  {
   "cell_type": "code",
   "execution_count": 46,
   "metadata": {
    "scrolled": true
   },
   "outputs": [
    {
     "name": "stdout",
     "output_type": "stream",
     "text": [
      "Ages number 136 | Gender number 2\n",
      "[INFO] compiling model...\n",
      "[INFO] training network...\n",
      "Train on 6300 samples, validate on 1800 samples\n",
      "Epoch 1/100\n",
      "6300/6300 [==============================] - 37s 6ms/step - loss: 6.4980 - ages_output_loss: 5.5926 - gender_output_loss: 0.9053 - ages_output_acc: 0.0146 - gender_output_acc: 0.5725 - val_loss: 5.7366 - val_ages_output_loss: 5.0619 - val_gender_output_loss: 0.6747 - val_ages_output_acc: 0.0300 - val_gender_output_acc: 0.6650\n",
      "\n",
      "Epoch 00001: val_ages_output_acc improved from -inf to 0.03000, saving model to /home/mate/develop/PycharmProjects/GeFace/multi_model.hdf5\n",
      "Epoch 2/100\n",
      "6300/6300 [==============================] - 29s 5ms/step - loss: 5.6635 - ages_output_loss: 4.9639 - gender_output_loss: 0.6996 - ages_output_acc: 0.0257 - gender_output_acc: 0.6184 - val_loss: 5.3104 - val_ages_output_loss: 4.6916 - val_gender_output_loss: 0.6188 - val_ages_output_acc: 0.0317 - val_gender_output_acc: 0.6661\n",
      "\n",
      "Epoch 00002: val_ages_output_acc improved from 0.03000 to 0.03167, saving model to /home/mate/develop/PycharmProjects/GeFace/multi_model.hdf5\n",
      "Epoch 3/100\n",
      "6300/6300 [==============================] - 30s 5ms/step - loss: 5.2922 - ages_output_loss: 4.6524 - gender_output_loss: 0.6398 - ages_output_acc: 0.0370 - gender_output_acc: 0.6575 - val_loss: 5.0294 - val_ages_output_loss: 4.4313 - val_gender_output_loss: 0.5981 - val_ages_output_acc: 0.0411 - val_gender_output_acc: 0.6978\n",
      "\n",
      "Epoch 00003: val_ages_output_acc improved from 0.03167 to 0.04111, saving model to /home/mate/develop/PycharmProjects/GeFace/multi_model.hdf5\n",
      "Epoch 4/100\n",
      "6300/6300 [==============================] - 30s 5ms/step - loss: 5.1376 - ages_output_loss: 4.5461 - gender_output_loss: 0.5915 - ages_output_acc: 0.0362 - gender_output_acc: 0.6967 - val_loss: 5.0019 - val_ages_output_loss: 4.3968 - val_gender_output_loss: 0.6051 - val_ages_output_acc: 0.0256 - val_gender_output_acc: 0.6856\n",
      "\n",
      "Epoch 00004: val_ages_output_acc did not improve from 0.04111\n",
      "Epoch 5/100\n",
      "6300/6300 [==============================] - 30s 5ms/step - loss: 5.0562 - ages_output_loss: 4.4966 - gender_output_loss: 0.5596 - ages_output_acc: 0.0381 - gender_output_acc: 0.7284 - val_loss: 4.9393 - val_ages_output_loss: 4.3487 - val_gender_output_loss: 0.5906 - val_ages_output_acc: 0.0456 - val_gender_output_acc: 0.7078\n",
      "\n",
      "Epoch 00005: val_ages_output_acc improved from 0.04111 to 0.04556, saving model to /home/mate/develop/PycharmProjects/GeFace/multi_model.hdf5\n",
      "Epoch 6/100\n",
      "6300/6300 [==============================] - 30s 5ms/step - loss: 4.9702 - ages_output_loss: 4.4258 - gender_output_loss: 0.5444 - ages_output_acc: 0.0402 - gender_output_acc: 0.7337 - val_loss: 4.9889 - val_ages_output_loss: 4.3989 - val_gender_output_loss: 0.5900 - val_ages_output_acc: 0.0339 - val_gender_output_acc: 0.7083\n",
      "\n",
      "Epoch 00006: val_ages_output_acc did not improve from 0.04556\n",
      "Epoch 7/100\n",
      "6300/6300 [==============================] - 30s 5ms/step - loss: 4.8958 - ages_output_loss: 4.3654 - gender_output_loss: 0.5304 - ages_output_acc: 0.0456 - gender_output_acc: 0.7432 - val_loss: 5.1827 - val_ages_output_loss: 4.6221 - val_gender_output_loss: 0.5606 - val_ages_output_acc: 0.0350 - val_gender_output_acc: 0.7172\n",
      "\n",
      "Epoch 00007: val_ages_output_acc did not improve from 0.04556\n",
      "Epoch 8/100\n",
      "6300/6300 [==============================] - 30s 5ms/step - loss: 4.8622 - ages_output_loss: 4.3436 - gender_output_loss: 0.5186 - ages_output_acc: 0.0479 - gender_output_acc: 0.7549 - val_loss: 4.8932 - val_ages_output_loss: 4.3175 - val_gender_output_loss: 0.5757 - val_ages_output_acc: 0.0494 - val_gender_output_acc: 0.7311\n",
      "\n",
      "Epoch 00008: val_ages_output_acc improved from 0.04556 to 0.04944, saving model to /home/mate/develop/PycharmProjects/GeFace/multi_model.hdf5\n",
      "Epoch 9/100\n",
      "6300/6300 [==============================] - 30s 5ms/step - loss: 4.8035 - ages_output_loss: 4.2975 - gender_output_loss: 0.5060 - ages_output_acc: 0.0500 - gender_output_acc: 0.7617 - val_loss: 4.8892 - val_ages_output_loss: 4.3704 - val_gender_output_loss: 0.5187 - val_ages_output_acc: 0.0489 - val_gender_output_acc: 0.7567\n",
      "\n",
      "Epoch 00009: val_ages_output_acc did not improve from 0.04944\n",
      "Epoch 10/100\n",
      "6300/6300 [==============================] - 30s 5ms/step - loss: 4.7694 - ages_output_loss: 4.2661 - gender_output_loss: 0.5033 - ages_output_acc: 0.0530 - gender_output_acc: 0.7656 - val_loss: 4.8715 - val_ages_output_loss: 4.3591 - val_gender_output_loss: 0.5124 - val_ages_output_acc: 0.0389 - val_gender_output_acc: 0.7594\n",
      "\n",
      "Epoch 00010: val_ages_output_acc did not improve from 0.04944\n",
      "Epoch 11/100\n",
      "6300/6300 [==============================] - 30s 5ms/step - loss: 4.7187 - ages_output_loss: 4.2361 - gender_output_loss: 0.4826 - ages_output_acc: 0.0543 - gender_output_acc: 0.7757 - val_loss: 4.8121 - val_ages_output_loss: 4.2497 - val_gender_output_loss: 0.5624 - val_ages_output_acc: 0.0600 - val_gender_output_acc: 0.7061\n",
      "\n",
      "Epoch 00011: val_ages_output_acc improved from 0.04944 to 0.06000, saving model to /home/mate/develop/PycharmProjects/GeFace/multi_model.hdf5\n",
      "Epoch 12/100\n",
      "6300/6300 [==============================] - 30s 5ms/step - loss: 4.6929 - ages_output_loss: 4.2135 - gender_output_loss: 0.4795 - ages_output_acc: 0.0571 - gender_output_acc: 0.7730 - val_loss: 4.8919 - val_ages_output_loss: 4.3728 - val_gender_output_loss: 0.5190 - val_ages_output_acc: 0.0589 - val_gender_output_acc: 0.7478\n",
      "\n",
      "Epoch 00012: val_ages_output_acc did not improve from 0.06000\n",
      "Epoch 13/100\n",
      "6300/6300 [==============================] - 30s 5ms/step - loss: 4.6735 - ages_output_loss: 4.1976 - gender_output_loss: 0.4759 - ages_output_acc: 0.0608 - gender_output_acc: 0.7737 - val_loss: 4.7798 - val_ages_output_loss: 4.2411 - val_gender_output_loss: 0.5387 - val_ages_output_acc: 0.0544 - val_gender_output_acc: 0.7239\n",
      "\n",
      "Epoch 00013: val_ages_output_acc did not improve from 0.06000\n",
      "Epoch 14/100\n",
      "6300/6300 [==============================] - 30s 5ms/step - loss: 4.6323 - ages_output_loss: 4.1651 - gender_output_loss: 0.4672 - ages_output_acc: 0.0613 - gender_output_acc: 0.7806 - val_loss: 4.9351 - val_ages_output_loss: 4.3448 - val_gender_output_loss: 0.5903 - val_ages_output_acc: 0.0411 - val_gender_output_acc: 0.7328\n",
      "\n",
      "Epoch 00014: val_ages_output_acc did not improve from 0.06000\n",
      "Epoch 15/100\n",
      "6300/6300 [==============================] - 30s 5ms/step - loss: 4.5785 - ages_output_loss: 4.1140 - gender_output_loss: 0.4645 - ages_output_acc: 0.0624 - gender_output_acc: 0.7848 - val_loss: 4.7632 - val_ages_output_loss: 4.2489 - val_gender_output_loss: 0.5143 - val_ages_output_acc: 0.0628 - val_gender_output_acc: 0.7572\n",
      "\n",
      "Epoch 00015: val_ages_output_acc improved from 0.06000 to 0.06278, saving model to /home/mate/develop/PycharmProjects/GeFace/multi_model.hdf5\n",
      "Epoch 16/100\n",
      "6300/6300 [==============================] - 30s 5ms/step - loss: 4.5432 - ages_output_loss: 4.0851 - gender_output_loss: 0.4581 - ages_output_acc: 0.0662 - gender_output_acc: 0.7867 - val_loss: 4.9700 - val_ages_output_loss: 4.4186 - val_gender_output_loss: 0.5514 - val_ages_output_acc: 0.0411 - val_gender_output_acc: 0.7561\n",
      "\n",
      "Epoch 00016: val_ages_output_acc did not improve from 0.06278\n",
      "Epoch 17/100\n",
      "6300/6300 [==============================] - 30s 5ms/step - loss: 4.4947 - ages_output_loss: 4.0527 - gender_output_loss: 0.4420 - ages_output_acc: 0.0689 - gender_output_acc: 0.7908 - val_loss: 4.8439 - val_ages_output_loss: 4.3067 - val_gender_output_loss: 0.5372 - val_ages_output_acc: 0.0472 - val_gender_output_acc: 0.7572\n",
      "\n",
      "Epoch 00017: val_ages_output_acc did not improve from 0.06278\n",
      "Epoch 18/100\n",
      "6300/6300 [==============================] - 30s 5ms/step - loss: 4.4775 - ages_output_loss: 4.0348 - gender_output_loss: 0.4427 - ages_output_acc: 0.0733 - gender_output_acc: 0.7973 - val_loss: 4.9869 - val_ages_output_loss: 4.3808 - val_gender_output_loss: 0.6061 - val_ages_output_acc: 0.0472 - val_gender_output_acc: 0.7294\n",
      "\n",
      "Epoch 00018: val_ages_output_acc did not improve from 0.06278\n",
      "Epoch 19/100\n",
      "6300/6300 [==============================] - 30s 5ms/step - loss: 4.4558 - ages_output_loss: 4.0234 - gender_output_loss: 0.4324 - ages_output_acc: 0.0711 - gender_output_acc: 0.8013 - val_loss: 4.8199 - val_ages_output_loss: 4.3166 - val_gender_output_loss: 0.5034 - val_ages_output_acc: 0.0489 - val_gender_output_acc: 0.7511\n"
     ]
    },
    {
     "name": "stdout",
     "output_type": "stream",
     "text": [
      "\n",
      "Epoch 00019: val_ages_output_acc did not improve from 0.06278\n",
      "Epoch 20/100\n",
      "6300/6300 [==============================] - 30s 5ms/step - loss: 4.4215 - ages_output_loss: 3.9924 - gender_output_loss: 0.4291 - ages_output_acc: 0.0721 - gender_output_acc: 0.8003 - val_loss: 5.1668 - val_ages_output_loss: 4.6394 - val_gender_output_loss: 0.5274 - val_ages_output_acc: 0.0339 - val_gender_output_acc: 0.7350\n",
      "\n",
      "Epoch 00020: val_ages_output_acc did not improve from 0.06278\n",
      "Epoch 21/100\n",
      "6300/6300 [==============================] - 30s 5ms/step - loss: 4.3804 - ages_output_loss: 3.9599 - gender_output_loss: 0.4205 - ages_output_acc: 0.0816 - gender_output_acc: 0.8056 - val_loss: 4.8310 - val_ages_output_loss: 4.3021 - val_gender_output_loss: 0.5289 - val_ages_output_acc: 0.0567 - val_gender_output_acc: 0.7733\n",
      "\n",
      "Epoch 00021: val_ages_output_acc did not improve from 0.06278\n",
      "Epoch 22/100\n",
      "6300/6300 [==============================] - 30s 5ms/step - loss: 4.3461 - ages_output_loss: 3.9322 - gender_output_loss: 0.4139 - ages_output_acc: 0.0797 - gender_output_acc: 0.8094 - val_loss: 4.6016 - val_ages_output_loss: 4.0958 - val_gender_output_loss: 0.5057 - val_ages_output_acc: 0.0728 - val_gender_output_acc: 0.7667\n",
      "\n",
      "Epoch 00022: val_ages_output_acc improved from 0.06278 to 0.07278, saving model to /home/mate/develop/PycharmProjects/GeFace/multi_model.hdf5\n",
      "Epoch 23/100\n",
      "6300/6300 [==============================] - 29s 5ms/step - loss: 4.3163 - ages_output_loss: 3.9079 - gender_output_loss: 0.4083 - ages_output_acc: 0.0859 - gender_output_acc: 0.8171 - val_loss: 4.6096 - val_ages_output_loss: 4.1387 - val_gender_output_loss: 0.4709 - val_ages_output_acc: 0.0700 - val_gender_output_acc: 0.7839\n",
      "\n",
      "Epoch 00023: val_ages_output_acc did not improve from 0.07278\n",
      "Epoch 24/100\n",
      "6300/6300 [==============================] - 30s 5ms/step - loss: 4.2835 - ages_output_loss: 3.8860 - gender_output_loss: 0.3975 - ages_output_acc: 0.0875 - gender_output_acc: 0.8237 - val_loss: 4.8767 - val_ages_output_loss: 4.2970 - val_gender_output_loss: 0.5797 - val_ages_output_acc: 0.0539 - val_gender_output_acc: 0.7372\n",
      "\n",
      "Epoch 00024: val_ages_output_acc did not improve from 0.07278\n",
      "Epoch 25/100\n",
      "6300/6300 [==============================] - 30s 5ms/step - loss: 4.2647 - ages_output_loss: 3.8771 - gender_output_loss: 0.3876 - ages_output_acc: 0.0878 - gender_output_acc: 0.8224 - val_loss: 4.5665 - val_ages_output_loss: 4.0685 - val_gender_output_loss: 0.4980 - val_ages_output_acc: 0.0761 - val_gender_output_acc: 0.7644\n",
      "\n",
      "Epoch 00025: val_ages_output_acc improved from 0.07278 to 0.07611, saving model to /home/mate/develop/PycharmProjects/GeFace/multi_model.hdf5\n",
      "Epoch 26/100\n",
      "6300/6300 [==============================] - 29s 5ms/step - loss: 4.2194 - ages_output_loss: 3.8473 - gender_output_loss: 0.3721 - ages_output_acc: 0.0943 - gender_output_acc: 0.8362 - val_loss: 4.6374 - val_ages_output_loss: 4.1235 - val_gender_output_loss: 0.5140 - val_ages_output_acc: 0.0744 - val_gender_output_acc: 0.7628\n",
      "\n",
      "Epoch 00026: val_ages_output_acc did not improve from 0.07611\n",
      "Epoch 27/100\n",
      "6300/6300 [==============================] - 29s 5ms/step - loss: 4.1864 - ages_output_loss: 3.8241 - gender_output_loss: 0.3623 - ages_output_acc: 0.0933 - gender_output_acc: 0.8408 - val_loss: 4.6354 - val_ages_output_loss: 4.1198 - val_gender_output_loss: 0.5156 - val_ages_output_acc: 0.0678 - val_gender_output_acc: 0.7644\n",
      "\n",
      "Epoch 00027: val_ages_output_acc did not improve from 0.07611\n",
      "Epoch 28/100\n",
      "6300/6300 [==============================] - 29s 5ms/step - loss: 4.1559 - ages_output_loss: 3.8033 - gender_output_loss: 0.3526 - ages_output_acc: 0.0976 - gender_output_acc: 0.8432 - val_loss: 4.8395 - val_ages_output_loss: 4.3304 - val_gender_output_loss: 0.5091 - val_ages_output_acc: 0.0550 - val_gender_output_acc: 0.7844\n",
      "\n",
      "Epoch 00028: val_ages_output_acc did not improve from 0.07611\n",
      "Epoch 29/100\n",
      "6300/6300 [==============================] - 30s 5ms/step - loss: 4.1095 - ages_output_loss: 3.7604 - gender_output_loss: 0.3491 - ages_output_acc: 0.1060 - gender_output_acc: 0.8489 - val_loss: 4.7297 - val_ages_output_loss: 4.2215 - val_gender_output_loss: 0.5082 - val_ages_output_acc: 0.0644 - val_gender_output_acc: 0.7611\n",
      "\n",
      "Epoch 00029: val_ages_output_acc did not improve from 0.07611\n",
      "Epoch 30/100\n",
      "6300/6300 [==============================] - 29s 5ms/step - loss: 4.0720 - ages_output_loss: 3.7429 - gender_output_loss: 0.3291 - ages_output_acc: 0.1006 - gender_output_acc: 0.8559 - val_loss: 4.7049 - val_ages_output_loss: 4.1383 - val_gender_output_loss: 0.5666 - val_ages_output_acc: 0.0839 - val_gender_output_acc: 0.7761\n",
      "\n",
      "Epoch 00030: val_ages_output_acc improved from 0.07611 to 0.08389, saving model to /home/mate/develop/PycharmProjects/GeFace/multi_model.hdf5\n",
      "Epoch 31/100\n",
      "6300/6300 [==============================] - 29s 5ms/step - loss: 4.0577 - ages_output_loss: 3.7310 - gender_output_loss: 0.3267 - ages_output_acc: 0.1105 - gender_output_acc: 0.8598 - val_loss: 4.6747 - val_ages_output_loss: 4.1660 - val_gender_output_loss: 0.5087 - val_ages_output_acc: 0.0756 - val_gender_output_acc: 0.7750\n",
      "\n",
      "Epoch 00031: val_ages_output_acc did not improve from 0.08389\n",
      "Epoch 32/100\n",
      "6300/6300 [==============================] - 30s 5ms/step - loss: 4.0348 - ages_output_loss: 3.7154 - gender_output_loss: 0.3194 - ages_output_acc: 0.1095 - gender_output_acc: 0.8652 - val_loss: 4.8637 - val_ages_output_loss: 4.3493 - val_gender_output_loss: 0.5144 - val_ages_output_acc: 0.0539 - val_gender_output_acc: 0.7694\n",
      "\n",
      "Epoch 00032: val_ages_output_acc did not improve from 0.08389\n",
      "Epoch 33/100\n",
      "6300/6300 [==============================] - 29s 5ms/step - loss: 3.9770 - ages_output_loss: 3.6669 - gender_output_loss: 0.3101 - ages_output_acc: 0.1229 - gender_output_acc: 0.8646 - val_loss: 4.5316 - val_ages_output_loss: 3.9882 - val_gender_output_loss: 0.5434 - val_ages_output_acc: 0.0989 - val_gender_output_acc: 0.7583\n",
      "\n",
      "Epoch 00033: val_ages_output_acc improved from 0.08389 to 0.09889, saving model to /home/mate/develop/PycharmProjects/GeFace/multi_model.hdf5\n",
      "Epoch 34/100\n",
      "6300/6300 [==============================] - 29s 5ms/step - loss: 3.9607 - ages_output_loss: 3.6629 - gender_output_loss: 0.2978 - ages_output_acc: 0.1167 - gender_output_acc: 0.8749 - val_loss: 4.5662 - val_ages_output_loss: 4.0180 - val_gender_output_loss: 0.5482 - val_ages_output_acc: 0.0956 - val_gender_output_acc: 0.7733\n",
      "\n",
      "Epoch 00034: val_ages_output_acc did not improve from 0.09889\n",
      "Epoch 35/100\n",
      "6300/6300 [==============================] - 30s 5ms/step - loss: 3.9265 - ages_output_loss: 3.6421 - gender_output_loss: 0.2844 - ages_output_acc: 0.1197 - gender_output_acc: 0.8800 - val_loss: 4.6018 - val_ages_output_loss: 4.0179 - val_gender_output_loss: 0.5839 - val_ages_output_acc: 0.1011 - val_gender_output_acc: 0.7633\n",
      "\n",
      "Epoch 00035: val_ages_output_acc improved from 0.09889 to 0.10111, saving model to /home/mate/develop/PycharmProjects/GeFace/multi_model.hdf5\n",
      "Epoch 36/100\n",
      "6300/6300 [==============================] - 30s 5ms/step - loss: 3.8720 - ages_output_loss: 3.6005 - gender_output_loss: 0.2715 - ages_output_acc: 0.1305 - gender_output_acc: 0.8786 - val_loss: 4.6486 - val_ages_output_loss: 4.0576 - val_gender_output_loss: 0.5910 - val_ages_output_acc: 0.0889 - val_gender_output_acc: 0.7644\n",
      "\n",
      "Epoch 00036: val_ages_output_acc did not improve from 0.10111\n",
      "Epoch 37/100\n",
      "6300/6300 [==============================] - 30s 5ms/step - loss: 3.8530 - ages_output_loss: 3.5848 - gender_output_loss: 0.2682 - ages_output_acc: 0.1316 - gender_output_acc: 0.8862 - val_loss: 4.6621 - val_ages_output_loss: 4.1326 - val_gender_output_loss: 0.5295 - val_ages_output_acc: 0.0789 - val_gender_output_acc: 0.7739\n",
      "\n",
      "Epoch 00037: val_ages_output_acc did not improve from 0.10111\n",
      "Epoch 38/100\n",
      "6300/6300 [==============================] - 30s 5ms/step - loss: 3.7925 - ages_output_loss: 3.5446 - gender_output_loss: 0.2479 - ages_output_acc: 0.1351 - gender_output_acc: 0.8981 - val_loss: 4.6764 - val_ages_output_loss: 4.0658 - val_gender_output_loss: 0.6106 - val_ages_output_acc: 0.0911 - val_gender_output_acc: 0.7489\n",
      "\n",
      "Epoch 00038: val_ages_output_acc did not improve from 0.10111\n",
      "Epoch 39/100\n"
     ]
    },
    {
     "name": "stdout",
     "output_type": "stream",
     "text": [
      "6300/6300 [==============================] - 31s 5ms/step - loss: 3.7716 - ages_output_loss: 3.5188 - gender_output_loss: 0.2529 - ages_output_acc: 0.1427 - gender_output_acc: 0.8941 - val_loss: 4.7703 - val_ages_output_loss: 4.1544 - val_gender_output_loss: 0.6160 - val_ages_output_acc: 0.0811 - val_gender_output_acc: 0.7706\n",
      "\n",
      "Epoch 00039: val_ages_output_acc did not improve from 0.10111\n",
      "Epoch 40/100\n",
      "6300/6300 [==============================] - 29s 5ms/step - loss: 3.7363 - ages_output_loss: 3.4965 - gender_output_loss: 0.2398 - ages_output_acc: 0.1462 - gender_output_acc: 0.9032 - val_loss: 4.6058 - val_ages_output_loss: 4.0474 - val_gender_output_loss: 0.5584 - val_ages_output_acc: 0.0856 - val_gender_output_acc: 0.7611\n",
      "\n",
      "Epoch 00040: val_ages_output_acc did not improve from 0.10111\n",
      "Epoch 41/100\n",
      "6300/6300 [==============================] - 29s 5ms/step - loss: 3.6727 - ages_output_loss: 3.4588 - gender_output_loss: 0.2139 - ages_output_acc: 0.1530 - gender_output_acc: 0.9130 - val_loss: 4.8575 - val_ages_output_loss: 4.2094 - val_gender_output_loss: 0.6481 - val_ages_output_acc: 0.0789 - val_gender_output_acc: 0.7694\n",
      "\n",
      "Epoch 00041: val_ages_output_acc did not improve from 0.10111\n",
      "Epoch 42/100\n",
      "6300/6300 [==============================] - 29s 5ms/step - loss: 3.6503 - ages_output_loss: 3.4306 - gender_output_loss: 0.2197 - ages_output_acc: 0.1532 - gender_output_acc: 0.9106 - val_loss: 4.9417 - val_ages_output_loss: 4.2165 - val_gender_output_loss: 0.7252 - val_ages_output_acc: 0.0750 - val_gender_output_acc: 0.7522\n",
      "\n",
      "Epoch 00042: val_ages_output_acc did not improve from 0.10111\n",
      "Epoch 43/100\n",
      "6300/6300 [==============================] - 29s 5ms/step - loss: 3.6008 - ages_output_loss: 3.3844 - gender_output_loss: 0.2164 - ages_output_acc: 0.1703 - gender_output_acc: 0.9135 - val_loss: 4.8200 - val_ages_output_loss: 4.1118 - val_gender_output_loss: 0.7082 - val_ages_output_acc: 0.0967 - val_gender_output_acc: 0.7633\n",
      "\n",
      "Epoch 00043: val_ages_output_acc did not improve from 0.10111\n",
      "Epoch 44/100\n",
      "6300/6300 [==============================] - 29s 5ms/step - loss: 3.5813 - ages_output_loss: 3.3746 - gender_output_loss: 0.2067 - ages_output_acc: 0.1687 - gender_output_acc: 0.9190 - val_loss: 4.7165 - val_ages_output_loss: 4.0963 - val_gender_output_loss: 0.6201 - val_ages_output_acc: 0.0956 - val_gender_output_acc: 0.7617\n",
      "\n",
      "Epoch 00044: val_ages_output_acc did not improve from 0.10111\n",
      "Epoch 45/100\n",
      "6300/6300 [==============================] - 29s 5ms/step - loss: 3.5240 - ages_output_loss: 3.3353 - gender_output_loss: 0.1887 - ages_output_acc: 0.1740 - gender_output_acc: 0.9279 - val_loss: 4.8442 - val_ages_output_loss: 4.1222 - val_gender_output_loss: 0.7221 - val_ages_output_acc: 0.1000 - val_gender_output_acc: 0.7661\n",
      "\n",
      "Epoch 00045: val_ages_output_acc did not improve from 0.10111\n",
      "Epoch 46/100\n",
      "6300/6300 [==============================] - 29s 5ms/step - loss: 3.5050 - ages_output_loss: 3.3019 - gender_output_loss: 0.2031 - ages_output_acc: 0.1748 - gender_output_acc: 0.9237 - val_loss: 4.9342 - val_ages_output_loss: 4.2048 - val_gender_output_loss: 0.7294 - val_ages_output_acc: 0.0900 - val_gender_output_acc: 0.7467\n",
      "\n",
      "Epoch 00046: val_ages_output_acc did not improve from 0.10111\n",
      "Epoch 47/100\n",
      "6300/6300 [==============================] - 29s 5ms/step - loss: 3.4568 - ages_output_loss: 3.2651 - gender_output_loss: 0.1917 - ages_output_acc: 0.1884 - gender_output_acc: 0.9246 - val_loss: 4.9332 - val_ages_output_loss: 4.2634 - val_gender_output_loss: 0.6697 - val_ages_output_acc: 0.0844 - val_gender_output_acc: 0.7483\n",
      "\n",
      "Epoch 00047: val_ages_output_acc did not improve from 0.10111\n",
      "Epoch 48/100\n",
      "6300/6300 [==============================] - 29s 5ms/step - loss: 3.4503 - ages_output_loss: 3.2697 - gender_output_loss: 0.1806 - ages_output_acc: 0.1843 - gender_output_acc: 0.9310 - val_loss: 4.7321 - val_ages_output_loss: 4.0602 - val_gender_output_loss: 0.6719 - val_ages_output_acc: 0.1156 - val_gender_output_acc: 0.7656\n",
      "\n",
      "Epoch 00048: val_ages_output_acc improved from 0.10111 to 0.11556, saving model to /home/mate/develop/PycharmProjects/GeFace/multi_model.hdf5\n",
      "Epoch 49/100\n",
      "6300/6300 [==============================] - 30s 5ms/step - loss: 3.4080 - ages_output_loss: 3.2287 - gender_output_loss: 0.1793 - ages_output_acc: 0.1917 - gender_output_acc: 0.9317 - val_loss: 4.8830 - val_ages_output_loss: 4.1789 - val_gender_output_loss: 0.7042 - val_ages_output_acc: 0.0967 - val_gender_output_acc: 0.7606\n",
      "\n",
      "Epoch 00049: val_ages_output_acc did not improve from 0.11556\n",
      "Epoch 50/100\n",
      "6300/6300 [==============================] - 30s 5ms/step - loss: 3.3493 - ages_output_loss: 3.1829 - gender_output_loss: 0.1663 - ages_output_acc: 0.2048 - gender_output_acc: 0.9390 - val_loss: 4.7619 - val_ages_output_loss: 4.1030 - val_gender_output_loss: 0.6589 - val_ages_output_acc: 0.1078 - val_gender_output_acc: 0.7622\n",
      "\n",
      "Epoch 00050: val_ages_output_acc did not improve from 0.11556\n",
      "Epoch 51/100\n",
      "6300/6300 [==============================] - 30s 5ms/step - loss: 3.3227 - ages_output_loss: 3.1576 - gender_output_loss: 0.1650 - ages_output_acc: 0.2087 - gender_output_acc: 0.9346 - val_loss: 4.8443 - val_ages_output_loss: 4.0916 - val_gender_output_loss: 0.7527 - val_ages_output_acc: 0.1100 - val_gender_output_acc: 0.7639\n",
      "\n",
      "Epoch 00051: val_ages_output_acc did not improve from 0.11556\n",
      "Epoch 52/100\n",
      "6300/6300 [==============================] - 31s 5ms/step - loss: 3.3038 - ages_output_loss: 3.1423 - gender_output_loss: 0.1615 - ages_output_acc: 0.2024 - gender_output_acc: 0.9373 - val_loss: 4.7909 - val_ages_output_loss: 4.0830 - val_gender_output_loss: 0.7079 - val_ages_output_acc: 0.1222 - val_gender_output_acc: 0.7539\n",
      "\n",
      "Epoch 00052: val_ages_output_acc improved from 0.11556 to 0.12222, saving model to /home/mate/develop/PycharmProjects/GeFace/multi_model.hdf5\n",
      "Epoch 53/100\n",
      "6300/6300 [==============================] - 30s 5ms/step - loss: 3.2668 - ages_output_loss: 3.1070 - gender_output_loss: 0.1598 - ages_output_acc: 0.2221 - gender_output_acc: 0.9408 - val_loss: 4.7874 - val_ages_output_loss: 4.1381 - val_gender_output_loss: 0.6493 - val_ages_output_acc: 0.1189 - val_gender_output_acc: 0.7589\n",
      "\n",
      "Epoch 00053: val_ages_output_acc did not improve from 0.12222\n",
      "Epoch 54/100\n",
      "6300/6300 [==============================] - 29s 5ms/step - loss: 3.1938 - ages_output_loss: 3.0438 - gender_output_loss: 0.1500 - ages_output_acc: 0.2346 - gender_output_acc: 0.9425 - val_loss: 4.8198 - val_ages_output_loss: 4.0934 - val_gender_output_loss: 0.7264 - val_ages_output_acc: 0.1200 - val_gender_output_acc: 0.7656\n",
      "\n",
      "Epoch 00054: val_ages_output_acc did not improve from 0.12222\n",
      "Epoch 55/100\n",
      "6300/6300 [==============================] - 29s 5ms/step - loss: 3.1488 - ages_output_loss: 3.0116 - gender_output_loss: 0.1372 - ages_output_acc: 0.2324 - gender_output_acc: 0.9465 - val_loss: 4.9124 - val_ages_output_loss: 4.1226 - val_gender_output_loss: 0.7898 - val_ages_output_acc: 0.1317 - val_gender_output_acc: 0.7678\n",
      "\n",
      "Epoch 00055: val_ages_output_acc improved from 0.12222 to 0.13167, saving model to /home/mate/develop/PycharmProjects/GeFace/multi_model.hdf5\n",
      "Epoch 56/100\n",
      "6300/6300 [==============================] - 29s 5ms/step - loss: 3.1471 - ages_output_loss: 2.9944 - gender_output_loss: 0.1527 - ages_output_acc: 0.2422 - gender_output_acc: 0.9386 - val_loss: 4.8784 - val_ages_output_loss: 4.1401 - val_gender_output_loss: 0.7384 - val_ages_output_acc: 0.1206 - val_gender_output_acc: 0.7728\n",
      "\n",
      "Epoch 00056: val_ages_output_acc did not improve from 0.13167\n",
      "Epoch 57/100\n",
      "6300/6300 [==============================] - 29s 5ms/step - loss: 3.1017 - ages_output_loss: 2.9617 - gender_output_loss: 0.1401 - ages_output_acc: 0.2413 - gender_output_acc: 0.9478 - val_loss: 4.9228 - val_ages_output_loss: 4.1580 - val_gender_output_loss: 0.7648 - val_ages_output_acc: 0.1356 - val_gender_output_acc: 0.7656\n",
      "\n",
      "Epoch 00057: val_ages_output_acc improved from 0.13167 to 0.13556, saving model to /home/mate/develop/PycharmProjects/GeFace/multi_model.hdf5\n",
      "Epoch 58/100\n",
      "6300/6300 [==============================] - 29s 5ms/step - loss: 3.0712 - ages_output_loss: 2.9307 - gender_output_loss: 0.1404 - ages_output_acc: 0.2500 - gender_output_acc: 0.9484 - val_loss: 5.0145 - val_ages_output_loss: 4.2494 - val_gender_output_loss: 0.7651 - val_ages_output_acc: 0.1039 - val_gender_output_acc: 0.7689\n"
     ]
    },
    {
     "name": "stdout",
     "output_type": "stream",
     "text": [
      "\n",
      "Epoch 00058: val_ages_output_acc did not improve from 0.13556\n",
      "Epoch 00058: early stopping\n",
      "[INFO] serializing network...\n",
      "[INFO] serializing category label binarizer...\n",
      "[INFO] serializing color label binarizer...\n"
     ]
    }
   ],
   "source": [
    "# initialize the model\n",
    "print(\"Ages number\", len(lb_age.classes_), \"| Gender number\" ,len(lb_gender.classes_))\n",
    "print(\"[INFO] compiling model...\")\n",
    "# load model\n",
    "model = FaceNet.build(IMAGE_DIMS[0], IMAGE_DIMS[1], numGenders=len(lb_gender.classes_), numAges=len(lb_age.classes_), finalAct=\"softmax\")\n",
    "# create optimazitions method\n",
    "opt = Adam(lr=INIT_LR, decay=INIT_LR / EPOCHS)\n",
    "\n",
    "#model.compile(loss=\"categorical_crossentropy\", optimizer=opt,\n",
    "#\tmetrics=[\"accuracy\"])\n",
    "losses = {\n",
    "\t\"ages_output\": \"categorical_crossentropy\",\n",
    "\t\"gender_output\": \"categorical_crossentropy\",\n",
    "}\n",
    "lossWeights = {\"ages_output\": 1.0, \"gender_output\": 1.0}\n",
    "\n",
    "model.compile(loss=losses, optimizer=opt,\n",
    "\tmetrics=[\"accuracy\"])\n",
    "\n",
    "# Create callback list for checkpoint and Earlystopping\n",
    "callbacks_list = [\n",
    "        ModelCheckpoint(project_path+\"multi_model.hdf5\", monitor='val_ages_output_acc', verbose=1, save_best_only=True),\n",
    "        EarlyStopping(monitor='val_ages_output_loss', patience=25, verbose=1)\n",
    "    ]\n",
    "\n",
    "# train the network\n",
    "print(\"[INFO] training network...\")\n",
    "\n",
    "History = model.fit(\n",
    "        train_x,\n",
    "        {\"ages_output\": y_train_gen_age, \"gender_output\": y_train_gender},\n",
    "        validation_data=(valid_x,\n",
    "        {\"ages_output\": y_valid_gen_age, \"gender_output\": y_valid_gender}),\n",
    "        epochs=EPOCHS,\n",
    "        verbose=1,\n",
    "        callbacks=callbacks_list,\n",
    "     )\n",
    "\n",
    "\n",
    "# save the model to disk\n",
    "print(\"[INFO] serializing network...\")\n",
    "model.save(project_path+\"multi_model.hdf5\")\n",
    " \n",
    "# save the category binarizer to disk\n",
    "print(\"[INFO] serializing category label binarizer...\")\n",
    "f = open(project_path+\"ages.label\", \"wb\")\n",
    "f.write(pickle.dumps(lb_age))\n",
    "f.close()\n",
    " \n",
    "# save the color binarizer to disk\n",
    "print(\"[INFO] serializing color label binarizer...\")\n",
    "f = open(project_path+\"gender.label\", \"wb\")\n",
    "f.write(pickle.dumps(lb_gender))\n",
    "f.close()"
   ]
  },
  {
   "cell_type": "code",
   "execution_count": 47,
   "metadata": {},
   "outputs": [],
   "source": [
    "REAL_EPOCH = len(History.epoch)\n",
    "# print(y_train_gender)"
   ]
  },
  {
   "cell_type": "code",
   "execution_count": 48,
   "metadata": {},
   "outputs": [
    {
     "data": {
      "text/plain": [
       "58"
      ]
     },
     "execution_count": 48,
     "metadata": {},
     "output_type": "execute_result"
    }
   ],
   "source": [
    "len(History.epoch)"
   ]
  },
  {
   "cell_type": "code",
   "execution_count": 49,
   "metadata": {},
   "outputs": [
    {
     "data": {
      "image/png": "[encoded data removed]",
      "text/plain": [
       "<Figure size 576x576 with 2 Axes>"
      ]
     },
     "metadata": {},
     "output_type": "display_data"
    }
   ],
   "source": [
    "accuracy_names = [\"val_ages_output_acc\", \"val_gender_output_acc\"]\n",
    "plt.style.use(\"ggplot\")\n",
    "\n",
    "(fig, ax) = plt.subplots(2, 1, figsize=(8,8))\n",
    "\n",
    "for (i, l) in enumerate(accuracy_names):\n",
    "    ax[i].set_title(\"Accuracy for {}\".format(l))\n",
    "    ax[i].set_xlabel(\"Epochs\")\n",
    "    ax[i].set_ylabel(\"Accuracy\")\n",
    "    ax[i].plot(np.arange(0, REAL_EPOCH), History.history[l], label=l)\n",
    "    ax[i].plot(np.arange(0, REAL_EPOCH), History.history[l],label=l)\n",
    "    ax[i].legend()\n",
    "    \n",
    "    plt.tight_layout()\n",
    "    plt.savefig(\"multi.png\")\n",
    "    \n"
   ]
  },
  {
   "cell_type": "code",
   "execution_count": 50,
   "metadata": {},
   "outputs": [
    {
     "data": {
      "image/png": "[encoded data removed]",
      "text/plain": [
       "<Figure size 576x576 with 2 Axes>"
      ]
     },
     "metadata": {},
     "output_type": "display_data"
    }
   ],
   "source": [
    "    # create a new figure for the accuracies\n",
    "accuracyNames = [\"ages_output_acc\", \"gender_output_acc\"]\n",
    "plt.style.use(\"ggplot\")\n",
    "(fig, ax) = plt.subplots(2, 1, figsize=(8, 8))\n",
    " \n",
    "# loop over the accuracy names\n",
    "for (i, l) in enumerate(accuracyNames):\n",
    "\t# plot the loss for both the training and validation data\n",
    "\tax[i].set_title(\"Accuracy for {}\".format(l))\n",
    "\tax[i].set_xlabel(\"Epoch #\")\n",
    "\tax[i].set_ylabel(\"Accuracy\")\n",
    "\tax[i].plot(np.arange(0, REAL_EPOCH), History.history[l], label=l)\n",
    "\tax[i].plot(np.arange(0, REAL_EPOCH), History.history[\"val_\" + l],\n",
    "\t\tlabel=\"val_\" + l)\n",
    "\tax[i].legend()\n",
    " \n",
    "# save the accuracies figure\n",
    "plt.tight_layout()\n",
    "plt.savefig(\"multi_accs.png\")"
   ]
  },
  {
   "cell_type": "code",
   "execution_count": 51,
   "metadata": {},
   "outputs": [],
   "source": [
    "from keras.models import load_model\n"
   ]
  },
  {
   "cell_type": "code",
   "execution_count": 61,
   "metadata": {},
   "outputs": [
    {
     "name": "stdout",
     "output_type": "stream",
     "text": [
      "1\n",
      "[INFO] loading network...\n",
      "[INFO] classifying image...\n",
      "[INFO] age: 31f (14.60%)\n",
      "[INFO] gender: m (99.84%)\n"
     ]
    },
    {
     "data": {
      "text/plain": [
       "<matplotlib.image.AxesImage at 0x7fed0544e2e8>"
      ]
     },
     "execution_count": 61,
     "metadata": {},
     "output_type": "execute_result"
    },
    {
     "data": {
      "image/png": "[encoded data removed]",
      "text/plain": [
       "<Figure size 432x288 with 1 Axes>"
      ]
     },
     "metadata": {},
     "output_type": "display_data"
    }
   ],
   "source": [
    "\n",
    "# load the image\n",
    "image = cv2.imread(project_path+\"viki_dekany.jpg\")\n",
    "#image = cv2.imread(project_path+\"faces_colored/01/nm0000001_rm124825600_1899-5-10_1968.jpg\")\n",
    "# image = cv2.imread(\"/home/mate/Pictures/dorka1.jpg\")\n",
    "face_cascade = cv2.CascadeClassifier('detector/haarcascade_frontalface_default.xml')\n",
    "\n",
    "gray = cv2.cvtColor(image, cv2.COLOR_BGR2GRAY)\n",
    "faces = face_cascade.detectMultiScale(gray, 1.1, 5)\n",
    "\n",
    "bb = []\n",
    "i = 0\n",
    "output = image.copy()\n",
    "for (x,y,w,h) in faces:\n",
    "    bb.append([w * h, i])\n",
    "    cv2.rectangle(output,(x,y),(x+w,y+h),(255,0,0),2)\n",
    " #   roi_gray = gray[y:y+h, x:x+w]\n",
    "    roi_color = image[y:y+h, x:x+w]\n",
    "    i += 1\n",
    "    print(i)\n",
    "    break\n",
    "\n",
    "# pre-process the image for classification\n",
    "image = cv2.resize(image, (96, 96))\n",
    "image = image.astype(\"float\") / 255.0\n",
    "image = img_to_array(image)\n",
    "image = np.expand_dims(image, axis=0)\n",
    "\n",
    "# load the trained convolutional neural network from disk, followed\n",
    "# by the category and color label binarizers, respectively\n",
    "print(\"[INFO] loading network...\")\n",
    "model = load_model(\"multi_model.hdf5\", custom_objects={\"tf\": tf})\n",
    "agesLB = pickle.loads(open(\"ages.label\", \"rb\").read())\n",
    "genderLB = pickle.loads(open(\"gender.label\", \"rb\").read())\n",
    " \n",
    "# classify the input image using Keras' multi-output functionality\n",
    "print(\"[INFO] classifying image...\")\n",
    "(agesProba, genderProba) = model.predict(image)\n",
    " \n",
    "# find indexes of both the category and color outputs with the\n",
    "# largest probabilities, then determine the corresponding class\n",
    "# labels\n",
    "agesIdx = agesProba[0].argmax()\n",
    "genderIdx = genderProba[0].argmax()\n",
    "\n",
    "agesLabel = agesLB.classes_[agesIdx]\n",
    "genderLabel = genderLB.classes_[genderIdx]\n",
    "\n",
    "# draw the category label and color label on the image\n",
    "agesText = \"age: {} ({:.2f}%)\".format(agesLabel,\n",
    "\tagesProba[0][agesIdx] * 100)\n",
    "\n",
    "genderText = \"gender: {} ({:.2f}%)\".format(genderLabel,\n",
    "\tgenderProba[0][genderIdx] * 100)\n",
    "\n",
    "cv2.putText(output, agesText, (10, 25), cv2.FONT_HERSHEY_SIMPLEX,\n",
    "\t0.7, (0, 255, 0), 2)\n",
    "cv2.putText(output, genderText, (10, 55), cv2.FONT_HERSHEY_SIMPLEX,\n",
    "\t0.7, (0, 255, 0), 2)\n",
    " \n",
    "# display the predictions to the terminal as well\n",
    "print(\"[INFO] {}\".format(agesText))\n",
    "print(\"[INFO] {}\".format(genderText))\n",
    "# show the probabilities for each of the individual labels\n",
    "output = cv2.cvtColor(output, cv2.COLOR_BGR2RGB)\n",
    "# show the output image\n",
    "# print(\"[INFO] {} years old\".format(label))\n",
    "plt.imshow(output,)"
   ]
  },
  {
   "cell_type": "code",
   "execution_count": null,
   "metadata": {},
   "outputs": [],
   "source": [
    "History.model.count_params()"
   ]
  },
  {
   "cell_type": "code",
   "execution_count": null,
   "metadata": {},
   "outputs": [],
   "source": []
  }
 ],
 "metadata": {
  "kernelspec": {
   "display_name": "Python 3",
   "language": "python",
   "name": "python3"
  },
  "language_info": {
   "codemirror_mode": {
    "name": "ipython",
    "version": 3
   },
   "file_extension": ".py",
   "mimetype": "text/x-python",
   "name": "python",
   "nbconvert_exporter": "python",
   "pygments_lexer": "ipython3",
   "version": "3.6.5"
  }
 },
 "nbformat": 4,
 "nbformat_minor": 2
}
