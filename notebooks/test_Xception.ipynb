{
 "cells": [
  {
   "cell_type": "code",
   "execution_count": 1,
   "metadata": {},
   "outputs": [],
   "source": [
    "import numpy as np\n",
    "import pandas as pd"
   ]
  },
  {
   "cell_type": "code",
   "execution_count": 2,
   "metadata": {},
   "outputs": [],
   "source": [
    "test_csv = \"/home/mate/develop/PycharmProjects/GeFace/test/test_data.csv\"\n",
    "df = pd.read_csv(test_csv)"
   ]
  },
  {
   "cell_type": "code",
   "execution_count": 3,
   "metadata": {},
   "outputs": [
    {
     "data": {
      "text/html": [
       "<div>\n",
       "<style scoped>\n",
       "    .dataframe tbody tr th:only-of-type {\n",
       "        vertical-align: middle;\n",
       "    }\n",
       "\n",
       "    .dataframe tbody tr th {\n",
       "        vertical-align: top;\n",
       "    }\n",
       "\n",
       "    .dataframe thead th {\n",
       "        text-align: right;\n",
       "    }\n",
       "</style>\n",
       "<table border=\"1\" class=\"dataframe\">\n",
       "  <thead>\n",
       "    <tr style=\"text-align: right;\">\n",
       "      <th></th>\n",
       "      <th>Unnamed: 0</th>\n",
       "      <th>x_test_path</th>\n",
       "      <th>y_test_age</th>\n",
       "      <th>y_test_gender</th>\n",
       "    </tr>\n",
       "  </thead>\n",
       "  <tbody>\n",
       "    <tr>\n",
       "      <th>0</th>\n",
       "      <td>0</td>\n",
       "      <td>faces_colored/73/nm0000673_rm1920911360_1964-1...</td>\n",
       "      <td>23.0</td>\n",
       "      <td>f</td>\n",
       "    </tr>\n",
       "    <tr>\n",
       "      <th>1</th>\n",
       "      <td>1</td>\n",
       "      <td>faces_colored/37/nm0005137_rm1375568640_1961-4...</td>\n",
       "      <td>49.0</td>\n",
       "      <td>f</td>\n",
       "    </tr>\n",
       "    <tr>\n",
       "      <th>2</th>\n",
       "      <td>2</td>\n",
       "      <td>faces_colored/00/nm0321800_rm1232569088_1982-1...</td>\n",
       "      <td>28.0</td>\n",
       "      <td>f</td>\n",
       "    </tr>\n",
       "    <tr>\n",
       "      <th>3</th>\n",
       "      <td>3</td>\n",
       "      <td>faces_colored/73/nm0416673_rm1596496128_1965-4...</td>\n",
       "      <td>42.0</td>\n",
       "      <td>m</td>\n",
       "    </tr>\n",
       "    <tr>\n",
       "      <th>4</th>\n",
       "      <td>4</td>\n",
       "      <td>faces_colored/68/nm0001368_rm13947136_1945-12-...</td>\n",
       "      <td>52.0</td>\n",
       "      <td>m</td>\n",
       "    </tr>\n",
       "  </tbody>\n",
       "</table>\n",
       "</div>"
      ],
      "text/plain": [
       "   Unnamed: 0                                        x_test_path  y_test_age  \\\n",
       "0           0  faces_colored/73/nm0000673_rm1920911360_1964-1...        23.0   \n",
       "1           1  faces_colored/37/nm0005137_rm1375568640_1961-4...        49.0   \n",
       "2           2  faces_colored/00/nm0321800_rm1232569088_1982-1...        28.0   \n",
       "3           3  faces_colored/73/nm0416673_rm1596496128_1965-4...        42.0   \n",
       "4           4  faces_colored/68/nm0001368_rm13947136_1945-12-...        52.0   \n",
       "\n",
       "  y_test_gender  \n",
       "0             f  \n",
       "1             f  \n",
       "2             f  \n",
       "3             m  \n",
       "4             m  "
      ]
     },
     "execution_count": 3,
     "metadata": {},
     "output_type": "execute_result"
    }
   ],
   "source": [
    "df.head()"
   ]
  },
  {
   "cell_type": "code",
   "execution_count": null,
   "metadata": {},
   "outputs": [],
   "source": []
  }
 ],
 "metadata": {
  "kernelspec": {
   "display_name": "Python 3",
   "language": "python",
   "name": "python3"
  },
  "language_info": {
   "codemirror_mode": {
    "name": "ipython",
    "version": 3
   },
   "file_extension": ".py",
   "mimetype": "text/x-python",
   "name": "python",
   "nbconvert_exporter": "python",
   "pygments_lexer": "ipython3",
   "version": "3.6.5"
  }
 },
 "nbformat": 4,
 "nbformat_minor": 2
}
