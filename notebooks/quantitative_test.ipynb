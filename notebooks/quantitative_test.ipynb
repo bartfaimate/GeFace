{
 "cells": [
  {
   "cell_type": "code",
   "execution_count": 0,
   "metadata": {
    "colab": {},
    "colab_type": "code",
    "id": "OWWGDZ4umZCw"
   },
   "outputs": [],
   "source": [
    "# includes\n",
    "import pandas as pd\n",
    "import numpy as np\n",
    "from sklearn.preprocessing import StandardScaler"
   ]
  },
  {
   "cell_type": "code",
   "execution_count": 0,
   "metadata": {
    "colab": {},
    "colab_type": "code",
    "id": "mZW2p6CUrnfx"
   },
   "outputs": [],
   "source": [
    "# define functions\n",
    "def confusion_matrix(data_array, labels):\n",
    "    cm = np.zeros((2, 2), int)\n",
    "    for i in range(len(data_array)):\n",
    "        if data_array[i] == 'm':\n",
    "          res_max = 0\n",
    "        else:\n",
    "          res_max = 1\n",
    "        if labels[i] == 'm':\n",
    "          target = 0\n",
    "        else:\n",
    "          target = 1\n",
    "        cm[res_max, int(target)] += 1\n",
    "    return cm\n",
    "  \n",
    "def precision(label, confusion_matrix):\n",
    "    col = confusion_matrix[:, label]\n",
    "    return confusion_matrix[label, label] / col.sum()\n",
    "  \n",
    "def recall(label, confusion_matrix):\n",
    "        row = confusion_matrix[label, :]\n",
    "        return confusion_matrix[label, label] / row.sum()"
   ]
  },
  {
   "cell_type": "code",
   "execution_count": 0,
   "metadata": {
    "colab": {},
    "colab_type": "code",
    "id": "m1XvjMEcmc26"
   },
   "outputs": [],
   "source": [
    "test_df = pd.read_csv(\"test_results.csv\",index_col=0)"
   ]
  },
  {
   "cell_type": "code",
   "execution_count": 68,
   "metadata": {
    "colab": {
     "base_uri": "https://localhost:8080/",
     "height": 200
    },
    "colab_type": "code",
    "id": "mU2SHODAsF0L",
    "outputId": "2e7f6654-dde1-4eb2-a88a-cac53b537c75"
   },
   "outputs": [
    {
     "data": {
      "text/html": [
       "<div>\n",
       "<style scoped>\n",
       "    .dataframe tbody tr th:only-of-type {\n",
       "        vertical-align: middle;\n",
       "    }\n",
       "\n",
       "    .dataframe tbody tr th {\n",
       "        vertical-align: top;\n",
       "    }\n",
       "\n",
       "    .dataframe thead th {\n",
       "        text-align: right;\n",
       "    }\n",
       "</style>\n",
       "<table border=\"1\" class=\"dataframe\">\n",
       "  <thead>\n",
       "    <tr style=\"text-align: right;\">\n",
       "      <th></th>\n",
       "      <th>Unnamed: 0.1</th>\n",
       "      <th>x_test_path</th>\n",
       "      <th>y_test_age</th>\n",
       "      <th>y_test_gender</th>\n",
       "      <th>preds_age</th>\n",
       "      <th>preds_gender</th>\n",
       "    </tr>\n",
       "  </thead>\n",
       "  <tbody>\n",
       "    <tr>\n",
       "      <th>0</th>\n",
       "      <td>0</td>\n",
       "      <td>faces_colored/73/nm0000673_rm1920911360_1964-1...</td>\n",
       "      <td>23.0</td>\n",
       "      <td>f</td>\n",
       "      <td>26</td>\n",
       "      <td>1</td>\n",
       "    </tr>\n",
       "    <tr>\n",
       "      <th>1</th>\n",
       "      <td>1</td>\n",
       "      <td>faces_colored/37/nm0005137_rm1375568640_1961-4...</td>\n",
       "      <td>49.0</td>\n",
       "      <td>f</td>\n",
       "      <td>40</td>\n",
       "      <td>1</td>\n",
       "    </tr>\n",
       "    <tr>\n",
       "      <th>2</th>\n",
       "      <td>2</td>\n",
       "      <td>faces_colored/00/nm0321800_rm1232569088_1982-1...</td>\n",
       "      <td>28.0</td>\n",
       "      <td>f</td>\n",
       "      <td>28</td>\n",
       "      <td>1</td>\n",
       "    </tr>\n",
       "    <tr>\n",
       "      <th>3</th>\n",
       "      <td>3</td>\n",
       "      <td>faces_colored/73/nm0416673_rm1596496128_1965-4...</td>\n",
       "      <td>42.0</td>\n",
       "      <td>m</td>\n",
       "      <td>30</td>\n",
       "      <td>0</td>\n",
       "    </tr>\n",
       "    <tr>\n",
       "      <th>4</th>\n",
       "      <td>4</td>\n",
       "      <td>faces_colored/68/nm0001368_rm13947136_1945-12-...</td>\n",
       "      <td>52.0</td>\n",
       "      <td>m</td>\n",
       "      <td>49</td>\n",
       "      <td>0</td>\n",
       "    </tr>\n",
       "  </tbody>\n",
       "</table>\n",
       "</div>"
      ],
      "text/plain": [
       "   Unnamed: 0.1                                        x_test_path  \\\n",
       "0             0  faces_colored/73/nm0000673_rm1920911360_1964-1...   \n",
       "1             1  faces_colored/37/nm0005137_rm1375568640_1961-4...   \n",
       "2             2  faces_colored/00/nm0321800_rm1232569088_1982-1...   \n",
       "3             3  faces_colored/73/nm0416673_rm1596496128_1965-4...   \n",
       "4             4  faces_colored/68/nm0001368_rm13947136_1945-12-...   \n",
       "\n",
       "   y_test_age y_test_gender  preds_age  preds_gender  \n",
       "0        23.0             f         26             1  \n",
       "1        49.0             f         40             1  \n",
       "2        28.0             f         28             1  \n",
       "3        42.0             m         30             0  \n",
       "4        52.0             m         49             0  "
      ]
     },
     "execution_count": 68,
     "metadata": {
      "tags": []
     },
     "output_type": "execute_result"
    }
   ],
   "source": [
    "test_df.head(5)"
   ]
  },
  {
   "cell_type": "markdown",
   "metadata": {
    "colab_type": "text",
    "id": "N9eYAhpWsKI9"
   },
   "source": [
    "## Age"
   ]
  },
  {
   "cell_type": "code",
   "execution_count": 0,
   "metadata": {
    "colab": {},
    "colab_type": "code",
    "id": "mcJh_NTLmvkV"
   },
   "outputs": [],
   "source": [
    "real_age = test_df['y_test_age']\n",
    "pred_age = test_df['preds_age']\n",
    "age_diff = np.abs(real_age-pred_age)\n",
    "age_diff = age_diff.values.reshape(-1, 1)"
   ]
  },
  {
   "cell_type": "code",
   "execution_count": 61,
   "metadata": {
    "colab": {
     "base_uri": "https://localhost:8080/",
     "height": 35
    },
    "colab_type": "code",
    "id": "dXPr7fQ7ni3v",
    "outputId": "d548e84a-22ce-48d3-d5c2-8eff17116849"
   },
   "outputs": [
    {
     "data": {
      "text/plain": [
       "StandardScaler(copy=True, with_mean=True, with_std=True)"
      ]
     },
     "execution_count": 61,
     "metadata": {
      "tags": []
     },
     "output_type": "execute_result"
    }
   ],
   "source": [
    "scaler = StandardScaler()\n",
    "scaler.fit(age_diff)"
   ]
  },
  {
   "cell_type": "code",
   "execution_count": 0,
   "metadata": {
    "colab": {},
    "colab_type": "code",
    "id": "N8Wyn58aoAlL"
   },
   "outputs": [],
   "source": [
    "avg = scaler.mean_\n",
    "std = np.sqrt(scaler.var_)"
   ]
  },
  {
   "cell_type": "code",
   "execution_count": 67,
   "metadata": {
    "colab": {
     "base_uri": "https://localhost:8080/",
     "height": 52
    },
    "colab_type": "code",
    "id": "Gmj8uaqjonpt",
    "outputId": "de0d1131-d6bf-472d-db1c-068996661846"
   },
   "outputs": [
    {
     "name": "stdout",
     "output_type": "stream",
     "text": [
      "Average distance:  8.168118500326182\n",
      "Variance:  7.5270836892951944\n"
     ]
    }
   ],
   "source": [
    "print(\"Average distance: \",float(avg))\n",
    "print(\"Variance: \",float(std))"
   ]
  },
  {
   "cell_type": "markdown",
   "metadata": {
    "colab_type": "text",
    "id": "J62zmr3FsMkq"
   },
   "source": [
    "## Gender"
   ]
  },
  {
   "cell_type": "code",
   "execution_count": 0,
   "metadata": {
    "colab": {},
    "colab_type": "code",
    "id": "FPazueoInd3r"
   },
   "outputs": [],
   "source": [
    "maskF = test_df.preds_gender == 1\n",
    "maskM = test_df.preds_gender == 0\n",
    "column_name = 'preds_gender'\n",
    "test_df.loc[maskF, column_name] = 'f'\n",
    "test_df.loc[maskM, column_name] = 'm'"
   ]
  },
  {
   "cell_type": "code",
   "execution_count": 0,
   "metadata": {
    "colab": {},
    "colab_type": "code",
    "id": "i2Uuu4Ctp_s0"
   },
   "outputs": [],
   "source": [
    "real_gender = test_df['y_test_gender'].values\n",
    "pred_gender = test_df['preds_gender'].values"
   ]
  },
  {
   "cell_type": "code",
   "execution_count": 0,
   "metadata": {
    "colab": {},
    "colab_type": "code",
    "id": "1jVZcyc9o1qi"
   },
   "outputs": [],
   "source": [
    "correct = 0\n",
    "false = 0\n",
    "for i in range(len(pred_gender)):\n",
    "  if real_gender[i] == pred_gender[i]:\n",
    "    correct = correct + 1\n",
    "  else:\n",
    "    false = false + 1"
   ]
  },
  {
   "cell_type": "code",
   "execution_count": 73,
   "metadata": {
    "colab": {
     "base_uri": "https://localhost:8080/",
     "height": 88
    },
    "colab_type": "code",
    "id": "h6ke7JbQqUlc",
    "outputId": "f2288c9a-7233-4f74-e8fa-4d947c78c41b"
   },
   "outputs": [
    {
     "name": "stdout",
     "output_type": "stream",
     "text": [
      "Test accuracy 0.7890556045895851\n",
      "Confusion matrix:\n",
      "[[11366  2867]\n",
      " [ 2597  9229]]\n"
     ]
    }
   ],
   "source": [
    "# Print the results\n",
    "print(\"Test accuracy\", correct / ( correct + false))\n",
    "cm = confusion_matrix(pred_gender, real_gender)\n",
    "print(\"Confusion matrix:\")\n",
    "print(cm)"
   ]
  },
  {
   "cell_type": "code",
   "execution_count": 74,
   "metadata": {
    "colab": {
     "base_uri": "https://localhost:8080/",
     "height": 52
    },
    "colab_type": "code",
    "id": "DsfsNk_2qlXq",
    "outputId": "7292f78b-cb22-4010-ecc2-5c6cb674ff25"
   },
   "outputs": [
    {
     "name": "stdout",
     "output_type": "stream",
     "text": [
      "male 0 Precision:  0.8140084509059657 Recall:  0.7985667111641959\n",
      "female 1 Precision:  0.7629794973544973 Recall:  0.780399120581769\n"
     ]
    }
   ],
   "source": [
    "# precision and recall per class\n",
    "for i in range(2):\n",
    "  if i == 0:\n",
    "    clas = 'male'\n",
    "  else:\n",
    "    clas = 'female'\n",
    "  print(clas, i, \"Precision: \", precision(i, cm), \"Recall: \", recall(i, cm))"
   ]
  },
  {
   "cell_type": "code",
   "execution_count": 0,
   "metadata": {
    "colab": {},
    "colab_type": "code",
    "id": "DjrjdStvramH"
   },
   "outputs": [],
   "source": []
  }
 ],
 "metadata": {
  "colab": {
   "collapsed_sections": [],
   "name": "quantitative_test.ipynb",
   "provenance": [],
   "version": "0.3.2"
  },
  "kernelspec": {
   "display_name": "Python 3",
   "language": "python",
   "name": "python3"
  },
  "language_info": {
   "codemirror_mode": {
    "name": "ipython",
    "version": 3
   },
   "file_extension": ".py",
   "mimetype": "text/x-python",
   "name": "python",
   "nbconvert_exporter": "python",
   "pygments_lexer": "ipython3",
   "version": "3.6.5"
  }
 },
 "nbformat": 4,
 "nbformat_minor": 1
}
