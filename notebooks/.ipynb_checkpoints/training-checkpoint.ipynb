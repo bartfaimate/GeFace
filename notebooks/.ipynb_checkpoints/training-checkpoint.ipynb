{
 "cells": [
  {
   "cell_type": "markdown",
   "metadata": {},
   "source": [
    "# Training"
   ]
  },
  {
   "cell_type": "code",
   "execution_count": 1,
   "metadata": {},
   "outputs": [],
   "source": [
    "# Import all packages\n",
    "\n",
    "import numpy as np\n",
    "import pandas as pd\n",
    "import os\n",
    "import matplotlib.pyplot as plt\n",
    "import cv2\n",
    "import sys\n",
    "%matplotlib inline"
   ]
  },
  {
   "cell_type": "code",
   "execution_count": 2,
   "metadata": {},
   "outputs": [],
   "source": [
    "# chdir. it depends on the platform\n",
    "if sys.platform == 'linux':\n",
    "    # if os is linux cd to\n",
    "    project_path = \"/home/mate/develop/PycharmProjects/GeFace/\"\n",
    "elif sys.platform is 'windows':\n",
    "    pass\n",
    "else:\n",
    "    pass\n",
    "\n",
    "os.chdir(project_path)"
   ]
  },
  {
   "cell_type": "code",
   "execution_count": 3,
   "metadata": {},
   "outputs": [
    {
     "name": "stdout",
     "output_type": "stream",
     "text": [
      "/home/mate/develop/PycharmProjects/GeFace\n"
     ]
    }
   ],
   "source": [
    "try:\n",
    "    print(os.getcwd())\n",
    "    # Open CSV with all informations\n",
    "    csv_file = pd.read_csv(\"faces_colored/faces_correct.csv\",delimiter = ',', encoding = \"ISO-8859-1\", engine='python')\n",
    "    pd.set_option('display.max_columns', 100)\n",
    "except (FileNotFoundError):\n",
    "    print(\"CSV file not found\")\n",
    "    current_path = os.getcwd()\n",
    "    print(\"Current path is \" + current_path)"
   ]
  },
  {
   "cell_type": "code",
   "execution_count": 4,
   "metadata": {},
   "outputs": [
    {
     "data": {
      "text/html": [
       "<div>\n",
       "<style scoped>\n",
       "    .dataframe tbody tr th:only-of-type {\n",
       "        vertical-align: middle;\n",
       "    }\n",
       "\n",
       "    .dataframe tbody tr th {\n",
       "        vertical-align: top;\n",
       "    }\n",
       "\n",
       "    .dataframe thead th {\n",
       "        text-align: right;\n",
       "    }\n",
       "</style>\n",
       "<table border=\"1\" class=\"dataframe\">\n",
       "  <thead>\n",
       "    <tr style=\"text-align: right;\">\n",
       "      <th></th>\n",
       "      <th>nr</th>\n",
       "      <th>age</th>\n",
       "      <th>full_path</th>\n",
       "      <th>gender</th>\n",
       "    </tr>\n",
       "  </thead>\n",
       "  <tbody>\n",
       "    <tr>\n",
       "      <th>0</th>\n",
       "      <td>0</td>\n",
       "      <td>69</td>\n",
       "      <td>01/nm0000001_rm124825600_1899-5-10_1968.jpg</td>\n",
       "      <td>1.0</td>\n",
       "    </tr>\n",
       "    <tr>\n",
       "      <th>1</th>\n",
       "      <td>1</td>\n",
       "      <td>71</td>\n",
       "      <td>01/nm0000001_rm3343756032_1899-5-10_1970.jpg</td>\n",
       "      <td>1.0</td>\n",
       "    </tr>\n",
       "    <tr>\n",
       "      <th>2</th>\n",
       "      <td>2</td>\n",
       "      <td>69</td>\n",
       "      <td>01/nm0000001_rm577153792_1899-5-10_1968.jpg</td>\n",
       "      <td>1.0</td>\n",
       "    </tr>\n",
       "    <tr>\n",
       "      <th>3</th>\n",
       "      <td>5</td>\n",
       "      <td>67</td>\n",
       "      <td>02/nm0000002_rm1075631616_1924-9-16_1991.jpg</td>\n",
       "      <td>0.0</td>\n",
       "    </tr>\n",
       "    <tr>\n",
       "      <th>4</th>\n",
       "      <td>6</td>\n",
       "      <td>80</td>\n",
       "      <td>02/nm0000002_rm1346607872_1924-9-16_2004.jpg</td>\n",
       "      <td>0.0</td>\n",
       "    </tr>\n",
       "  </tbody>\n",
       "</table>\n",
       "</div>"
      ],
      "text/plain": [
       "   nr  age                                     full_path  gender\n",
       "0   0   69   01/nm0000001_rm124825600_1899-5-10_1968.jpg     1.0\n",
       "1   1   71  01/nm0000001_rm3343756032_1899-5-10_1970.jpg     1.0\n",
       "2   2   69   01/nm0000001_rm577153792_1899-5-10_1968.jpg     1.0\n",
       "3   5   67  02/nm0000002_rm1075631616_1924-9-16_1991.jpg     0.0\n",
       "4   6   80  02/nm0000002_rm1346607872_1924-9-16_2004.jpg     0.0"
      ]
     },
     "execution_count": 4,
     "metadata": {},
     "output_type": "execute_result"
    }
   ],
   "source": [
    "csv_file.head()"
   ]
  },
  {
   "cell_type": "code",
   "execution_count": 5,
   "metadata": {},
   "outputs": [],
   "source": [
    "df = csv_file.drop(columns=[\"nr\"])"
   ]
  },
  {
   "cell_type": "code",
   "execution_count": 6,
   "metadata": {},
   "outputs": [
    {
     "data": {
      "text/html": [
       "<div>\n",
       "<style scoped>\n",
       "    .dataframe tbody tr th:only-of-type {\n",
       "        vertical-align: middle;\n",
       "    }\n",
       "\n",
       "    .dataframe tbody tr th {\n",
       "        vertical-align: top;\n",
       "    }\n",
       "\n",
       "    .dataframe thead th {\n",
       "        text-align: right;\n",
       "    }\n",
       "</style>\n",
       "<table border=\"1\" class=\"dataframe\">\n",
       "  <thead>\n",
       "    <tr style=\"text-align: right;\">\n",
       "      <th></th>\n",
       "      <th>age</th>\n",
       "      <th>full_path</th>\n",
       "      <th>gender</th>\n",
       "    </tr>\n",
       "  </thead>\n",
       "  <tbody>\n",
       "    <tr>\n",
       "      <th>0</th>\n",
       "      <td>69</td>\n",
       "      <td>01/nm0000001_rm124825600_1899-5-10_1968.jpg</td>\n",
       "      <td>1.0</td>\n",
       "    </tr>\n",
       "    <tr>\n",
       "      <th>1</th>\n",
       "      <td>71</td>\n",
       "      <td>01/nm0000001_rm3343756032_1899-5-10_1970.jpg</td>\n",
       "      <td>1.0</td>\n",
       "    </tr>\n",
       "    <tr>\n",
       "      <th>2</th>\n",
       "      <td>69</td>\n",
       "      <td>01/nm0000001_rm577153792_1899-5-10_1968.jpg</td>\n",
       "      <td>1.0</td>\n",
       "    </tr>\n",
       "    <tr>\n",
       "      <th>3</th>\n",
       "      <td>67</td>\n",
       "      <td>02/nm0000002_rm1075631616_1924-9-16_1991.jpg</td>\n",
       "      <td>0.0</td>\n",
       "    </tr>\n",
       "    <tr>\n",
       "      <th>4</th>\n",
       "      <td>80</td>\n",
       "      <td>02/nm0000002_rm1346607872_1924-9-16_2004.jpg</td>\n",
       "      <td>0.0</td>\n",
       "    </tr>\n",
       "  </tbody>\n",
       "</table>\n",
       "</div>"
      ],
      "text/plain": [
       "   age                                     full_path  gender\n",
       "0   69   01/nm0000001_rm124825600_1899-5-10_1968.jpg     1.0\n",
       "1   71  01/nm0000001_rm3343756032_1899-5-10_1970.jpg     1.0\n",
       "2   69   01/nm0000001_rm577153792_1899-5-10_1968.jpg     1.0\n",
       "3   67  02/nm0000002_rm1075631616_1924-9-16_1991.jpg     0.0\n",
       "4   80  02/nm0000002_rm1346607872_1924-9-16_2004.jpg     0.0"
      ]
     },
     "execution_count": 6,
     "metadata": {},
     "output_type": "execute_result"
    }
   ],
   "source": [
    "df.head()"
   ]
  },
  {
   "cell_type": "code",
   "execution_count": 7,
   "metadata": {},
   "outputs": [],
   "source": [
    "# create dataset for testing the network\n",
    "import random\n",
    "from sklearn.utils import shuffle\n",
    "from sklearn.preprocessing import StandardScaler\n",
    "\n",
    "\n",
    "proba_df = df.head(1000)\n",
    "\n",
    "# Randomize but always the same random numbers\n",
    "np.random.seed(42)\n",
    "random.seed(42)\n",
    "# shuffle rows\n",
    "proba_df = shuffle(proba_df)"
   ]
  },
  {
   "cell_type": "code",
   "execution_count": 8,
   "metadata": {},
   "outputs": [
    {
     "data": {
      "text/html": [
       "<div>\n",
       "<style scoped>\n",
       "    .dataframe tbody tr th:only-of-type {\n",
       "        vertical-align: middle;\n",
       "    }\n",
       "\n",
       "    .dataframe tbody tr th {\n",
       "        vertical-align: top;\n",
       "    }\n",
       "\n",
       "    .dataframe thead th {\n",
       "        text-align: right;\n",
       "    }\n",
       "</style>\n",
       "<table border=\"1\" class=\"dataframe\">\n",
       "  <thead>\n",
       "    <tr style=\"text-align: right;\">\n",
       "      <th></th>\n",
       "      <th>age</th>\n",
       "      <th>full_path</th>\n",
       "      <th>gender</th>\n",
       "    </tr>\n",
       "  </thead>\n",
       "  <tbody>\n",
       "    <tr>\n",
       "      <th>521</th>\n",
       "      <td>33</td>\n",
       "      <td>62/nm0000062_rm360689664_1935-1-8_1968.jpg</td>\n",
       "      <td>1.0</td>\n",
       "    </tr>\n",
       "    <tr>\n",
       "      <th>737</th>\n",
       "      <td>37</td>\n",
       "      <td>84/nm0000084_rm3788019968_1965-12-31_2002.jpg</td>\n",
       "      <td>0.0</td>\n",
       "    </tr>\n",
       "    <tr>\n",
       "      <th>740</th>\n",
       "      <td>37</td>\n",
       "      <td>84/nm0000084_rm3838351616_1965-12-31_2002.jpg</td>\n",
       "      <td>0.0</td>\n",
       "    </tr>\n",
       "    <tr>\n",
       "      <th>660</th>\n",
       "      <td>26</td>\n",
       "      <td>79/nm0000079_rm2756104448_1940-9-5_1966.jpg</td>\n",
       "      <td>0.0</td>\n",
       "    </tr>\n",
       "    <tr>\n",
       "      <th>411</th>\n",
       "      <td>57</td>\n",
       "      <td>56/nm0000056_rm1541314816_1925-1-26_1982.jpg</td>\n",
       "      <td>1.0</td>\n",
       "    </tr>\n",
       "  </tbody>\n",
       "</table>\n",
       "</div>"
      ],
      "text/plain": [
       "     age                                      full_path  gender\n",
       "521   33     62/nm0000062_rm360689664_1935-1-8_1968.jpg     1.0\n",
       "737   37  84/nm0000084_rm3788019968_1965-12-31_2002.jpg     0.0\n",
       "740   37  84/nm0000084_rm3838351616_1965-12-31_2002.jpg     0.0\n",
       "660   26    79/nm0000079_rm2756104448_1940-9-5_1966.jpg     0.0\n",
       "411   57   56/nm0000056_rm1541314816_1925-1-26_1982.jpg     1.0"
      ]
     },
     "execution_count": 8,
     "metadata": {},
     "output_type": "execute_result"
    }
   ],
   "source": [
    "proba_df.head()"
   ]
  },
  {
   "cell_type": "code",
   "execution_count": 9,
   "metadata": {},
   "outputs": [
    {
     "name": "stdout",
     "output_type": "stream",
     "text": [
      "train: 700 | valid: 200 | test: 100\n"
     ]
    }
   ],
   "source": [
    "# calculate test train valid data numbers\n",
    "test_num = int(np.floor(0.1 * proba_df.shape[0]))\n",
    "valid_num = int(np.floor(0.2 * proba_df.shape[0]))\n",
    "train_num = int(proba_df.shape[0] - test_num - valid_num)\n",
    "print(\"train: {} | valid: {} | test: {}\".format(train_num, valid_num, test_num))"
   ]
  },
  {
   "cell_type": "code",
   "execution_count": 10,
   "metadata": {},
   "outputs": [
    {
     "data": {
      "text/plain": [
       "(100, 3)"
      ]
     },
     "execution_count": 10,
     "metadata": {},
     "output_type": "execute_result"
    }
   ],
   "source": [
    "# split the data into train valid and test data\n",
    "train_data = proba_df.iloc[0:train_num, :]\n",
    "train_data.shape\n",
    "\n",
    "valid_data = proba_df.iloc[train_num:train_num + valid_num, :]\n",
    "valid_data.shape\n",
    "\n",
    "test_data = proba_df.iloc[ train_num+valid_num:, :]\n",
    "test_data.shape"
   ]
  },
  {
   "cell_type": "code",
   "execution_count": 11,
   "metadata": {},
   "outputs": [
    {
     "data": {
      "text/plain": [
       "'faces_colored/92/nm0000092_rm2154539520_1939-10-27_1975.jpg'"
      ]
     },
     "execution_count": 11,
     "metadata": {},
     "output_type": "execute_result"
    }
   ],
   "source": [
    "image_path = \"faces_colored/\"\n",
    "x_train_p = image_path + train_data['full_path'].values\n",
    "x_valid_p = image_path + valid_data['full_path'].values\n",
    "x_test_p = image_path + test_data['full_path'].values\n",
    "\n",
    "# x_train_l = image_path + train_data['age'].values\n",
    "# x_valid_l = image_path + train_data['age'].values\n",
    "# x_test_l = image_path + train_data['age'].values\n",
    "\n",
    "x_test_p.shape\n",
    "x_test_p[0]"
   ]
  },
  {
   "cell_type": "code",
   "execution_count": 12,
   "metadata": {},
   "outputs": [],
   "source": [
    "# get the ages\n",
    "y_train = train_data['age'].values\n",
    "y_valid = valid_data['age'].values\n",
    "y_test = test_data['age'].values"
   ]
  },
  {
   "cell_type": "markdown",
   "metadata": {},
   "source": [
    "# Copy train, valid, test data into a new folder"
   ]
  },
  {
   "cell_type": "code",
   "execution_count": 13,
   "metadata": {},
   "outputs": [
    {
     "data": {
      "text/html": [
       "<div>\n",
       "<style scoped>\n",
       "    .dataframe tbody tr th:only-of-type {\n",
       "        vertical-align: middle;\n",
       "    }\n",
       "\n",
       "    .dataframe tbody tr th {\n",
       "        vertical-align: top;\n",
       "    }\n",
       "\n",
       "    .dataframe thead th {\n",
       "        text-align: right;\n",
       "    }\n",
       "</style>\n",
       "<table border=\"1\" class=\"dataframe\">\n",
       "  <thead>\n",
       "    <tr style=\"text-align: right;\">\n",
       "      <th></th>\n",
       "      <th>age</th>\n",
       "      <th>full_path</th>\n",
       "      <th>gender</th>\n",
       "    </tr>\n",
       "  </thead>\n",
       "  <tbody>\n",
       "    <tr>\n",
       "      <th>521</th>\n",
       "      <td>33</td>\n",
       "      <td>62/nm0000062_rm360689664_1935-1-8_1968.jpg</td>\n",
       "      <td>1.0</td>\n",
       "    </tr>\n",
       "    <tr>\n",
       "      <th>737</th>\n",
       "      <td>37</td>\n",
       "      <td>84/nm0000084_rm3788019968_1965-12-31_2002.jpg</td>\n",
       "      <td>0.0</td>\n",
       "    </tr>\n",
       "    <tr>\n",
       "      <th>740</th>\n",
       "      <td>37</td>\n",
       "      <td>84/nm0000084_rm3838351616_1965-12-31_2002.jpg</td>\n",
       "      <td>0.0</td>\n",
       "    </tr>\n",
       "    <tr>\n",
       "      <th>660</th>\n",
       "      <td>26</td>\n",
       "      <td>79/nm0000079_rm2756104448_1940-9-5_1966.jpg</td>\n",
       "      <td>0.0</td>\n",
       "    </tr>\n",
       "    <tr>\n",
       "      <th>411</th>\n",
       "      <td>57</td>\n",
       "      <td>56/nm0000056_rm1541314816_1925-1-26_1982.jpg</td>\n",
       "      <td>1.0</td>\n",
       "    </tr>\n",
       "  </tbody>\n",
       "</table>\n",
       "</div>"
      ],
      "text/plain": [
       "     age                                      full_path  gender\n",
       "521   33     62/nm0000062_rm360689664_1935-1-8_1968.jpg     1.0\n",
       "737   37  84/nm0000084_rm3788019968_1965-12-31_2002.jpg     0.0\n",
       "740   37  84/nm0000084_rm3838351616_1965-12-31_2002.jpg     0.0\n",
       "660   26    79/nm0000079_rm2756104448_1940-9-5_1966.jpg     0.0\n",
       "411   57   56/nm0000056_rm1541314816_1925-1-26_1982.jpg     1.0"
      ]
     },
     "execution_count": 13,
     "metadata": {},
     "output_type": "execute_result"
    }
   ],
   "source": [
    "proba_df.head()"
   ]
  },
  {
   "cell_type": "code",
   "execution_count": 14,
   "metadata": {
    "scrolled": true
   },
   "outputs": [],
   "source": [
    "from shutil import copyfile, copy2\n",
    "try:\n",
    "    os.mkdir(\"test_face\")\n",
    "except FileExistsError:\n",
    "    print(\"test_face Direcotry exist\")\n",
    "    \n",
    "# training \n",
    "try:\n",
    "    os.mkdir(\"train_face\")\n",
    "    # create directory structure\n",
    "    \n",
    "    \n",
    "except FileExistsError:\n",
    "    print(\"train_face Direcotry exist\")\n",
    "    \n",
    "for i in range(100):\n",
    "    try:\n",
    "        if i < 10:\n",
    "        \n",
    "            os.mkdir(\"train_face/0\" + str(i))\n",
    "        else:\n",
    "            os.mkdir(\"train_face/\" + str(i))\n",
    "    except FileExistsError:\n",
    "        continue\n",
    "i = 0\n",
    "dest_path = \"train_face/\"+train_data['full_path'].values\n",
    "for p in x_train_p:\n",
    "    \n",
    "    copy2(p, dest_path[i])\n",
    "    i += 1\n",
    "#     print(\"train_face/\"+train_data['full_path'].values)\n",
    "#     print(dest_path[i])\n",
    "\n",
    "# validation\n",
    "try:\n",
    "    os.mkdir(\"valid_face\")\n",
    "    # create directory structure\n",
    "    \n",
    "    for i in range(100):\n",
    "        try:\n",
    "            if i < 10:\n",
    "            \n",
    "                os.mkdir(\"valid_face/0\" + str(i))\n",
    "            else:\n",
    "                os.mkdir(\"valid_face/\" + str(i))\n",
    "        except FileExistsError:\n",
    "            continue\n",
    "except FileExistsError:\n",
    "    print(\"valid_face Direcotry exist\")\n",
    "    \n",
    "i = 0\n",
    "dest_path = \"valid_face/\"+valid_data['full_path'].values\n",
    "for p in x_valid_p:\n",
    "    \n",
    "    copy2(p, dest_path[i])\n",
    "    i += 1\n",
    "#     print(\"train_face/\"+train_data['full_path'].values)\n",
    "#     print(dest_path[i])"
   ]
  },
  {
   "cell_type": "markdown",
   "metadata": {},
   "source": [
    "# Training and model building"
   ]
  },
  {
   "cell_type": "code",
   "execution_count": 3,
   "metadata": {},
   "outputs": [
    {
     "name": "stderr",
     "output_type": "stream",
     "text": [
      "Using TensorFlow backend.\n",
      "/home/mate/.virtualenvs/deeplearn_cpu/lib/python3.6/site-packages/ipykernel_launcher.py:14: UserWarning: \n",
      "This call to matplotlib.use() has no effect because the backend has already\n",
      "been chosen; matplotlib.use() must be called *before* pylab, matplotlib.pyplot,\n",
      "or matplotlib.backends is imported for the first time.\n",
      "\n",
      "The backend was *originally* set to 'module://ipykernel.pylab.backend_inline' by the following code:\n",
      "  File \"/usr/lib/python3.6/runpy.py\", line 193, in _run_module_as_main\n",
      "    \"__main__\", mod_spec)\n",
      "  File \"/usr/lib/python3.6/runpy.py\", line 85, in _run_code\n",
      "    exec(code, run_globals)\n",
      "  File \"/home/mate/.virtualenvs/deeplearn_cpu/lib/python3.6/site-packages/ipykernel_launcher.py\", line 16, in <module>\n",
      "    app.launch_new_instance()\n",
      "  File \"/home/mate/.virtualenvs/deeplearn_cpu/lib/python3.6/site-packages/traitlets/config/application.py\", line 658, in launch_instance\n",
      "    app.start()\n",
      "  File \"/home/mate/.virtualenvs/deeplearn_cpu/lib/python3.6/site-packages/ipykernel/kernelapp.py\", line 497, in start\n",
      "    self.io_loop.start()\n",
      "  File \"/home/mate/.virtualenvs/deeplearn_cpu/lib/python3.6/site-packages/tornado/platform/asyncio.py\", line 132, in start\n",
      "    self.asyncio_loop.run_forever()\n",
      "  File \"/usr/lib/python3.6/asyncio/base_events.py\", line 422, in run_forever\n",
      "    self._run_once()\n",
      "  File \"/usr/lib/python3.6/asyncio/base_events.py\", line 1434, in _run_once\n",
      "    handle._run()\n",
      "  File \"/usr/lib/python3.6/asyncio/events.py\", line 145, in _run\n",
      "    self._callback(*self._args)\n",
      "  File \"/home/mate/.virtualenvs/deeplearn_cpu/lib/python3.6/site-packages/tornado/platform/asyncio.py\", line 122, in _handle_events\n",
      "    handler_func(fileobj, events)\n",
      "  File \"/home/mate/.virtualenvs/deeplearn_cpu/lib/python3.6/site-packages/tornado/stack_context.py\", line 300, in null_wrapper\n",
      "    return fn(*args, **kwargs)\n",
      "  File \"/home/mate/.virtualenvs/deeplearn_cpu/lib/python3.6/site-packages/zmq/eventloop/zmqstream.py\", line 450, in _handle_events\n",
      "    self._handle_recv()\n",
      "  File \"/home/mate/.virtualenvs/deeplearn_cpu/lib/python3.6/site-packages/zmq/eventloop/zmqstream.py\", line 480, in _handle_recv\n",
      "    self._run_callback(callback, msg)\n",
      "  File \"/home/mate/.virtualenvs/deeplearn_cpu/lib/python3.6/site-packages/zmq/eventloop/zmqstream.py\", line 432, in _run_callback\n",
      "    callback(*args, **kwargs)\n",
      "  File \"/home/mate/.virtualenvs/deeplearn_cpu/lib/python3.6/site-packages/tornado/stack_context.py\", line 300, in null_wrapper\n",
      "    return fn(*args, **kwargs)\n",
      "  File \"/home/mate/.virtualenvs/deeplearn_cpu/lib/python3.6/site-packages/ipykernel/kernelbase.py\", line 283, in dispatcher\n",
      "    return self.dispatch_shell(stream, msg)\n",
      "  File \"/home/mate/.virtualenvs/deeplearn_cpu/lib/python3.6/site-packages/ipykernel/kernelbase.py\", line 233, in dispatch_shell\n",
      "    handler(stream, idents, msg)\n",
      "  File \"/home/mate/.virtualenvs/deeplearn_cpu/lib/python3.6/site-packages/ipykernel/kernelbase.py\", line 399, in execute_request\n",
      "    user_expressions, allow_stdin)\n",
      "  File \"/home/mate/.virtualenvs/deeplearn_cpu/lib/python3.6/site-packages/ipykernel/ipkernel.py\", line 208, in do_execute\n",
      "    res = shell.run_cell(code, store_history=store_history, silent=silent)\n",
      "  File \"/home/mate/.virtualenvs/deeplearn_cpu/lib/python3.6/site-packages/ipykernel/zmqshell.py\", line 537, in run_cell\n",
      "    return super(ZMQInteractiveShell, self).run_cell(*args, **kwargs)\n",
      "  File \"/home/mate/.virtualenvs/deeplearn_cpu/lib/python3.6/site-packages/IPython/core/interactiveshell.py\", line 2666, in run_cell\n",
      "    self.events.trigger('post_run_cell', result)\n",
      "  File \"/home/mate/.virtualenvs/deeplearn_cpu/lib/python3.6/site-packages/IPython/core/events.py\", line 88, in trigger\n",
      "    func(*args, **kwargs)\n",
      "  File \"/home/mate/.virtualenvs/deeplearn_cpu/lib/python3.6/site-packages/ipykernel/pylab/backend_inline.py\", line 164, in configure_once\n",
      "    activate_matplotlib(backend)\n",
      "  File \"/home/mate/.virtualenvs/deeplearn_cpu/lib/python3.6/site-packages/IPython/core/pylabtools.py\", line 311, in activate_matplotlib\n",
      "    matplotlib.pyplot.switch_backend(backend)\n",
      "  File \"/home/mate/.virtualenvs/deeplearn_cpu/lib/python3.6/site-packages/matplotlib/pyplot.py\", line 231, in switch_backend\n",
      "    matplotlib.use(newbackend, warn=False, force=True)\n",
      "  File \"/home/mate/.virtualenvs/deeplearn_cpu/lib/python3.6/site-packages/matplotlib/__init__.py\", line 1422, in use\n",
      "    reload(sys.modules['matplotlib.backends'])\n",
      "  File \"/home/mate/.virtualenvs/deeplearn_cpu/lib/python3.6/importlib/__init__.py\", line 166, in reload\n",
      "    _bootstrap._exec(spec, module)\n",
      "  File \"/home/mate/.virtualenvs/deeplearn_cpu/lib/python3.6/site-packages/matplotlib/backends/__init__.py\", line 16, in <module>\n",
      "    line for line in traceback.format_stack()\n",
      "\n",
      "\n",
      "  \n"
     ]
    }
   ],
   "source": [
    "# import the necessary packages\n",
    "import sys\n",
    "import os\n",
    "import PIL\n",
    "from keras.layers import *\n",
    "from keras.optimizers import *\n",
    "from keras.applications import *\n",
    "from keras.models import Model, Sequential\n",
    "from keras.preprocessing.image import ImageDataGenerator\n",
    "from keras.callbacks import ModelCheckpoint, EarlyStopping\n",
    "\n",
    "# set the matplotlib backend so figures can be saved in the background\n",
    "import matplotlib\n",
    "matplotlib.use(\"Agg\")\n",
    " \n",
    "# import the necessary packages\n",
    "from keras.preprocessing.image import ImageDataGenerator\n",
    "from keras.optimizers import Adam\n",
    "from keras.preprocessing.image import img_to_array\n",
    "from sklearn.preprocessing import LabelBinarizer\n",
    "from sklearn.model_selection import train_test_split\n",
    "# from pyimagesearch.smallervggnet import SmallerVGGNet\n",
    "import matplotlib.pyplot as plt\n",
    "# from imutils import paths\n",
    "import numpy as np\n",
    "import argparse\n",
    "import random\n",
    "import pickle\n",
    "import cv2\n",
    "import os"
   ]
  },
  {
   "cell_type": "code",
   "execution_count": 16,
   "metadata": {},
   "outputs": [],
   "source": [
    "class SmallerVGGNet:\n",
    "    @staticmethod\n",
    "    def build(width, height, depth, classes):\n",
    "        # initialize the model along with the input shape to be\n",
    "        # \"channels last\" and the channels dimension itself\n",
    "        model = Sequential()\n",
    "        inputShape = (height, width, depth)\n",
    "        chanDim = -1\n",
    " \n",
    "        # if we are using \"channels first\", update the input shape\n",
    "        # and channels dimension\n",
    "        if K.image_data_format() == \"channels_first\":\n",
    "            inputShape = (depth, height, width)\n",
    "            chanDim = 1\n",
    "            \n",
    "        # CONV => RELU => POOL\n",
    "        model.add(Conv2D(32, (3, 3), padding=\"same\",\n",
    "            input_shape=inputShape))\n",
    "        model.add(Activation(\"relu\"))\n",
    "        model.add(BatchNormalization(axis=chanDim))\n",
    "        model.add(MaxPooling2D(pool_size=(3, 3)))\n",
    "        model.add(Dropout(0.25))\n",
    "        \n",
    "        # (CONV => RELU) * 2 => POOL\n",
    "        model.add(Conv2D(64, (3, 3), padding=\"same\"))\n",
    "        model.add(Activation(\"relu\"))\n",
    "        model.add(BatchNormalization(axis=chanDim))\n",
    "        model.add(Conv2D(64, (3, 3), padding=\"same\"))\n",
    "        model.add(Activation(\"relu\"))\n",
    "        model.add(BatchNormalization(axis=chanDim))\n",
    "        model.add(MaxPooling2D(pool_size=(2, 2)))\n",
    "        model.add(Dropout(0.25))\n",
    "        \n",
    "        # (CONV => RELU) * 2 => POOL\n",
    "        model.add(Conv2D(128, (3, 3), padding=\"same\"))\n",
    "        model.add(Activation(\"relu\"))\n",
    "        model.add(BatchNormalization(axis=chanDim))\n",
    "        model.add(Conv2D(128, (3, 3), padding=\"same\"))\n",
    "        model.add(Activation(\"relu\"))\n",
    "        model.add(BatchNormalization(axis=chanDim))\n",
    "        model.add(MaxPooling2D(pool_size=(2, 2)))\n",
    "        model.add(Dropout(0.25))\n",
    "        \n",
    "        # first (and only) set of FC => RELU layers\n",
    "        model.add(Flatten())\n",
    "        model.add(Dense(1024))\n",
    "        model.add(Activation(\"relu\"))\n",
    "        model.add(BatchNormalization())\n",
    "        model.add(Dropout(0.5))\n",
    "        print(\"mknlm\")\n",
    "        # softmax classifier\n",
    "        model.add(Dense(classes))\n",
    "        print(\"ffjseoijwojdowq\")\n",
    "        model.add(Activation(\"softmax\"))\n",
    " \n",
    "        # return the constructed network architecture\n",
    "        return model"
   ]
  },
  {
   "cell_type": "code",
   "execution_count": 17,
   "metadata": {},
   "outputs": [],
   "source": [
    "# fix seed for reproducible results (only works on CPU, not GPU)\n",
    "seed = 42\n",
    "np.random.seed(seed=seed)\n",
    "tf.set_random_seed(seed=seed)"
   ]
  },
  {
   "cell_type": "code",
   "execution_count": 18,
   "metadata": {},
   "outputs": [],
   "source": [
    "# initialize the number of epochs to train for, initial learning rate,\n",
    "# batch size, and image dimensions\n",
    "EPOCHS = 1\n",
    "INIT_LR = 1e-3\n",
    "BS = 32\n",
    "IMAGE_DIMS = (96, 96, 3)\n",
    " \n",
    "# initialize the data and labels\n",
    "train_x = []\n",
    "train_y = []\n",
    "\n",
    "valid_x = []\n",
    "valid_y = []\n"
   ]
  },
  {
   "cell_type": "code",
   "execution_count": 19,
   "metadata": {},
   "outputs": [],
   "source": [
    "# train\n",
    "# loop over the input images\n",
    "i = 0\n",
    "train_y = y_train\n",
    "for imagePath in x_train_p:\n",
    "    # load the image, pre-process it, and store it in the data list\n",
    "    image = cv2.imread(imagePath)\n",
    "    image = img_to_array(image)\n",
    "    train_x.append(image)\n",
    "    \n",
    "# valid\n",
    "# loop over the input images\n",
    "i = 0\n",
    "valid_y = y_valid\n",
    "for imagePath in x_valid_p:\n",
    "    # load the image, pre-process it, and store it in the data list\n",
    "    image = cv2.imread(imagePath)\n",
    "    image = img_to_array(image)\n",
    "    valid_x.append(image)\n",
    " "
   ]
  },
  {
   "cell_type": "code",
   "execution_count": 20,
   "metadata": {},
   "outputs": [],
   "source": [
    "train_y = train_y.astype(\"str\")\n",
    "valid_y = valid_y.astype(\"str\")\n"
   ]
  },
  {
   "cell_type": "code",
   "execution_count": 21,
   "metadata": {},
   "outputs": [
    {
     "name": "stdout",
     "output_type": "stream",
     "text": [
      "[INFO] data matrix: 151.20MB\n",
      "[INFO] data matrix: 43.20MB\n",
      "700\n",
      "700\n",
      "200\n",
      "200\n"
     ]
    }
   ],
   "source": [
    "# scale the raw pixel intensities to the range [0, 1]\n",
    "train_x = np.array(train_x, dtype=\"float\") / 255.0\n",
    "train_y = np.array(train_y)\n",
    "# print(train_y)\n",
    "print(\"[INFO] data matrix: {:.2f}MB\".format(\n",
    "\ttrain_x.nbytes / (1024 * 1000.0)))\n",
    " \n",
    "# binarize the labels\n",
    "lb = LabelBinarizer()\n",
    "train_y = lb.fit_transform(train_y)\n",
    " \n",
    "# scale the raw pixel intensities to the range [0, 1]\n",
    "valid_x = np.array(valid_x, dtype=\"float\") / 255.0\n",
    "valid_y = np.array(valid_y)\n",
    "print(\"[INFO] data matrix: {:.2f}MB\".format(\n",
    "\tvalid_x.nbytes / (1024 * 1000.0)))\n",
    " \n",
    "# binarize the labels\n",
    "# lb1 = LabelBinarizer()\n",
    "valid_y = lb.transform(valid_y)\n",
    "\n",
    "print(len(train_x))\n",
    "print(len(train_y))\n",
    "print(len(valid_x))\n",
    "print(len(valid_y))"
   ]
  },
  {
   "cell_type": "code",
   "execution_count": 22,
   "metadata": {},
   "outputs": [],
   "source": [
    "# construct the image generator for data augmentation\n",
    "aug = ImageDataGenerator(rotation_range=25, width_shift_range=0.1,\n",
    "\theight_shift_range=0.1, shear_range=0.2, zoom_range=0.2,\n",
    "\thorizontal_flip=True, fill_mode=\"nearest\")"
   ]
  },
  {
   "cell_type": "code",
   "execution_count": 23,
   "metadata": {},
   "outputs": [
    {
     "name": "stdout",
     "output_type": "stream",
     "text": [
      "65\n",
      "[INFO] compiling model...\n",
      "mknlm\n",
      "ffjseoijwojdowq\n",
      "[INFO] training network...\n",
      "Epoch 1/50\n",
      "21/21 [==============================] - 8s 372ms/step - loss: 5.6412 - acc: 0.0298 - val_loss: 6.7589 - val_acc: 0.0600\n",
      "Epoch 2/50\n",
      "21/21 [==============================] - 3s 150ms/step - loss: 4.7192 - acc: 0.0657 - val_loss: 6.1751 - val_acc: 0.0850\n",
      "Epoch 3/50\n",
      "21/21 [==============================] - 3s 139ms/step - loss: 4.5736 - acc: 0.0568 - val_loss: 5.8923 - val_acc: 0.0450\n",
      "Epoch 4/50\n",
      "21/21 [==============================] - 3s 132ms/step - loss: 4.3967 - acc: 0.0806 - val_loss: 5.3069 - val_acc: 0.0950\n",
      "Epoch 5/50\n",
      "21/21 [==============================] - 3s 134ms/step - loss: 4.2121 - acc: 0.0884 - val_loss: 5.4559 - val_acc: 0.0750\n",
      "Epoch 6/50\n",
      "21/21 [==============================] - 3s 126ms/step - loss: 4.1672 - acc: 0.0910 - val_loss: 5.6964 - val_acc: 0.0600\n",
      "Epoch 7/50\n",
      "21/21 [==============================] - 3s 128ms/step - loss: 3.9927 - acc: 0.1133 - val_loss: 5.4369 - val_acc: 0.0650\n",
      "Epoch 8/50\n",
      "21/21 [==============================] - 3s 131ms/step - loss: 3.9957 - acc: 0.1059 - val_loss: 5.4846 - val_acc: 0.0850\n",
      "Epoch 9/50\n",
      "21/21 [==============================] - 3s 130ms/step - loss: 3.8419 - acc: 0.1320 - val_loss: 5.5996 - val_acc: 0.1150\n",
      "Epoch 10/50\n",
      "21/21 [==============================] - 3s 132ms/step - loss: 3.9009 - acc: 0.1327 - val_loss: 7.1750 - val_acc: 0.0950\n",
      "Epoch 11/50\n",
      "21/21 [==============================] - 3s 120ms/step - loss: 4.1040 - acc: 0.1027 - val_loss: 7.1083 - val_acc: 0.0500\n",
      "Epoch 12/50\n",
      "21/21 [==============================] - 3s 121ms/step - loss: 3.7866 - acc: 0.1329 - val_loss: 5.5340 - val_acc: 0.0700\n",
      "Epoch 13/50\n",
      "21/21 [==============================] - 3s 121ms/step - loss: 3.7038 - acc: 0.1641 - val_loss: 5.6363 - val_acc: 0.1100\n",
      "Epoch 14/50\n",
      "21/21 [==============================] - 3s 129ms/step - loss: 3.6226 - acc: 0.1569 - val_loss: 5.2067 - val_acc: 0.1100\n",
      "Epoch 15/50\n",
      "21/21 [==============================] - 3s 125ms/step - loss: 3.5950 - acc: 0.1705 - val_loss: 4.5950 - val_acc: 0.1250\n",
      "Epoch 16/50\n",
      "21/21 [==============================] - 3s 135ms/step - loss: 3.3991 - acc: 0.1760 - val_loss: 4.4732 - val_acc: 0.1700\n",
      "Epoch 17/50\n",
      "21/21 [==============================] - 3s 146ms/step - loss: 3.4115 - acc: 0.1826 - val_loss: 4.6376 - val_acc: 0.1800\n",
      "Epoch 18/50\n",
      "21/21 [==============================] - 3s 144ms/step - loss: 3.0423 - acc: 0.2766 - val_loss: 4.3688 - val_acc: 0.2000\n",
      "Epoch 19/50\n",
      "21/21 [==============================] - 3s 138ms/step - loss: 3.0063 - acc: 0.2543 - val_loss: 4.5734 - val_acc: 0.1950\n",
      "Epoch 20/50\n",
      "21/21 [==============================] - 3s 138ms/step - loss: 3.0518 - acc: 0.2649 - val_loss: 4.4298 - val_acc: 0.1200\n",
      "Epoch 21/50\n",
      "21/21 [==============================] - 3s 132ms/step - loss: 2.8579 - acc: 0.2853 - val_loss: 4.2888 - val_acc: 0.1700\n",
      "Epoch 22/50\n",
      "21/21 [==============================] - 3s 138ms/step - loss: 2.9441 - acc: 0.2566 - val_loss: 5.1763 - val_acc: 0.1000\n",
      "Epoch 23/50\n",
      "21/21 [==============================] - 3s 136ms/step - loss: 2.8042 - acc: 0.2604 - val_loss: 5.2792 - val_acc: 0.0900\n",
      "Epoch 24/50\n",
      "21/21 [==============================] - 3s 137ms/step - loss: 2.8371 - acc: 0.2773 - val_loss: 4.4820 - val_acc: 0.1650\n",
      "Epoch 25/50\n",
      "21/21 [==============================] - 3s 138ms/step - loss: 2.6634 - acc: 0.3289 - val_loss: 4.5398 - val_acc: 0.1750\n",
      "Epoch 26/50\n",
      "21/21 [==============================] - 3s 133ms/step - loss: 2.6266 - acc: 0.3060 - val_loss: 4.8412 - val_acc: 0.1950\n",
      "Epoch 27/50\n",
      "21/21 [==============================] - 3s 136ms/step - loss: 2.5421 - acc: 0.3429 - val_loss: 4.5787 - val_acc: 0.2150\n",
      "Epoch 28/50\n",
      "21/21 [==============================] - 3s 137ms/step - loss: 2.3897 - acc: 0.3816 - val_loss: 4.7725 - val_acc: 0.1900\n",
      "Epoch 29/50\n",
      "21/21 [==============================] - 3s 131ms/step - loss: 2.2799 - acc: 0.4039 - val_loss: 4.6934 - val_acc: 0.1950\n",
      "Epoch 30/50\n",
      "21/21 [==============================] - 3s 131ms/step - loss: 2.3545 - acc: 0.3433 - val_loss: 4.6612 - val_acc: 0.2350\n",
      "Epoch 31/50\n",
      "21/21 [==============================] - 3s 131ms/step - loss: 2.2857 - acc: 0.4028 - val_loss: 4.4829 - val_acc: 0.2100\n",
      "Epoch 32/50\n",
      "21/21 [==============================] - 3s 129ms/step - loss: 2.2612 - acc: 0.3837 - val_loss: 4.5358 - val_acc: 0.2400\n",
      "Epoch 33/50\n",
      "21/21 [==============================] - 3s 124ms/step - loss: 2.1634 - acc: 0.3931 - val_loss: 4.5984 - val_acc: 0.2150\n",
      "Epoch 34/50\n",
      "21/21 [==============================] - 3s 124ms/step - loss: 2.2376 - acc: 0.3952 - val_loss: 4.7689 - val_acc: 0.2000\n",
      "Epoch 35/50\n",
      "21/21 [==============================] - 3s 125ms/step - loss: 1.9543 - acc: 0.4694 - val_loss: 4.7549 - val_acc: 0.2250\n",
      "Epoch 36/50\n",
      "21/21 [==============================] - 3s 125ms/step - loss: 2.2887 - acc: 0.3703 - val_loss: 4.6573 - val_acc: 0.2450\n",
      "Epoch 37/50\n",
      "21/21 [==============================] - 3s 125ms/step - loss: 2.1135 - acc: 0.4096 - val_loss: 4.9024 - val_acc: 0.2350\n",
      "Epoch 38/50\n",
      "21/21 [==============================] - 3s 124ms/step - loss: 2.0650 - acc: 0.4252 - val_loss: 5.2072 - val_acc: 0.2000\n",
      "Epoch 39/50\n",
      "21/21 [==============================] - 3s 124ms/step - loss: 2.0611 - acc: 0.4437 - val_loss: 4.7907 - val_acc: 0.2250\n",
      "Epoch 40/50\n",
      "21/21 [==============================] - 3s 124ms/step - loss: 1.9764 - acc: 0.4647 - val_loss: 4.7164 - val_acc: 0.2250\n",
      "Epoch 41/50\n",
      "21/21 [==============================] - 3s 126ms/step - loss: 1.9553 - acc: 0.4503 - val_loss: 4.7242 - val_acc: 0.2300\n",
      "Epoch 42/50\n",
      "21/21 [==============================] - 3s 129ms/step - loss: 1.6882 - acc: 0.5194 - val_loss: 4.6224 - val_acc: 0.2300\n",
      "Epoch 43/50\n",
      "21/21 [==============================] - 3s 130ms/step - loss: 1.6929 - acc: 0.5132 - val_loss: 4.7486 - val_acc: 0.2150\n",
      "Epoch 44/50\n",
      "21/21 [==============================] - 3s 144ms/step - loss: 1.6728 - acc: 0.5011 - val_loss: 4.9086 - val_acc: 0.2000\n",
      "Epoch 45/50\n",
      "21/21 [==============================] - 3s 139ms/step - loss: 1.6577 - acc: 0.5253 - val_loss: 4.6269 - val_acc: 0.2350\n",
      "Epoch 46/50\n",
      "21/21 [==============================] - 3s 129ms/step - loss: 1.5606 - acc: 0.5451 - val_loss: 4.9157 - val_acc: 0.1500\n",
      "Epoch 47/50\n",
      "21/21 [==============================] - 3s 132ms/step - loss: 1.5846 - acc: 0.5568 - val_loss: 4.6221 - val_acc: 0.2400\n",
      "Epoch 48/50\n",
      "21/21 [==============================] - 3s 128ms/step - loss: 1.4203 - acc: 0.5855 - val_loss: 4.9158 - val_acc: 0.1800\n",
      "Epoch 49/50\n",
      "21/21 [==============================] - 3s 136ms/step - loss: 1.5036 - acc: 0.5423 - val_loss: 4.9807 - val_acc: 0.2050\n",
      "Epoch 50/50\n",
      "21/21 [==============================] - 3s 140ms/step - loss: 1.5381 - acc: 0.5540 - val_loss: 4.8350 - val_acc: 0.2150\n",
      "[INFO] serializing network...\n",
      "[INFO] serializing label binarizer...\n"
     ]
    }
   ],
   "source": [
    "# initialize the model\n",
    "print(len(lb.classes_))\n",
    "print(\"[INFO] compiling model...\")\n",
    "model = SmallerVGGNet.build(width=IMAGE_DIMS[1], height=IMAGE_DIMS[0],\n",
    "\tdepth=IMAGE_DIMS[2], classes=len(lb.classes_))\n",
    "opt = Adam(lr=INIT_LR, decay=INIT_LR / EPOCHS)\n",
    "model.compile(loss=\"categorical_crossentropy\", optimizer=opt,\n",
    "\tmetrics=[\"accuracy\"])\n",
    " \n",
    "# train the network\n",
    "print(\"[INFO] training network...\")\n",
    "H = model.fit_generator(\n",
    " \taug.flow(train_x, train_y, batch_size=BS),\n",
    "\tvalidation_data=(valid_x, valid_y),\n",
    "\tsteps_per_epoch=len(train_x) // BS,\n",
    "\tepochs=50, verbose=1)\n",
    "\n",
    "\n",
    "# save the model to disk\n",
    "print(\"[INFO] serializing network...\")\n",
    "model.save(project_path+\"model.hdf5\")\n",
    " \n",
    "# save the label binarizer to disk\n",
    "print(\"[INFO] serializing label binarizer...\")\n",
    "f = open(project_path+\"label.label\", \"wb\")\n",
    "f.write(pickle.dumps(lb))\n",
    "f.close()"
   ]
  },
  {
   "cell_type": "code",
   "execution_count": 24,
   "metadata": {},
   "outputs": [
    {
     "data": {
      "image/png": "[encoded data removed]",
      "text/plain": [
       "<Figure size 432x288 with 1 Axes>"
      ]
     },
     "metadata": {},
     "output_type": "display_data"
    }
   ],
   "source": [
    "plt.style.use(\"ggplot\")\n",
    "plt.figure()\n",
    "N = 50\n",
    "plt.plot(np.arange(0, N), H.history[\"loss\"], label=\"train_loss\")\n",
    "plt.plot(np.arange(0, N), H.history[\"val_loss\"], label=\"val_loss\")\n",
    "plt.plot(np.arange(0, N), H.history[\"acc\"], label=\"train_acc\")\n",
    "plt.plot(np.arange(0, N), H.history[\"val_acc\"], label=\"val_acc\")\n",
    "plt.title(\"Training Loss and Accuracy\")\n",
    "plt.xlabel(\"Epoch #\")\n",
    "plt.ylabel(\"Loss/Accuracy\")\n",
    "plt.legend(loc=\"upper left\")\n",
    "plt.savefig(project_path+\"loss.jpg\")"
   ]
  },
  {
   "cell_type": "code",
   "execution_count": 4,
   "metadata": {},
   "outputs": [],
   "source": [
    "from keras.models import load_model\n"
   ]
  },
  {
   "cell_type": "code",
   "execution_count": 15,
   "metadata": {},
   "outputs": [
    {
     "name": "stdout",
     "output_type": "stream",
     "text": [
      "1\n",
      "[INFO] loading network...\n"
     ]
    },
    {
     "name": "stderr",
     "output_type": "stream",
     "text": [
      "/home/mate/.virtualenvs/deeplearn_cpu/lib/python3.6/site-packages/sklearn/base.py:311: UserWarning: Trying to unpickle estimator LabelBinarizer from version 0.20.0 when using version 0.19.2. This might lead to breaking code or invalid results. Use at your own risk.\n",
      "  UserWarning)\n"
     ]
    },
    {
     "name": "stdout",
     "output_type": "stream",
     "text": [
      "[INFO] classifying image...\n",
      "27\n",
      "[INFO] 27\n"
     ]
    },
    {
     "data": {
      "text/plain": [
       "<matplotlib.image.AxesImage at 0x7f332533e470>"
      ]
     },
     "execution_count": 15,
     "metadata": {},
     "output_type": "execute_result"
    },
    {
     "data": {
      "image/png": "[encoded data removed]",
      "text/plain": [
       "<Figure size 432x288 with 1 Axes>"
      ]
     },
     "metadata": {
      "needs_background": "light"
     },
     "output_type": "display_data"
    }
   ],
   "source": [
    "\n",
    "# load the image\n",
    "# image = cv2.imread(project_path+\"me2.jpg\")\n",
    "image = cv2.imread(\"/home/mate/Pictures/dorka3.jpg\")\n",
    "\n",
    "face_cascade = cv2.CascadeClassifier('detector/haarcascade_frontalface_default.xml')\n",
    "\n",
    "gray = cv2.cvtColor(image, cv2.COLOR_BGR2GRAY)\n",
    "faces = face_cascade.detectMultiScale(gray, 1.1, 5)\n",
    "\n",
    "bb = []\n",
    "i = 0\n",
    "for (x,y,w,h) in faces:\n",
    "    bb.append([w * h, i])\n",
    "    #cv2.rectangle(img,(x,y),(x+w,y+h),(255,0,0),2)\n",
    " #   roi_gray = gray[y:y+h, x:x+w]\n",
    "    roi_color = image[y:y+h, x:x+w]\n",
    "    i += 1\n",
    "    print(i)\n",
    "    break\n",
    "#     cv2.imshow(\"faces/\"+path, roi_color)\n",
    "#         plt.figure()\n",
    "#         plt.imshow(roi_color)\n",
    "\n",
    "output = roi_color.copy()\n",
    "\n",
    "\n",
    "# pre-process the image for classification\n",
    "image = cv2.resize(image, (96, 96))\n",
    "image = image.astype(\"float\") / 255.0\n",
    "image = img_to_array(image)\n",
    "image = np.expand_dims(image, axis=0)\n",
    "\n",
    "# load the trained convolutional neural network and the label\n",
    "# binarizer\n",
    "print(\"[INFO] loading network...\")\n",
    "model = load_model(project_path+\"model.hdf5\")\n",
    "lb = pickle.loads(open(project_path+\"label.label\", \"rb\").read())\n",
    " \n",
    "# classify the input image\n",
    "print(\"[INFO] classifying image...\")\n",
    "proba = model.predict(image)[0]\n",
    "idx = np.argmax(proba)\n",
    "label = lb.classes_[idx]\n",
    "print(label)\n",
    "# build the label and draw the label on the image\n",
    "# label = \"{}: {:.2f}% ({})\".format(label, proba[idx] * 100, correct)\n",
    "# output = imutils.resize(output, width=400)\n",
    "# cv2.putText(output, label, (10, 25),  cv2.FONT_HERSHEY_SIMPLEX,\n",
    "# \t0.7, (0, 255, 0), 2)\n",
    " \n",
    "# show the output image\n",
    "print(\"[INFO] {}\".format(label))\n",
    "plt.imshow(output)"
   ]
  },
  {
   "cell_type": "code",
   "execution_count": null,
   "metadata": {},
   "outputs": [],
   "source": []
  }
 ],
 "metadata": {
  "kernelspec": {
   "display_name": "Python 3",
   "language": "python",
   "name": "python3"
  },
  "language_info": {
   "codemirror_mode": {
    "name": "ipython",
    "version": 3
   },
   "file_extension": ".py",
   "mimetype": "text/x-python",
   "name": "python",
   "nbconvert_exporter": "python",
   "pygments_lexer": "ipython3",
   "version": "3.6.5"
  }
 },
 "nbformat": 4,
 "nbformat_minor": 2
}
