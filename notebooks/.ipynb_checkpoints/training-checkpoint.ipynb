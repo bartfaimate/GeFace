{
 "cells": [
  {
   "cell_type": "markdown",
   "metadata": {},
   "source": [
    "# Training"
   ]
  },
  {
   "cell_type": "code",
   "execution_count": 1,
   "metadata": {},
   "outputs": [],
   "source": [
    "# Import all packages\n",
    "\n",
    "import numpy as np\n",
    "import pandas as pd\n",
    "import os\n",
    "import matplotlib.pyplot as plt\n",
    "import cv2\n",
    "import sys\n",
    "%matplotlib inline"
   ]
  },
  {
   "cell_type": "code",
   "execution_count": 2,
   "metadata": {},
   "outputs": [],
   "source": [
    "# chdir. it depends on the platform\n",
    "if sys.platform == 'linux':\n",
    "    # if os is linux cd to\n",
    "    project_path = \"/home/mate/develop/PycharmProjects/GeFace/\"\n",
    "    NUMBER_OF_DATA = 4000\n",
    "elif sys.platform is 'windows':\n",
    "    pass\n",
    "else:\n",
    "    pass\n",
    "\n",
    "os.chdir(project_path)"
   ]
  },
  {
   "cell_type": "code",
   "execution_count": 3,
   "metadata": {},
   "outputs": [
    {
     "name": "stdout",
     "output_type": "stream",
     "text": [
      "/home/mate/develop/PycharmProjects/GeFace\n"
     ]
    }
   ],
   "source": [
    "try:\n",
    "    print(os.getcwd())\n",
    "    # Open CSV with all informations\n",
    "    csv_file = pd.read_csv(\"faces_colored/faces_correct.csv\",delimiter = ',', encoding = \"ISO-8859-1\", engine='python')\n",
    "    pd.set_option('display.max_columns', 100)\n",
    "except (FileNotFoundError):\n",
    "    print(\"CSV file not found\")\n",
    "    current_path = os.getcwd()\n",
    "    print(\"Current path is \" + current_path)"
   ]
  },
  {
   "cell_type": "code",
   "execution_count": 4,
   "metadata": {},
   "outputs": [
    {
     "data": {
      "text/html": [
       "<div>\n",
       "<style scoped>\n",
       "    .dataframe tbody tr th:only-of-type {\n",
       "        vertical-align: middle;\n",
       "    }\n",
       "\n",
       "    .dataframe tbody tr th {\n",
       "        vertical-align: top;\n",
       "    }\n",
       "\n",
       "    .dataframe thead th {\n",
       "        text-align: right;\n",
       "    }\n",
       "</style>\n",
       "<table border=\"1\" class=\"dataframe\">\n",
       "  <thead>\n",
       "    <tr style=\"text-align: right;\">\n",
       "      <th></th>\n",
       "      <th>nr</th>\n",
       "      <th>age</th>\n",
       "      <th>full_path</th>\n",
       "      <th>gender</th>\n",
       "    </tr>\n",
       "  </thead>\n",
       "  <tbody>\n",
       "    <tr>\n",
       "      <th>0</th>\n",
       "      <td>0</td>\n",
       "      <td>69</td>\n",
       "      <td>01/nm0000001_rm124825600_1899-5-10_1968.jpg</td>\n",
       "      <td>1.0</td>\n",
       "    </tr>\n",
       "    <tr>\n",
       "      <th>1</th>\n",
       "      <td>1</td>\n",
       "      <td>71</td>\n",
       "      <td>01/nm0000001_rm3343756032_1899-5-10_1970.jpg</td>\n",
       "      <td>1.0</td>\n",
       "    </tr>\n",
       "    <tr>\n",
       "      <th>2</th>\n",
       "      <td>2</td>\n",
       "      <td>69</td>\n",
       "      <td>01/nm0000001_rm577153792_1899-5-10_1968.jpg</td>\n",
       "      <td>1.0</td>\n",
       "    </tr>\n",
       "    <tr>\n",
       "      <th>3</th>\n",
       "      <td>5</td>\n",
       "      <td>67</td>\n",
       "      <td>02/nm0000002_rm1075631616_1924-9-16_1991.jpg</td>\n",
       "      <td>0.0</td>\n",
       "    </tr>\n",
       "    <tr>\n",
       "      <th>4</th>\n",
       "      <td>6</td>\n",
       "      <td>80</td>\n",
       "      <td>02/nm0000002_rm1346607872_1924-9-16_2004.jpg</td>\n",
       "      <td>0.0</td>\n",
       "    </tr>\n",
       "  </tbody>\n",
       "</table>\n",
       "</div>"
      ],
      "text/plain": [
       "   nr  age                                     full_path  gender\n",
       "0   0   69   01/nm0000001_rm124825600_1899-5-10_1968.jpg     1.0\n",
       "1   1   71  01/nm0000001_rm3343756032_1899-5-10_1970.jpg     1.0\n",
       "2   2   69   01/nm0000001_rm577153792_1899-5-10_1968.jpg     1.0\n",
       "3   5   67  02/nm0000002_rm1075631616_1924-9-16_1991.jpg     0.0\n",
       "4   6   80  02/nm0000002_rm1346607872_1924-9-16_2004.jpg     0.0"
      ]
     },
     "execution_count": 4,
     "metadata": {},
     "output_type": "execute_result"
    }
   ],
   "source": [
    "csv_file.head()"
   ]
  },
  {
   "cell_type": "code",
   "execution_count": 5,
   "metadata": {},
   "outputs": [],
   "source": [
    "df = csv_file.drop(columns=[\"nr\"])"
   ]
  },
  {
   "cell_type": "code",
   "execution_count": 6,
   "metadata": {},
   "outputs": [
    {
     "data": {
      "text/html": [
       "<div>\n",
       "<style scoped>\n",
       "    .dataframe tbody tr th:only-of-type {\n",
       "        vertical-align: middle;\n",
       "    }\n",
       "\n",
       "    .dataframe tbody tr th {\n",
       "        vertical-align: top;\n",
       "    }\n",
       "\n",
       "    .dataframe thead th {\n",
       "        text-align: right;\n",
       "    }\n",
       "</style>\n",
       "<table border=\"1\" class=\"dataframe\">\n",
       "  <thead>\n",
       "    <tr style=\"text-align: right;\">\n",
       "      <th></th>\n",
       "      <th>age</th>\n",
       "      <th>full_path</th>\n",
       "      <th>gender</th>\n",
       "    </tr>\n",
       "  </thead>\n",
       "  <tbody>\n",
       "    <tr>\n",
       "      <th>0</th>\n",
       "      <td>69</td>\n",
       "      <td>01/nm0000001_rm124825600_1899-5-10_1968.jpg</td>\n",
       "      <td>1.0</td>\n",
       "    </tr>\n",
       "    <tr>\n",
       "      <th>1</th>\n",
       "      <td>71</td>\n",
       "      <td>01/nm0000001_rm3343756032_1899-5-10_1970.jpg</td>\n",
       "      <td>1.0</td>\n",
       "    </tr>\n",
       "    <tr>\n",
       "      <th>2</th>\n",
       "      <td>69</td>\n",
       "      <td>01/nm0000001_rm577153792_1899-5-10_1968.jpg</td>\n",
       "      <td>1.0</td>\n",
       "    </tr>\n",
       "    <tr>\n",
       "      <th>3</th>\n",
       "      <td>67</td>\n",
       "      <td>02/nm0000002_rm1075631616_1924-9-16_1991.jpg</td>\n",
       "      <td>0.0</td>\n",
       "    </tr>\n",
       "    <tr>\n",
       "      <th>4</th>\n",
       "      <td>80</td>\n",
       "      <td>02/nm0000002_rm1346607872_1924-9-16_2004.jpg</td>\n",
       "      <td>0.0</td>\n",
       "    </tr>\n",
       "  </tbody>\n",
       "</table>\n",
       "</div>"
      ],
      "text/plain": [
       "   age                                     full_path  gender\n",
       "0   69   01/nm0000001_rm124825600_1899-5-10_1968.jpg     1.0\n",
       "1   71  01/nm0000001_rm3343756032_1899-5-10_1970.jpg     1.0\n",
       "2   69   01/nm0000001_rm577153792_1899-5-10_1968.jpg     1.0\n",
       "3   67  02/nm0000002_rm1075631616_1924-9-16_1991.jpg     0.0\n",
       "4   80  02/nm0000002_rm1346607872_1924-9-16_2004.jpg     0.0"
      ]
     },
     "execution_count": 6,
     "metadata": {},
     "output_type": "execute_result"
    }
   ],
   "source": [
    "df.head()"
   ]
  },
  {
   "cell_type": "code",
   "execution_count": 7,
   "metadata": {},
   "outputs": [],
   "source": [
    "# create dataset for testing the network\n",
    "import random\n",
    "from sklearn.utils import shuffle\n",
    "from sklearn.preprocessing import StandardScaler\n",
    "\n",
    "\n",
    "proba_df = df.head(NUMBER_OF_DATA)\n",
    "\n",
    "# Randomize but always the same random numbers\n",
    "np.random.seed(42)\n",
    "random.seed(42)\n",
    "# shuffle rows\n",
    "proba_df = shuffle(proba_df)"
   ]
  },
  {
   "cell_type": "code",
   "execution_count": 8,
   "metadata": {},
   "outputs": [
    {
     "data": {
      "text/html": [
       "<div>\n",
       "<style scoped>\n",
       "    .dataframe tbody tr th:only-of-type {\n",
       "        vertical-align: middle;\n",
       "    }\n",
       "\n",
       "    .dataframe tbody tr th {\n",
       "        vertical-align: top;\n",
       "    }\n",
       "\n",
       "    .dataframe thead th {\n",
       "        text-align: right;\n",
       "    }\n",
       "</style>\n",
       "<table border=\"1\" class=\"dataframe\">\n",
       "  <thead>\n",
       "    <tr style=\"text-align: right;\">\n",
       "      <th></th>\n",
       "      <th>age</th>\n",
       "      <th>full_path</th>\n",
       "      <th>gender</th>\n",
       "    </tr>\n",
       "  </thead>\n",
       "  <tbody>\n",
       "    <tr>\n",
       "      <th>555</th>\n",
       "      <td>34</td>\n",
       "      <td>72/nm0000072_rm1799270400_1932-2-27_1966.jpg</td>\n",
       "      <td>0.0</td>\n",
       "    </tr>\n",
       "    <tr>\n",
       "      <th>3491</th>\n",
       "      <td>57</td>\n",
       "      <td>12/nm0000112_rm1216646912_1953-5-16_2010.jpg</td>\n",
       "      <td>1.0</td>\n",
       "    </tr>\n",
       "    <tr>\n",
       "      <th>527</th>\n",
       "      <td>47</td>\n",
       "      <td>63/nm0000063_rm1617153024_1915-4-21_1962.jpg</td>\n",
       "      <td>1.0</td>\n",
       "    </tr>\n",
       "    <tr>\n",
       "      <th>3925</th>\n",
       "      <td>49</td>\n",
       "      <td>13/nm0000113_rm3797801216_1964-7-26_2013.jpg</td>\n",
       "      <td>0.0</td>\n",
       "    </tr>\n",
       "    <tr>\n",
       "      <th>2989</th>\n",
       "      <td>25</td>\n",
       "      <td>06/nm0000106_rm2956035072_1975-2-22_2000.jpg</td>\n",
       "      <td>0.0</td>\n",
       "    </tr>\n",
       "  </tbody>\n",
       "</table>\n",
       "</div>"
      ],
      "text/plain": [
       "      age                                     full_path  gender\n",
       "555    34  72/nm0000072_rm1799270400_1932-2-27_1966.jpg     0.0\n",
       "3491   57  12/nm0000112_rm1216646912_1953-5-16_2010.jpg     1.0\n",
       "527    47  63/nm0000063_rm1617153024_1915-4-21_1962.jpg     1.0\n",
       "3925   49  13/nm0000113_rm3797801216_1964-7-26_2013.jpg     0.0\n",
       "2989   25  06/nm0000106_rm2956035072_1975-2-22_2000.jpg     0.0"
      ]
     },
     "execution_count": 8,
     "metadata": {},
     "output_type": "execute_result"
    }
   ],
   "source": [
    "proba_df.head()"
   ]
  },
  {
   "cell_type": "code",
   "execution_count": 9,
   "metadata": {},
   "outputs": [
    {
     "name": "stdout",
     "output_type": "stream",
     "text": [
      "train: 2800 | valid: 800 | test: 400\n"
     ]
    }
   ],
   "source": [
    "# calculate test train valid data numbers\n",
    "test_num = int(np.floor(0.1 * proba_df.shape[0]))\n",
    "valid_num = int(np.floor(0.2 * proba_df.shape[0]))\n",
    "train_num = int(proba_df.shape[0] - test_num - valid_num)\n",
    "print(\"train: {} | valid: {} | test: {}\".format(train_num, valid_num, test_num))"
   ]
  },
  {
   "cell_type": "code",
   "execution_count": 10,
   "metadata": {},
   "outputs": [
    {
     "data": {
      "text/plain": [
       "(400, 3)"
      ]
     },
     "execution_count": 10,
     "metadata": {},
     "output_type": "execute_result"
    }
   ],
   "source": [
    "# split the data into train valid and test data\n",
    "train_data = proba_df.iloc[0:train_num, :]\n",
    "train_data.shape\n",
    "\n",
    "valid_data = proba_df.iloc[train_num:train_num + valid_num, :]\n",
    "valid_data.shape\n",
    "\n",
    "test_data = proba_df.iloc[ train_num+valid_num:, :]\n",
    "test_data.shape"
   ]
  },
  {
   "cell_type": "code",
   "execution_count": 11,
   "metadata": {},
   "outputs": [
    {
     "data": {
      "text/plain": [
       "'faces_colored/13/nm0000113_rm3256192512_1964-7-26_2010.jpg'"
      ]
     },
     "execution_count": 11,
     "metadata": {},
     "output_type": "execute_result"
    }
   ],
   "source": [
    "image_path = \"faces_colored/\"\n",
    "x_train_p = image_path + train_data['full_path'].values\n",
    "x_valid_p = image_path + valid_data['full_path'].values\n",
    "x_test_p = image_path + test_data['full_path'].values\n",
    "\n",
    "# x_train_l = image_path + train_data['age'].values\n",
    "# x_valid_l = image_path + train_data['age'].values\n",
    "# x_test_l = image_path + train_data['age'].values\n",
    "\n",
    "x_test_p.shape\n",
    "x_test_p[0]"
   ]
  },
  {
   "cell_type": "code",
   "execution_count": 12,
   "metadata": {},
   "outputs": [
    {
     "name": "stdout",
     "output_type": "stream",
     "text": [
      "age: 2800  |  800\n"
     ]
    }
   ],
   "source": [
    "# get the ages\n",
    "y_train = train_data['age'].values\n",
    "y_valid = valid_data['age'].values\n",
    "y_test = test_data['age'].values\n",
    "\n",
    "print(\"age:\" ,len(y_train), \" | \", len(y_valid))"
   ]
  },
  {
   "cell_type": "code",
   "execution_count": 13,
   "metadata": {},
   "outputs": [
    {
     "name": "stdout",
     "output_type": "stream",
     "text": [
      "gender: 2800  |  800\n"
     ]
    }
   ],
   "source": [
    "y_train_g = train_data['gender'].values\n",
    "y_valid_g = valid_data['gender'].values\n",
    "y_test_g = test_data['gender'].values\n",
    "print(\"gender:\", len(y_train_g), \" | \", len(y_valid_g))"
   ]
  },
  {
   "cell_type": "markdown",
   "metadata": {},
   "source": [
    "# Copy train, valid, test data into a new folder"
   ]
  },
  {
   "cell_type": "code",
   "execution_count": 14,
   "metadata": {},
   "outputs": [
    {
     "data": {
      "text/html": [
       "<div>\n",
       "<style scoped>\n",
       "    .dataframe tbody tr th:only-of-type {\n",
       "        vertical-align: middle;\n",
       "    }\n",
       "\n",
       "    .dataframe tbody tr th {\n",
       "        vertical-align: top;\n",
       "    }\n",
       "\n",
       "    .dataframe thead th {\n",
       "        text-align: right;\n",
       "    }\n",
       "</style>\n",
       "<table border=\"1\" class=\"dataframe\">\n",
       "  <thead>\n",
       "    <tr style=\"text-align: right;\">\n",
       "      <th></th>\n",
       "      <th>age</th>\n",
       "      <th>full_path</th>\n",
       "      <th>gender</th>\n",
       "    </tr>\n",
       "  </thead>\n",
       "  <tbody>\n",
       "    <tr>\n",
       "      <th>555</th>\n",
       "      <td>34</td>\n",
       "      <td>72/nm0000072_rm1799270400_1932-2-27_1966.jpg</td>\n",
       "      <td>0.0</td>\n",
       "    </tr>\n",
       "    <tr>\n",
       "      <th>3491</th>\n",
       "      <td>57</td>\n",
       "      <td>12/nm0000112_rm1216646912_1953-5-16_2010.jpg</td>\n",
       "      <td>1.0</td>\n",
       "    </tr>\n",
       "    <tr>\n",
       "      <th>527</th>\n",
       "      <td>47</td>\n",
       "      <td>63/nm0000063_rm1617153024_1915-4-21_1962.jpg</td>\n",
       "      <td>1.0</td>\n",
       "    </tr>\n",
       "    <tr>\n",
       "      <th>3925</th>\n",
       "      <td>49</td>\n",
       "      <td>13/nm0000113_rm3797801216_1964-7-26_2013.jpg</td>\n",
       "      <td>0.0</td>\n",
       "    </tr>\n",
       "    <tr>\n",
       "      <th>2989</th>\n",
       "      <td>25</td>\n",
       "      <td>06/nm0000106_rm2956035072_1975-2-22_2000.jpg</td>\n",
       "      <td>0.0</td>\n",
       "    </tr>\n",
       "  </tbody>\n",
       "</table>\n",
       "</div>"
      ],
      "text/plain": [
       "      age                                     full_path  gender\n",
       "555    34  72/nm0000072_rm1799270400_1932-2-27_1966.jpg     0.0\n",
       "3491   57  12/nm0000112_rm1216646912_1953-5-16_2010.jpg     1.0\n",
       "527    47  63/nm0000063_rm1617153024_1915-4-21_1962.jpg     1.0\n",
       "3925   49  13/nm0000113_rm3797801216_1964-7-26_2013.jpg     0.0\n",
       "2989   25  06/nm0000106_rm2956035072_1975-2-22_2000.jpg     0.0"
      ]
     },
     "execution_count": 14,
     "metadata": {},
     "output_type": "execute_result"
    }
   ],
   "source": [
    "proba_df.head()"
   ]
  },
  {
   "cell_type": "code",
   "execution_count": 15,
   "metadata": {
    "scrolled": true
   },
   "outputs": [
    {
     "name": "stdout",
     "output_type": "stream",
     "text": [
      "test_face Direcotry exist\n",
      "train_face Direcotry exist\n",
      "valid_face Direcotry exist\n"
     ]
    }
   ],
   "source": [
    "from shutil import copyfile, copy2\n",
    "try:\n",
    "    os.mkdir(\"test_face\")\n",
    "except FileExistsError:\n",
    "    print(\"test_face Direcotry exist\")\n",
    "    \n",
    "# training \n",
    "try:\n",
    "    os.mkdir(\"train_face\")\n",
    "    # create directory structure\n",
    "    \n",
    "    \n",
    "except FileExistsError:\n",
    "    print(\"train_face Direcotry exist\")\n",
    "    \n",
    "for i in range(100):\n",
    "    try:\n",
    "        if i < 10:\n",
    "        \n",
    "            os.mkdir(\"train_face/0\" + str(i))\n",
    "        else:\n",
    "            os.mkdir(\"train_face/\" + str(i))\n",
    "    except FileExistsError:\n",
    "        continue\n",
    "i = 0\n",
    "dest_path = \"train_face/\"+train_data['full_path'].values\n",
    "for p in x_train_p:\n",
    "    \n",
    "    copy2(p, dest_path[i])\n",
    "    i += 1\n",
    "#     print(\"train_face/\"+train_data['full_path'].values)\n",
    "#     print(dest_path[i])\n",
    "\n",
    "# validation\n",
    "try:\n",
    "    os.mkdir(\"valid_face\")\n",
    "    # create directory structure\n",
    "    \n",
    "    for i in range(100):\n",
    "        try:\n",
    "            if i < 10:\n",
    "            \n",
    "                os.mkdir(\"valid_face/0\" + str(i))\n",
    "            else:\n",
    "                os.mkdir(\"valid_face/\" + str(i))\n",
    "        except FileExistsError:\n",
    "            continue\n",
    "except FileExistsError:\n",
    "    print(\"valid_face Direcotry exist\")\n",
    "    \n",
    "i = 0\n",
    "dest_path = \"valid_face/\"+valid_data['full_path'].values\n",
    "for p in x_valid_p:\n",
    "    \n",
    "    copy2(p, dest_path[i])\n",
    "    i += 1\n",
    "#     print(\"train_face/\"+train_data['full_path'].values)\n",
    "#     print(dest_path[i])"
   ]
  },
  {
   "cell_type": "markdown",
   "metadata": {},
   "source": [
    "# Training and model building"
   ]
  },
  {
   "cell_type": "code",
   "execution_count": 16,
   "metadata": {},
   "outputs": [
    {
     "name": "stderr",
     "output_type": "stream",
     "text": [
      "Using TensorFlow backend.\n",
      "/home/mate/.virtualenvs/deeplearn_gpu/lib/python3.6/site-packages/ipykernel_launcher.py:14: UserWarning: matplotlib.pyplot as already been imported, this call will have no effect.\n",
      "  \n"
     ]
    }
   ],
   "source": [
    "# import the necessary packages\n",
    "import sys\n",
    "import os\n",
    "import PIL\n",
    "from keras.layers import *\n",
    "from keras.optimizers import *\n",
    "from keras.applications import *\n",
    "from keras.models import Model, Sequential\n",
    "from keras.preprocessing.image import ImageDataGenerator\n",
    "from keras.callbacks import ModelCheckpoint, EarlyStopping\n",
    "\n",
    "# set the matplotlib backend so figures can be saved in the background\n",
    "import matplotlib\n",
    "matplotlib.use(\"Agg\")\n",
    " \n",
    "# import the necessary packages\n",
    "from keras.preprocessing.image import ImageDataGenerator\n",
    "from keras.optimizers import Adam\n",
    "from keras.preprocessing.image import img_to_array\n",
    "from sklearn.preprocessing import LabelBinarizer, MultiLabelBinarizer\n",
    "from sklearn.model_selection import train_test_split\n",
    "# from pyimagesearch.smallervggnet import SmallerVGGNet\n",
    "import matplotlib.pyplot as plt\n",
    "# from imutils import paths\n",
    "import numpy as np\n",
    "import argparse\n",
    "import random\n",
    "import pickle\n",
    "import cv2\n",
    "import os"
   ]
  },
  {
   "cell_type": "code",
   "execution_count": 17,
   "metadata": {},
   "outputs": [],
   "source": [
    "class SmallerVGGNet:\n",
    "    @staticmethod\n",
    "    def build(width, height, depth, classes):\n",
    "        # initialize the model along with the input shape to be\n",
    "        # \"channels last\" and the channels dimension itself\n",
    "        model = Sequential()\n",
    "        inputShape = (height, width, depth)\n",
    "        chanDim = -1\n",
    " \n",
    "        # if we are using \"channels first\", update the input shape\n",
    "        # and channels dimension\n",
    "        if K.image_data_format() == \"channels_first\":\n",
    "            inputShape = (depth, height, width)\n",
    "            chanDim = 1\n",
    "            \n",
    "        # CONV => RELU => POOL\n",
    "        model.add(Conv2D(32, (3, 3), padding=\"same\",\n",
    "            input_shape=inputShape))\n",
    "        model.add(Activation(\"relu\"))\n",
    "        model.add(BatchNormalization(axis=chanDim))\n",
    "        model.add(MaxPooling2D(pool_size=(3, 3)))\n",
    "        model.add(Dropout(0.25))\n",
    "        \n",
    "        # (CONV => RELU) * 2 => POOL\n",
    "        model.add(Conv2D(64, (3, 3), padding=\"same\"))\n",
    "        model.add(Activation(\"relu\"))\n",
    "        model.add(BatchNormalization(axis=chanDim))\n",
    "        model.add(Conv2D(64, (3, 3), padding=\"same\"))\n",
    "        model.add(Activation(\"relu\"))\n",
    "        model.add(BatchNormalization(axis=chanDim))\n",
    "        model.add(MaxPooling2D(pool_size=(2, 2)))\n",
    "        model.add(Dropout(0.25))\n",
    "        \n",
    "        \n",
    "        # (CONV => RELU) * 2 => POOL\n",
    "        model.add(Conv2D(128, (3, 3), padding=\"same\"))\n",
    "        model.add(Activation(\"relu\"))\n",
    "        model.add(BatchNormalization(axis=chanDim))\n",
    "        model.add(Conv2D(128, (3, 3), padding=\"same\"))\n",
    "        model.add(Activation(\"relu\"))\n",
    "        model.add(BatchNormalization(axis=chanDim))\n",
    "        model.add(MaxPooling2D(pool_size=(2, 2)))\n",
    "        model.add(Dropout(0.25))\n",
    "        \n",
    "        # (CONV => RELU) * 2 => POOL\n",
    "        model.add(Conv2D(128, (3, 3), padding=\"same\"))\n",
    "        model.add(Activation(\"relu\"))\n",
    "        model.add(BatchNormalization(axis=chanDim))\n",
    "        model.add(Conv2D(128, (3, 3), padding=\"same\"))\n",
    "        model.add(Activation(\"relu\"))\n",
    "        model.add(BatchNormalization(axis=chanDim))\n",
    "        model.add(MaxPooling2D(pool_size=(2, 2)))\n",
    "        model.add(Dropout(0.25))\n",
    "        \n",
    "        \n",
    "        # first (and only) set of FC => RELU layers\n",
    "        model.add(Flatten())\n",
    "        model.add(Dense(1024))\n",
    "        model.add(Activation(\"relu\"))\n",
    "        model.add(BatchNormalization())\n",
    "        model.add(Dropout(0.5))\n",
    "#         print(\"mknlm\")\n",
    "        # softmax classifier\n",
    "        model.add(Dense(classes))\n",
    "#         print(\"ffjseoijwojdowq\")\n",
    "        model.add(Activation(\"sigmoid\"))\n",
    " \n",
    "        # return the constructed network architecture\n",
    "        return model"
   ]
  },
  {
   "cell_type": "code",
   "execution_count": 18,
   "metadata": {},
   "outputs": [],
   "source": [
    "# fix seed for reproducible results (only works on CPU, not GPU)\n",
    "seed = 42\n",
    "np.random.seed(seed=seed)\n",
    "tf.set_random_seed(seed=seed)"
   ]
  },
  {
   "cell_type": "code",
   "execution_count": 19,
   "metadata": {},
   "outputs": [],
   "source": [
    "# initialize the number of epochs to train for, initial learning rate,\n",
    "# batch size, and image dimensions\n",
    "EPOCHS = 100\n",
    "INIT_LR = 1e-3\n",
    "BS = 32\n",
    "IMAGE_DIMS = (96, 96, 3)\n",
    " \n",
    "# initialize the data and labels\n",
    "# train_x = []\n",
    "# train_y = []\n",
    "\n",
    "# valid_x = []\n",
    "# valid_y = []\n",
    "\n"
   ]
  },
  {
   "cell_type": "code",
   "execution_count": 20,
   "metadata": {},
   "outputs": [],
   "source": [
    "# Create inputs\n",
    "\n",
    "# train\n",
    "# loop over the input images\n",
    "train_x = []\n",
    "for imagePath in x_train_p:\n",
    "    # load the image, pre-process it, and store it in the data list\n",
    "    image = cv2.imread(imagePath)\n",
    "    image = img_to_array(image)\n",
    "    train_x.append(image)\n",
    "    \n",
    "# valid\n",
    "# loop over the input images\n",
    "valid_x = []\n",
    "for imagePath in x_valid_p:\n",
    "    # load the image, pre-process it, and store it in the data list\n",
    "    image = cv2.imread(imagePath)\n",
    "    image = img_to_array(image)\n",
    "    valid_x.append(image)\n",
    " "
   ]
  },
  {
   "cell_type": "code",
   "execution_count": 21,
   "metadata": {},
   "outputs": [],
   "source": [
    "# Create ouptuts\n",
    "\n",
    "train_y = []\n",
    "for i in range(len(y_train_g)):\n",
    "    \n",
    "    l = ( (str(y_train[i])), str(y_train_g[i]))\n",
    "    train_y.append(l)\n",
    "    \n",
    "valid_y = []    \n",
    "for i in range(len(y_valid_g)):\n",
    "    l = ( str(y_valid[i]), str(y_valid_g[i]))\n",
    "    valid_y.append(l)"
   ]
  },
  {
   "cell_type": "code",
   "execution_count": 22,
   "metadata": {},
   "outputs": [],
   "source": [
    "# valid_y"
   ]
  },
  {
   "cell_type": "code",
   "execution_count": 23,
   "metadata": {},
   "outputs": [
    {
     "name": "stdout",
     "output_type": "stream",
     "text": [
      "[INFO] data matrix: 604.80MB\n",
      "[INFO] data matrix: 172.80MB\n",
      "[INFO] class labels:\n",
      "1. 0.0\n",
      "2. 1.0\n",
      "3. 11\n",
      "4. 15\n",
      "5. 17\n",
      "6. 18\n",
      "7. 19\n",
      "8. 20\n",
      "9. 21\n",
      "10. 22\n",
      "11. 23\n",
      "12. 24\n",
      "13. 25\n",
      "14. 26\n",
      "15. 27\n",
      "16. 28\n",
      "17. 29\n",
      "18. 30\n",
      "19. 31\n",
      "20. 32\n",
      "21. 33\n",
      "22. 34\n",
      "23. 35\n",
      "24. 36\n",
      "25. 37\n",
      "26. 38\n",
      "27. 39\n",
      "28. 40\n",
      "29. 41\n",
      "30. 42\n",
      "31. 43\n",
      "32. 44\n",
      "33. 45\n",
      "34. 46\n",
      "35. 47\n",
      "36. 48\n",
      "37. 49\n",
      "38. 50\n",
      "39. 51\n",
      "40. 52\n",
      "41. 53\n",
      "42. 54\n",
      "43. 55\n",
      "44. 56\n",
      "45. 57\n",
      "46. 58\n",
      "47. 59\n",
      "48. 60\n",
      "49. 61\n",
      "50. 62\n",
      "51. 63\n",
      "52. 64\n",
      "53. 65\n",
      "54. 66\n",
      "55. 67\n",
      "56. 68\n",
      "57. 69\n",
      "58. 7\n",
      "59. 70\n",
      "60. 71\n",
      "61. 72\n",
      "62. 73\n",
      "63. 74\n",
      "64. 75\n",
      "65. 76\n",
      "66. 77\n",
      "67. 78\n",
      "68. 79\n",
      "69. 80\n",
      "70. 81\n",
      "71. 82\n",
      "72. 84\n",
      "73. 85\n",
      "74. 87\n",
      "75. 88\n",
      "76. 92\n",
      "77. 94\n",
      "2800\n",
      "800\n"
     ]
    },
    {
     "name": "stderr",
     "output_type": "stream",
     "text": [
      "/home/mate/.virtualenvs/deeplearn_gpu/lib/python3.6/site-packages/sklearn/preprocessing/label.py:930: UserWarning: unknown class(es) ['83', '86', '9', 'nan'] will be ignored\n",
      "  .format(sorted(unknown, key=str)))\n"
     ]
    }
   ],
   "source": [
    "# scale the raw pixel intensities to the range [0, 1]\n",
    "train_x = np.array(train_x, dtype=\"float\") / 255.0\n",
    "train_y = np.array(train_y)\n",
    "# print(train_y)\n",
    "print(\"[INFO] data matrix: {:.2f}MB\".format(\n",
    "\ttrain_x.nbytes / (1024 * 1000.0)))\n",
    " \n",
    "# binarize the labels\n",
    "# lb = LabelBinarizer()\n",
    "# train_y = lb.fit_transform(train_y)\n",
    "mlb = MultiLabelBinarizer()\n",
    "train_y = mlb.fit_transform(train_y)\n",
    " \n",
    " \n",
    "# scale the raw pixel intensities to the range [0, 1]\n",
    "valid_x = np.array(valid_x, dtype=\"float\") / 255.0\n",
    "valid_y = np.array(valid_y)\n",
    "print(\"[INFO] data matrix: {:.2f}MB\".format(\n",
    "\tvalid_x.nbytes / (1024 * 1000.0)))\n",
    " \n",
    "# binarize the labels\n",
    "# lb1 = LabelBinarizer()\n",
    "# valid_y = lb.transform(valid_y)\n",
    "\n",
    "print(\"[INFO] class labels:\")\n",
    "# mlb = MultiLabelBinarizer()\n",
    "valid_y = mlb.transform(valid_y)\n",
    " \n",
    "# loop over each of the possible class labels and show them\n",
    "for (i, label) in enumerate(mlb.classes_):\n",
    "\tprint(\"{}. {}\".format(i + 1, label))\n",
    "    \n",
    "print(len(train_x))\n",
    "# print(len(train_y))\n",
    "print(len(valid_x))\n",
    "# print(len(valid_y))"
   ]
  },
  {
   "cell_type": "code",
   "execution_count": 24,
   "metadata": {},
   "outputs": [
    {
     "data": {
      "text/plain": [
       "array([[1, 0, 0, ..., 0, 0, 0],\n",
       "       [0, 1, 0, ..., 0, 0, 0],\n",
       "       [0, 1, 0, ..., 0, 0, 0],\n",
       "       ...,\n",
       "       [1, 0, 0, ..., 0, 0, 0],\n",
       "       [1, 0, 0, ..., 0, 0, 0],\n",
       "       [1, 0, 0, ..., 0, 0, 0]])"
      ]
     },
     "execution_count": 24,
     "metadata": {},
     "output_type": "execute_result"
    }
   ],
   "source": [
    "train_y"
   ]
  },
  {
   "cell_type": "code",
   "execution_count": 25,
   "metadata": {},
   "outputs": [],
   "source": [
    "# construct the image generator for data augmentation\n",
    "aug = ImageDataGenerator(rotation_range=25, width_shift_range=0.1,\n",
    "\theight_shift_range=0.1, shear_range=0.2, zoom_range=0.2,\n",
    "\thorizontal_flip=True, fill_mode=\"nearest\")"
   ]
  },
  {
   "cell_type": "code",
   "execution_count": 26,
   "metadata": {},
   "outputs": [
    {
     "name": "stdout",
     "output_type": "stream",
     "text": [
      "Classes number 77\n",
      "[INFO] compiling model...\n",
      "[INFO] training network...\n",
      "Epoch 1/100\n",
      "87/87 [==============================] - 14s 164ms/step - loss: 0.6823 - acc: 0.6686 - val_loss: 0.2862 - val_acc: 0.9446\n",
      "\n",
      "Epoch 00001: val_acc improved from -inf to 0.94464, saving model to /home/mate/develop/PycharmProjects/GeFace/model.hdf5\n",
      "Epoch 2/100\n",
      "87/87 [==============================] - 10s 120ms/step - loss: 0.1569 - acc: 0.9668 - val_loss: 0.1130 - val_acc: 0.9762\n",
      "\n",
      "Epoch 00002: val_acc improved from 0.94464 to 0.97625, saving model to /home/mate/develop/PycharmProjects/GeFace/model.hdf5\n",
      "Epoch 3/100\n",
      "87/87 [==============================] - 10s 112ms/step - loss: 0.0951 - acc: 0.9754 - val_loss: 0.0868 - val_acc: 0.9771\n",
      "\n",
      "Epoch 00003: val_acc improved from 0.97625 to 0.97708, saving model to /home/mate/develop/PycharmProjects/GeFace/model.hdf5\n",
      "Epoch 4/100\n",
      "87/87 [==============================] - 12s 138ms/step - loss: 0.0897 - acc: 0.9759 - val_loss: 0.0837 - val_acc: 0.9766\n",
      "\n",
      "Epoch 00004: val_acc did not improve from 0.97708\n",
      "Epoch 5/100\n",
      "87/87 [==============================] - 11s 127ms/step - loss: 0.0878 - acc: 0.9765 - val_loss: 0.0828 - val_acc: 0.9781\n",
      "\n",
      "Epoch 00005: val_acc improved from 0.97708 to 0.97812, saving model to /home/mate/develop/PycharmProjects/GeFace/model.hdf5\n",
      "Epoch 6/100\n",
      "87/87 [==============================] - 11s 126ms/step - loss: 0.0863 - acc: 0.9766 - val_loss: 0.0856 - val_acc: 0.9779\n",
      "\n",
      "Epoch 00006: val_acc did not improve from 0.97812\n",
      "Epoch 7/100\n",
      "87/87 [==============================] - 10s 120ms/step - loss: 0.0848 - acc: 0.9771 - val_loss: 0.0823 - val_acc: 0.9780\n",
      "\n",
      "Epoch 00007: val_acc did not improve from 0.97812\n",
      "Epoch 8/100\n",
      "87/87 [==============================] - 10s 114ms/step - loss: 0.0843 - acc: 0.9773 - val_loss: 0.0887 - val_acc: 0.9768\n",
      "\n",
      "Epoch 00008: val_acc did not improve from 0.97812\n",
      "Epoch 9/100\n",
      "87/87 [==============================] - 10s 117ms/step - loss: 0.0852 - acc: 0.9774 - val_loss: 0.0887 - val_acc: 0.9775\n",
      "\n",
      "Epoch 00009: val_acc did not improve from 0.97812\n",
      "Epoch 10/100\n",
      "87/87 [==============================] - 10s 117ms/step - loss: 0.0826 - acc: 0.9778 - val_loss: 0.0773 - val_acc: 0.9789\n",
      "\n",
      "Epoch 00010: val_acc improved from 0.97812 to 0.97893, saving model to /home/mate/develop/PycharmProjects/GeFace/model.hdf5\n",
      "Epoch 11/100\n",
      "87/87 [==============================] - 10s 115ms/step - loss: 0.0825 - acc: 0.9778 - val_loss: 0.0806 - val_acc: 0.9785\n",
      "\n",
      "Epoch 00011: val_acc did not improve from 0.97893\n",
      "Epoch 12/100\n",
      "87/87 [==============================] - 10s 112ms/step - loss: 0.0815 - acc: 0.9783 - val_loss: 0.0820 - val_acc: 0.9794\n",
      "\n",
      "Epoch 00012: val_acc improved from 0.97893 to 0.97942, saving model to /home/mate/develop/PycharmProjects/GeFace/model.hdf5\n",
      "Epoch 13/100\n",
      "87/87 [==============================] - 10s 113ms/step - loss: 0.0815 - acc: 0.9783 - val_loss: 0.0797 - val_acc: 0.9786\n",
      "\n",
      "Epoch 00013: val_acc did not improve from 0.97942\n",
      "Epoch 14/100\n",
      "87/87 [==============================] - 10s 116ms/step - loss: 0.0809 - acc: 0.9782 - val_loss: 0.0786 - val_acc: 0.9788\n",
      "\n",
      "Epoch 00014: val_acc did not improve from 0.97942\n",
      "Epoch 15/100\n",
      "87/87 [==============================] - 10s 111ms/step - loss: 0.0803 - acc: 0.9784 - val_loss: 0.0805 - val_acc: 0.9787\n",
      "\n",
      "Epoch 00015: val_acc did not improve from 0.97942\n",
      "[INFO] serializing network...\n",
      "[INFO] serializing label binarizer...\n",
      "[INFO] finished\n"
     ]
    }
   ],
   "source": [
    "# initialize the model\n",
    "print(\"Classes number\", len(mlb.classes_))\n",
    "print(\"[INFO] compiling model...\")\n",
    "# load model\n",
    "model = SmallerVGGNet.build(width=IMAGE_DIMS[1], height=IMAGE_DIMS[0],\n",
    "\tdepth=IMAGE_DIMS[2], classes=len(mlb.classes_))\n",
    "# create optimazitions method\n",
    "opt = Adam(lr=INIT_LR, decay=INIT_LR / EPOCHS)\n",
    "\n",
    "#model.compile(loss=\"categorical_crossentropy\", optimizer=opt,\n",
    "#\tmetrics=[\"accuracy\"])\n",
    "model.compile(loss=\"binary_crossentropy\", optimizer=opt,\n",
    "\tmetrics=[\"accuracy\"])\n",
    "\n",
    "# Create callback list for checkpoint and Earlystopping\n",
    "callbacks_list = [\n",
    "        ModelCheckpoint(project_path+\"model.hdf5\", monitor='val_acc', verbose=1, save_best_only=True),\n",
    "        EarlyStopping(monitor='val_loss', patience=5, verbose=0)\n",
    "    ]\n",
    "\n",
    "# train the network\n",
    "print(\"[INFO] training network...\")\n",
    "\n",
    "H = model.fit_generator(\n",
    " \taug.flow(train_x, train_y, batch_size=BS),\n",
    "\tvalidation_data=(valid_x, valid_y),\n",
    "\tsteps_per_epoch=len(train_x) // BS,\n",
    "\tepochs=EPOCHS, verbose=1,\n",
    "    callbacks=callbacks_list,\n",
    ")\n",
    "\n",
    "\n",
    "# save the model to disk\n",
    "print(\"[INFO] serializing network...\")\n",
    "model.save(project_path+\"model.hdf5\")\n",
    " \n",
    "# save the label binarizer to disk\n",
    "print(\"[INFO] serializing label binarizer...\")\n",
    "f = open(project_path+\"label.label\", \"wb\")\n",
    "f.write(pickle.dumps(mlb))\n",
    "f.close()\n",
    "print(\"[INFO] finished\")"
   ]
  },
  {
   "cell_type": "code",
   "execution_count": 27,
   "metadata": {},
   "outputs": [],
   "source": [
    "REAL_EPOCH = len(model.history.epoch)"
   ]
  },
  {
   "cell_type": "code",
   "execution_count": 28,
   "metadata": {},
   "outputs": [
    {
     "data": {
      "image/png": "[encoded data removed]",
      "text/plain": [
       "<Figure size 432x288 with 1 Axes>"
      ]
     },
     "metadata": {},
     "output_type": "display_data"
    }
   ],
   "source": [
    "plt.style.use(\"ggplot\")\n",
    "plt.figure()\n",
    "N = REAL_EPOCH\n",
    "plt.plot(np.arange(0, N), H.history[\"loss\"], label=\"train_loss\")\n",
    "plt.plot(np.arange(0, N), H.history[\"val_loss\"], label=\"val_loss\")\n",
    "plt.plot(np.arange(0, N), H.history[\"acc\"], label=\"train_acc\")\n",
    "plt.plot(np.arange(0, N), H.history[\"val_acc\"], label=\"val_acc\")\n",
    "plt.title(\"Training Loss and Accuracy\")\n",
    "plt.xlabel(\"Epoch #\")\n",
    "plt.ylabel(\"Loss/Accuracy\")\n",
    "plt.legend(loc=\"upper left\")\n",
    "plt.savefig(project_path+\"loss.jpg\")\n",
    "K.clear_session()"
   ]
  },
  {
   "cell_type": "code",
   "execution_count": 29,
   "metadata": {},
   "outputs": [],
   "source": [
    "from keras.models import load_model\n"
   ]
  },
  {
   "cell_type": "code",
   "execution_count": 35,
   "metadata": {},
   "outputs": [
    {
     "name": "stdout",
     "output_type": "stream",
     "text": [
      "[INFO] loading network...\n",
      "[INFO] classifying image...\n",
      "0.0: 23.48%\n",
      "1.0: 75.17%\n",
      "11: 0.42%\n",
      "15: 0.09%\n",
      "17: 0.12%\n",
      "18: 0.06%\n",
      "19: 0.10%\n",
      "20: 0.39%\n",
      "21: 0.19%\n",
      "22: 0.58%\n",
      "23: 0.35%\n",
      "24: 0.30%\n",
      "25: 5.01%\n",
      "26: 0.86%\n",
      "27: 1.41%\n",
      "28: 1.07%\n",
      "29: 2.91%\n",
      "30: 0.88%\n",
      "31: 2.08%\n",
      "32: 0.48%\n",
      "33: 1.21%\n",
      "34: 2.23%\n",
      "35: 1.09%\n",
      "36: 2.30%\n",
      "37: 1.39%\n",
      "38: 1.91%\n",
      "39: 1.96%\n",
      "40: 1.21%\n",
      "41: 3.53%\n",
      "42: 2.74%\n",
      "43: 1.08%\n",
      "44: 3.55%\n",
      "45: 2.20%\n",
      "46: 6.63%\n",
      "47: 1.47%\n",
      "48: 2.07%\n",
      "49: 1.65%\n",
      "50: 5.76%\n",
      "51: 2.00%\n",
      "52: 0.86%\n",
      "53: 0.66%\n",
      "54: 0.73%\n",
      "55: 1.99%\n",
      "56: 0.85%\n",
      "57: 0.71%\n",
      "58: 1.78%\n",
      "59: 0.62%\n",
      "60: 1.63%\n",
      "61: 1.14%\n",
      "62: 1.40%\n",
      "63: 0.29%\n",
      "64: 0.32%\n",
      "65: 0.41%\n",
      "66: 0.33%\n",
      "67: 0.36%\n",
      "68: 0.11%\n",
      "69: 0.28%\n",
      "7: 0.03%\n",
      "70: 0.38%\n",
      "71: 0.40%\n",
      "72: 0.05%\n",
      "73: 0.14%\n",
      "74: 0.15%\n",
      "75: 0.13%\n",
      "76: 0.21%\n",
      "77: 0.17%\n",
      "78: 0.67%\n",
      "79: 0.08%\n",
      "80: 0.66%\n",
      "81: 0.03%\n",
      "82: 0.07%\n",
      "84: 0.02%\n",
      "85: 0.19%\n",
      "87: 0.08%\n",
      "88: 0.07%\n",
      "92: 0.10%\n",
      "94: 0.07%\n"
     ]
    },
    {
     "data": {
      "text/plain": [
       "<matplotlib.image.AxesImage at 0x7f8895e2d908>"
      ]
     },
     "execution_count": 35,
     "metadata": {},
     "output_type": "execute_result"
    },
    {
     "data": {
      "image/png": "[encoded data removed]",
      "text/plain": [
       "<Figure size 432x288 with 1 Axes>"
      ]
     },
     "metadata": {},
     "output_type": "display_data"
    }
   ],
   "source": [
    "\n",
    "# load the image\n",
    "image = cv2.imread(project_path+\"me1.jpg\")\n",
    "# image = cv2.imread(\"/home/mate/Pictures/dorka1.jpg\")\n",
    "face_cascade = cv2.CascadeClassifier('detector/haarcascade_frontalface_default.xml')\n",
    "\n",
    "gray = cv2.cvtColor(image, cv2.COLOR_BGR2GRAY)\n",
    "faces = face_cascade.detectMultiScale(gray, 1.1, 5)\n",
    "\n",
    "bb = []\n",
    "i = 0\n",
    "output = image.copy()\n",
    "for (x,y,w,h) in faces:\n",
    "    bb.append([w * h, i])\n",
    "    cv2.rectangle(output,(x,y),(x+w,y+h),(255,0,0),2)\n",
    " #   roi_gray = gray[y:y+h, x:x+w]\n",
    "    roi_color = image[y:y+h, x:x+w]\n",
    "    i += 1\n",
    "    print(i)\n",
    "    break\n",
    "\n",
    "# pre-process the image for classification\n",
    "image = cv2.resize(image, (96, 96))\n",
    "image = image.astype(\"float\") / 255.0\n",
    "image = img_to_array(image)\n",
    "image = np.expand_dims(image, axis=0)\n",
    "\n",
    "# load the trained convolutional neural network and the label\n",
    "# binarizer\n",
    "print(\"[INFO] loading network...\")\n",
    "model = load_model(project_path+\"model.hdf5\")\n",
    "lb = pickle.loads(open(project_path+\"label.label\", \"rb\").read())\n",
    " \n",
    "# classify the input image\n",
    "print(\"[INFO] classifying image...\")\n",
    "proba = model.predict(image)[0]\n",
    "# idx = np.argmax(proba)\n",
    "idxs = np.argsort(proba)[::-1][:2]\n",
    "# label = lb.classes_[idx]\n",
    "# loop over the indexes of the high confidence class labels\n",
    "for (i, j) in enumerate(idxs):\n",
    "\t# build the label and draw the label on the image\n",
    "\tlabel = \"{}: {:.2f}%\".format(mlb.classes_[j], proba[j] * 100)\n",
    "\tcv2.putText(output, label, (10, (i * 30) + 25), \n",
    "\t\tcv2.FONT_HERSHEY_SIMPLEX, 0.7, (0, 255, 0), 2)\n",
    " \n",
    "# show the probabilities for each of the individual labels\n",
    "for (label, p) in zip(mlb.classes_, proba):\n",
    "\tprint(\"{}: {:.2f}%\".format(label, p * 100))\n",
    "# \tcv2.putText(output, label, (10, (i * 30) + 25), \n",
    "# \t\tcv2.FONT_HERSHEY_SIMPLEX, 0.7, (0, 255, 0), 2)\n",
    " \n",
    "# show the probabilities for each of the individual labels\n",
    "output = cv2.cvtColor(output, cv2.COLOR_BGR2RGB)\n",
    "# show the output image\n",
    "# print(\"[INFO] {} years old\".format(label))\n",
    "cv2.imwrite(project_path+\"output.jpg\", output)\n",
    "plt.imshow(output)"
   ]
  },
  {
   "cell_type": "code",
   "execution_count": null,
   "metadata": {},
   "outputs": [],
   "source": []
  }
 ],
 "metadata": {
  "kernelspec": {
   "display_name": "Python 3",
   "language": "python",
   "name": "python3"
  },
  "language_info": {
   "codemirror_mode": {
    "name": "ipython",
    "version": 3
   },
   "file_extension": ".py",
   "mimetype": "text/x-python",
   "name": "python",
   "nbconvert_exporter": "python",
   "pygments_lexer": "ipython3",
   "version": "3.6.5"
  }
 },
 "nbformat": 4,
 "nbformat_minor": 2
}
