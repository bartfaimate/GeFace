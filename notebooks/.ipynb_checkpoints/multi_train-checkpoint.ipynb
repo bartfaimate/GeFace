{
 "cells": [
  {
   "cell_type": "markdown",
   "metadata": {},
   "source": [
    "# Training"
   ]
  },
  {
   "cell_type": "code",
   "execution_count": 1,
   "metadata": {},
   "outputs": [],
   "source": [
    "# Import all packages\n",
    "\n",
    "import numpy as np\n",
    "import pandas as pd\n",
    "import os\n",
    "import matplotlib.pyplot as plt\n",
    "import cv2\n",
    "import sys\n",
    "%matplotlib inline"
   ]
  },
  {
   "cell_type": "code",
   "execution_count": 2,
   "metadata": {},
   "outputs": [],
   "source": [
    "# chdir. it depends on the platform\n",
    "if sys.platform == 'linux':\n",
    "    # if os is linux cd to\n",
    "    project_path = \"/home/mate/develop/PycharmProjects/GeFace/\"\n",
    "    NUMBER_OF_DATA = 9000\n",
    "elif sys.platform is 'windows':\n",
    "    pass\n",
    "else:\n",
    "    pass\n",
    "\n",
    "os.chdir(project_path)"
   ]
  },
  {
   "cell_type": "code",
   "execution_count": 3,
   "metadata": {},
   "outputs": [
    {
     "name": "stdout",
     "output_type": "stream",
     "text": [
      "/home/mate/develop/PycharmProjects/GeFace\n"
     ]
    }
   ],
   "source": [
    "try:\n",
    "    print(os.getcwd())\n",
    "    # Open CSV with all informations\n",
    "    csv_file = pd.read_csv(\"faces_colored/faces_correct.csv\",delimiter = ',', encoding = \"ISO-8859-1\", engine='python')\n",
    "    pd.set_option('display.max_columns', 100)\n",
    "except (FileNotFoundError):\n",
    "    print(\"CSV file not found\")\n",
    "    current_path = os.getcwd()\n",
    "    print(\"Current path is \" + current_path)"
   ]
  },
  {
   "cell_type": "code",
   "execution_count": 4,
   "metadata": {},
   "outputs": [
    {
     "data": {
      "text/html": [
       "<div>\n",
       "<style scoped>\n",
       "    .dataframe tbody tr th:only-of-type {\n",
       "        vertical-align: middle;\n",
       "    }\n",
       "\n",
       "    .dataframe tbody tr th {\n",
       "        vertical-align: top;\n",
       "    }\n",
       "\n",
       "    .dataframe thead th {\n",
       "        text-align: right;\n",
       "    }\n",
       "</style>\n",
       "<table border=\"1\" class=\"dataframe\">\n",
       "  <thead>\n",
       "    <tr style=\"text-align: right;\">\n",
       "      <th></th>\n",
       "      <th>nr</th>\n",
       "      <th>age</th>\n",
       "      <th>full_path</th>\n",
       "      <th>gender</th>\n",
       "    </tr>\n",
       "  </thead>\n",
       "  <tbody>\n",
       "    <tr>\n",
       "      <th>0</th>\n",
       "      <td>0</td>\n",
       "      <td>69</td>\n",
       "      <td>01/nm0000001_rm124825600_1899-5-10_1968.jpg</td>\n",
       "      <td>1.0</td>\n",
       "    </tr>\n",
       "    <tr>\n",
       "      <th>1</th>\n",
       "      <td>1</td>\n",
       "      <td>71</td>\n",
       "      <td>01/nm0000001_rm3343756032_1899-5-10_1970.jpg</td>\n",
       "      <td>1.0</td>\n",
       "    </tr>\n",
       "    <tr>\n",
       "      <th>2</th>\n",
       "      <td>2</td>\n",
       "      <td>69</td>\n",
       "      <td>01/nm0000001_rm577153792_1899-5-10_1968.jpg</td>\n",
       "      <td>1.0</td>\n",
       "    </tr>\n",
       "    <tr>\n",
       "      <th>3</th>\n",
       "      <td>5</td>\n",
       "      <td>67</td>\n",
       "      <td>02/nm0000002_rm1075631616_1924-9-16_1991.jpg</td>\n",
       "      <td>0.0</td>\n",
       "    </tr>\n",
       "    <tr>\n",
       "      <th>4</th>\n",
       "      <td>6</td>\n",
       "      <td>80</td>\n",
       "      <td>02/nm0000002_rm1346607872_1924-9-16_2004.jpg</td>\n",
       "      <td>0.0</td>\n",
       "    </tr>\n",
       "  </tbody>\n",
       "</table>\n",
       "</div>"
      ],
      "text/plain": [
       "   nr  age                                     full_path  gender\n",
       "0   0   69   01/nm0000001_rm124825600_1899-5-10_1968.jpg     1.0\n",
       "1   1   71  01/nm0000001_rm3343756032_1899-5-10_1970.jpg     1.0\n",
       "2   2   69   01/nm0000001_rm577153792_1899-5-10_1968.jpg     1.0\n",
       "3   5   67  02/nm0000002_rm1075631616_1924-9-16_1991.jpg     0.0\n",
       "4   6   80  02/nm0000002_rm1346607872_1924-9-16_2004.jpg     0.0"
      ]
     },
     "execution_count": 4,
     "metadata": {},
     "output_type": "execute_result"
    }
   ],
   "source": [
    "csv_file.head()"
   ]
  },
  {
   "cell_type": "code",
   "execution_count": 5,
   "metadata": {},
   "outputs": [],
   "source": [
    "#df = csv_file.drop(columns=[\"nr\"])\n",
    "df = csv_file "
   ]
  },
  {
   "cell_type": "code",
   "execution_count": 6,
   "metadata": {},
   "outputs": [],
   "source": [
    "# convert 1.0 to m as male\n",
    "#         0.0 to f as female\n",
    "def mod(x):\n",
    "    if x == 1.0:\n",
    "        x = \"m\"\n",
    "    else:\n",
    "        x = \"f\"\n",
    "    return x\n",
    "\n",
    "df[\"gender\"] = df[\"gender\"].apply(mod)"
   ]
  },
  {
   "cell_type": "code",
   "execution_count": 7,
   "metadata": {},
   "outputs": [
    {
     "data": {
      "text/html": [
       "<div>\n",
       "<style scoped>\n",
       "    .dataframe tbody tr th:only-of-type {\n",
       "        vertical-align: middle;\n",
       "    }\n",
       "\n",
       "    .dataframe tbody tr th {\n",
       "        vertical-align: top;\n",
       "    }\n",
       "\n",
       "    .dataframe thead th {\n",
       "        text-align: right;\n",
       "    }\n",
       "</style>\n",
       "<table border=\"1\" class=\"dataframe\">\n",
       "  <thead>\n",
       "    <tr style=\"text-align: right;\">\n",
       "      <th></th>\n",
       "      <th>nr</th>\n",
       "      <th>age</th>\n",
       "      <th>full_path</th>\n",
       "      <th>gender</th>\n",
       "    </tr>\n",
       "  </thead>\n",
       "  <tbody>\n",
       "    <tr>\n",
       "      <th>0</th>\n",
       "      <td>0</td>\n",
       "      <td>69</td>\n",
       "      <td>01/nm0000001_rm124825600_1899-5-10_1968.jpg</td>\n",
       "      <td>m</td>\n",
       "    </tr>\n",
       "    <tr>\n",
       "      <th>1</th>\n",
       "      <td>1</td>\n",
       "      <td>71</td>\n",
       "      <td>01/nm0000001_rm3343756032_1899-5-10_1970.jpg</td>\n",
       "      <td>m</td>\n",
       "    </tr>\n",
       "    <tr>\n",
       "      <th>2</th>\n",
       "      <td>2</td>\n",
       "      <td>69</td>\n",
       "      <td>01/nm0000001_rm577153792_1899-5-10_1968.jpg</td>\n",
       "      <td>m</td>\n",
       "    </tr>\n",
       "    <tr>\n",
       "      <th>3</th>\n",
       "      <td>5</td>\n",
       "      <td>67</td>\n",
       "      <td>02/nm0000002_rm1075631616_1924-9-16_1991.jpg</td>\n",
       "      <td>f</td>\n",
       "    </tr>\n",
       "    <tr>\n",
       "      <th>4</th>\n",
       "      <td>6</td>\n",
       "      <td>80</td>\n",
       "      <td>02/nm0000002_rm1346607872_1924-9-16_2004.jpg</td>\n",
       "      <td>f</td>\n",
       "    </tr>\n",
       "  </tbody>\n",
       "</table>\n",
       "</div>"
      ],
      "text/plain": [
       "   nr  age                                     full_path gender\n",
       "0   0   69   01/nm0000001_rm124825600_1899-5-10_1968.jpg      m\n",
       "1   1   71  01/nm0000001_rm3343756032_1899-5-10_1970.jpg      m\n",
       "2   2   69   01/nm0000001_rm577153792_1899-5-10_1968.jpg      m\n",
       "3   5   67  02/nm0000002_rm1075631616_1924-9-16_1991.jpg      f\n",
       "4   6   80  02/nm0000002_rm1346607872_1924-9-16_2004.jpg      f"
      ]
     },
     "execution_count": 7,
     "metadata": {},
     "output_type": "execute_result"
    }
   ],
   "source": [
    "df.head()"
   ]
  },
  {
   "cell_type": "code",
   "execution_count": 8,
   "metadata": {},
   "outputs": [],
   "source": [
    "# create dataset for testing the network\n",
    "import random\n",
    "from sklearn.utils import shuffle\n",
    "from sklearn.preprocessing import StandardScaler\n",
    "\n",
    "\n",
    "proba_df = df.head(NUMBER_OF_DATA)\n",
    "\n",
    "# Randomize but always the same random numbers\n",
    "np.random.seed(42)\n",
    "random.seed(42)\n",
    "# shuffle rows\n",
    "proba_df = shuffle(proba_df)"
   ]
  },
  {
   "cell_type": "code",
   "execution_count": 9,
   "metadata": {},
   "outputs": [
    {
     "data": {
      "text/html": [
       "<div>\n",
       "<style scoped>\n",
       "    .dataframe tbody tr th:only-of-type {\n",
       "        vertical-align: middle;\n",
       "    }\n",
       "\n",
       "    .dataframe tbody tr th {\n",
       "        vertical-align: top;\n",
       "    }\n",
       "\n",
       "    .dataframe thead th {\n",
       "        text-align: right;\n",
       "    }\n",
       "</style>\n",
       "<table border=\"1\" class=\"dataframe\">\n",
       "  <thead>\n",
       "    <tr style=\"text-align: right;\">\n",
       "      <th></th>\n",
       "      <th>nr</th>\n",
       "      <th>age</th>\n",
       "      <th>full_path</th>\n",
       "      <th>gender</th>\n",
       "    </tr>\n",
       "  </thead>\n",
       "  <tbody>\n",
       "    <tr>\n",
       "      <th>7940</th>\n",
       "      <td>13900</td>\n",
       "      <td>30</td>\n",
       "      <td>39/nm0000139_rm1366989568_1972-8-30_2002.jpg</td>\n",
       "      <td>f</td>\n",
       "    </tr>\n",
       "    <tr>\n",
       "      <th>1162</th>\n",
       "      <td>2180</td>\n",
       "      <td>44</td>\n",
       "      <td>93/nm0000093_rm3216481024_1963-12-18_2007.jpg</td>\n",
       "      <td>m</td>\n",
       "    </tr>\n",
       "    <tr>\n",
       "      <th>582</th>\n",
       "      <td>1218</td>\n",
       "      <td>46</td>\n",
       "      <td>76/nm0000076_rm1079950080_1932-2-6_1978.jpg</td>\n",
       "      <td>m</td>\n",
       "    </tr>\n",
       "    <tr>\n",
       "      <th>4081</th>\n",
       "      <td>7006</td>\n",
       "      <td>53</td>\n",
       "      <td>14/nm0000114_rm3459219712_1957-12-13_2010.jpg</td>\n",
       "      <td>m</td>\n",
       "    </tr>\n",
       "    <tr>\n",
       "      <th>8412</th>\n",
       "      <td>14656</td>\n",
       "      <td>50</td>\n",
       "      <td>40/nm0000140_rm4245330432_1944-9-25_1994.jpg</td>\n",
       "      <td>m</td>\n",
       "    </tr>\n",
       "  </tbody>\n",
       "</table>\n",
       "</div>"
      ],
      "text/plain": [
       "         nr  age                                      full_path gender\n",
       "7940  13900   30   39/nm0000139_rm1366989568_1972-8-30_2002.jpg      f\n",
       "1162   2180   44  93/nm0000093_rm3216481024_1963-12-18_2007.jpg      m\n",
       "582    1218   46    76/nm0000076_rm1079950080_1932-2-6_1978.jpg      m\n",
       "4081   7006   53  14/nm0000114_rm3459219712_1957-12-13_2010.jpg      m\n",
       "8412  14656   50   40/nm0000140_rm4245330432_1944-9-25_1994.jpg      m"
      ]
     },
     "execution_count": 9,
     "metadata": {},
     "output_type": "execute_result"
    }
   ],
   "source": [
    "proba_df.head()"
   ]
  },
  {
   "cell_type": "code",
   "execution_count": 10,
   "metadata": {},
   "outputs": [
    {
     "name": "stdout",
     "output_type": "stream",
     "text": [
      "train: 6300 | valid: 1800 | test: 900\n"
     ]
    }
   ],
   "source": [
    "# calculate test train valid data numbers\n",
    "test_num = int(np.floor(0.1 * proba_df.shape[0]))\n",
    "valid_num = int(np.floor(0.2 * proba_df.shape[0]))\n",
    "train_num = int(proba_df.shape[0] - test_num - valid_num)\n",
    "print(\"train: {} | valid: {} | test: {}\".format(train_num, valid_num, test_num))"
   ]
  },
  {
   "cell_type": "code",
   "execution_count": 11,
   "metadata": {},
   "outputs": [
    {
     "name": "stdout",
     "output_type": "stream",
     "text": [
      "train: (6300, 4) | valid: (1800, 4) | test: (900, 4)\n"
     ]
    }
   ],
   "source": [
    "# split the data into train valid and test data\n",
    "train_data = proba_df.iloc[0:train_num, :]\n",
    "\n",
    "valid_data = proba_df.iloc[train_num:train_num + valid_num, :]\n",
    "\n",
    "test_data = proba_df.iloc[ train_num+valid_num:, :]\n",
    "\n",
    "print(\"train: {} | valid: {} | test: {}\".format(train_data.shape, valid_data.shape, test_data.shape))"
   ]
  },
  {
   "cell_type": "code",
   "execution_count": 12,
   "metadata": {},
   "outputs": [
    {
     "data": {
      "text/plain": [
       "'faces_colored/08/nm0000108_rm2615513088_1959-3-18_2006.jpg'"
      ]
     },
     "execution_count": 12,
     "metadata": {},
     "output_type": "execute_result"
    }
   ],
   "source": [
    "image_path = \"faces_colored/\"\n",
    "x_train_p = image_path + train_data['full_path'].values\n",
    "x_valid_p = image_path + valid_data['full_path'].values\n",
    "x_test_p = image_path + test_data['full_path'].values\n",
    "\n",
    "# x_train_l = image_path + train_data['age'].values\n",
    "# x_valid_l = image_path + train_data['age'].values\n",
    "# x_test_l = image_path + train_data['age'].values\n",
    "\n",
    "x_test_p.shape\n",
    "x_test_p[0]"
   ]
  },
  {
   "cell_type": "code",
   "execution_count": 18,
   "metadata": {},
   "outputs": [
    {
     "name": "stdout",
     "output_type": "stream",
     "text": [
      "age: 6300  |  1800\n"
     ]
    },
    {
     "data": {
      "text/plain": [
       "array([30, 44, 46, ..., 49, 43, 50])"
      ]
     },
     "execution_count": 18,
     "metadata": {},
     "output_type": "execute_result"
    }
   ],
   "source": [
    "# get the ages\n",
    "y_train_age = train_data['age'].values\n",
    "y_valid_age = valid_data['age'].values\n",
    "y_test_age = test_data['age'].values\n",
    "\n",
    "print(\"age:\" ,len(y_train_age), \" | \", len(y_valid_age))\n",
    "y_train_age\n"
   ]
  },
  {
   "cell_type": "code",
   "execution_count": 19,
   "metadata": {},
   "outputs": [
    {
     "name": "stdout",
     "output_type": "stream",
     "text": [
      "gender: 6300  |  1800\n",
      "gen_age: 6300  |  1800\n"
     ]
    }
   ],
   "source": [
    "y_train_gender = train_data['gender'].values\n",
    "y_valid_gender = valid_data['gender'].values\n",
    "y_test_gender = test_data['gender'].values\n",
    "print(\"gender:\", len(y_train_gender), \" | \", len(y_valid_gender))\n",
    "\n",
    "# convert to string\n",
    "y_train_age = y_train_age.astype(\"str\")\n",
    "y_valid_age = y_valid_age.astype(\"str\")\n",
    "y_test_age = y_test_age.astype(\"str\")\n",
    "\n",
    "#concate them\n",
    "y_train_gen_age = np.core.defchararray.add(y_train_age, y_train_gender)\n",
    "y_valid_gen_age = np.core.defchararray.add(y_valid_age, y_valid_gender)\n",
    "y_test_gen_age = np.core.defchararray.add(y_test_age, y_test_gender)\n",
    "\n",
    "print(\"gen_age:\", len(y_train_gen_age), \" | \", len(y_valid_gen_age))"
   ]
  },
  {
   "cell_type": "markdown",
   "metadata": {},
   "source": [
    "# Copy train, valid, test data into a new folder"
   ]
  },
  {
   "cell_type": "code",
   "execution_count": 20,
   "metadata": {},
   "outputs": [
    {
     "data": {
      "text/html": [
       "<div>\n",
       "<style scoped>\n",
       "    .dataframe tbody tr th:only-of-type {\n",
       "        vertical-align: middle;\n",
       "    }\n",
       "\n",
       "    .dataframe tbody tr th {\n",
       "        vertical-align: top;\n",
       "    }\n",
       "\n",
       "    .dataframe thead th {\n",
       "        text-align: right;\n",
       "    }\n",
       "</style>\n",
       "<table border=\"1\" class=\"dataframe\">\n",
       "  <thead>\n",
       "    <tr style=\"text-align: right;\">\n",
       "      <th></th>\n",
       "      <th>nr</th>\n",
       "      <th>age</th>\n",
       "      <th>full_path</th>\n",
       "      <th>gender</th>\n",
       "    </tr>\n",
       "  </thead>\n",
       "  <tbody>\n",
       "    <tr>\n",
       "      <th>7940</th>\n",
       "      <td>13900</td>\n",
       "      <td>30</td>\n",
       "      <td>39/nm0000139_rm1366989568_1972-8-30_2002.jpg</td>\n",
       "      <td>f</td>\n",
       "    </tr>\n",
       "    <tr>\n",
       "      <th>1162</th>\n",
       "      <td>2180</td>\n",
       "      <td>44</td>\n",
       "      <td>93/nm0000093_rm3216481024_1963-12-18_2007.jpg</td>\n",
       "      <td>m</td>\n",
       "    </tr>\n",
       "    <tr>\n",
       "      <th>582</th>\n",
       "      <td>1218</td>\n",
       "      <td>46</td>\n",
       "      <td>76/nm0000076_rm1079950080_1932-2-6_1978.jpg</td>\n",
       "      <td>m</td>\n",
       "    </tr>\n",
       "    <tr>\n",
       "      <th>4081</th>\n",
       "      <td>7006</td>\n",
       "      <td>53</td>\n",
       "      <td>14/nm0000114_rm3459219712_1957-12-13_2010.jpg</td>\n",
       "      <td>m</td>\n",
       "    </tr>\n",
       "    <tr>\n",
       "      <th>8412</th>\n",
       "      <td>14656</td>\n",
       "      <td>50</td>\n",
       "      <td>40/nm0000140_rm4245330432_1944-9-25_1994.jpg</td>\n",
       "      <td>m</td>\n",
       "    </tr>\n",
       "  </tbody>\n",
       "</table>\n",
       "</div>"
      ],
      "text/plain": [
       "         nr  age                                      full_path gender\n",
       "7940  13900   30   39/nm0000139_rm1366989568_1972-8-30_2002.jpg      f\n",
       "1162   2180   44  93/nm0000093_rm3216481024_1963-12-18_2007.jpg      m\n",
       "582    1218   46    76/nm0000076_rm1079950080_1932-2-6_1978.jpg      m\n",
       "4081   7006   53  14/nm0000114_rm3459219712_1957-12-13_2010.jpg      m\n",
       "8412  14656   50   40/nm0000140_rm4245330432_1944-9-25_1994.jpg      m"
      ]
     },
     "execution_count": 20,
     "metadata": {},
     "output_type": "execute_result"
    }
   ],
   "source": [
    "proba_df.head()"
   ]
  },
  {
   "cell_type": "code",
   "execution_count": 21,
   "metadata": {
    "scrolled": true
   },
   "outputs": [
    {
     "name": "stdout",
     "output_type": "stream",
     "text": [
      "test_face Direcotry exist\n",
      "train_face Direcotry exist\n",
      "valid_face Direcotry exist\n"
     ]
    }
   ],
   "source": [
    "from shutil import copyfile, copy2\n",
    "try:\n",
    "    os.mkdir(\"test_face\")\n",
    "except FileExistsError:\n",
    "    print(\"test_face Direcotry exist\")\n",
    "    \n",
    "# training \n",
    "try:\n",
    "    os.mkdir(\"train_face\")\n",
    "    # create directory structure\n",
    "    \n",
    "    \n",
    "except FileExistsError:\n",
    "    print(\"train_face Direcotry exist\")\n",
    "    \n",
    "for i in range(100):\n",
    "    try:\n",
    "        if i < 10:\n",
    "        \n",
    "            os.mkdir(\"train_face/0\" + str(i))\n",
    "        else:\n",
    "            os.mkdir(\"train_face/\" + str(i))\n",
    "    except FileExistsError:\n",
    "        continue\n",
    "i = 0\n",
    "dest_path = \"train_face/\"+train_data['full_path'].values\n",
    "for p in x_train_p:\n",
    "    \n",
    "    copy2(p, dest_path[i])\n",
    "    i += 1\n",
    "#     print(\"train_face/\"+train_data['full_path'].values)\n",
    "#     print(dest_path[i])\n",
    "\n",
    "# validation\n",
    "try:\n",
    "    os.mkdir(\"valid_face\")\n",
    "    # create directory structure\n",
    "    \n",
    "    for i in range(100):\n",
    "        try:\n",
    "            if i < 10:\n",
    "            \n",
    "                os.mkdir(\"valid_face/0\" + str(i))\n",
    "            else:\n",
    "                os.mkdir(\"valid_face/\" + str(i))\n",
    "        except FileExistsError:\n",
    "            continue\n",
    "except FileExistsError:\n",
    "    print(\"valid_face Direcotry exist\")\n",
    "    \n",
    "i = 0\n",
    "dest_path = \"valid_face/\"+valid_data['full_path'].values\n",
    "for p in x_valid_p:\n",
    "    \n",
    "    copy2(p, dest_path[i])\n",
    "    i += 1\n",
    "#     print(\"train_face/\"+train_data['full_path'].values)\n",
    "#     print(dest_path[i])"
   ]
  },
  {
   "cell_type": "markdown",
   "metadata": {},
   "source": [
    "# Training and model building"
   ]
  },
  {
   "cell_type": "code",
   "execution_count": 22,
   "metadata": {},
   "outputs": [
    {
     "name": "stderr",
     "output_type": "stream",
     "text": [
      "Using TensorFlow backend.\n",
      "/home/mate/.virtualenvs/deeplearn_gpu/lib/python3.6/site-packages/ipykernel_launcher.py:25: UserWarning: matplotlib.pyplot as already been imported, this call will have no effect.\n"
     ]
    }
   ],
   "source": [
    "# import the necessary packages\n",
    "import sys\n",
    "import os\n",
    "import PIL\n",
    "# import the necessary packages\n",
    "from keras.models import Model\n",
    "from keras.layers.normalization import BatchNormalization\n",
    "from keras.layers.convolutional import Conv2D\n",
    "from keras.layers.convolutional import MaxPooling2D\n",
    "from keras.layers.core import Activation\n",
    "from keras.layers.core import Dropout\n",
    "from keras.layers.core import Lambda\n",
    "from keras.layers.core import Dense\n",
    "from keras.layers import Flatten\n",
    "from keras.layers import Input\n",
    "import tensorflow as tf\n",
    "from keras.optimizers import *\n",
    "from keras.applications import *\n",
    "from keras.models import Model, Sequential\n",
    "from keras.preprocessing.image import ImageDataGenerator\n",
    "from keras.callbacks import ModelCheckpoint, EarlyStopping\n",
    "\n",
    "# set the matplotlib backend so figures can be saved in the background\n",
    "import matplotlib\n",
    "matplotlib.use(\"Agg\")\n",
    " \n",
    "# import the necessary packages\n",
    "from keras.preprocessing.image import ImageDataGenerator\n",
    "from keras.optimizers import Adam\n",
    "from keras.preprocessing.image import img_to_array\n",
    "from sklearn.preprocessing import LabelBinarizer, MultiLabelBinarizer\n",
    "from sklearn.model_selection import train_test_split\n",
    "# from pyimagesearch.smallervggnet import SmallerVGGNet\n",
    "import matplotlib.pyplot as plt\n",
    "# from imutils import paths\n",
    "import numpy as np\n",
    "import argparse\n",
    "import random\n",
    "import pickle\n",
    "import cv2\n",
    "import os"
   ]
  },
  {
   "cell_type": "code",
   "execution_count": 77,
   "metadata": {},
   "outputs": [],
   "source": [
    "class FaceNet:\n",
    "    \n",
    "    @staticmethod\n",
    "    def build_ages_branch(inputs, numAges, finalAct=\"softmax\", chanDim=-1):\n",
    "        # utilize a lambda layer to convert the 3 channel input to a\n",
    "        # grayscale representation\n",
    "\n",
    "        padding = \"same\"\n",
    "        # CONV => RELU => POOL\n",
    "        x = Conv2D(32, (3, 3), padding=padding)(inputs) \n",
    "        x = Activation(\"relu\")(x)\n",
    "        x = BatchNormalization(axis=chanDim)(x)\n",
    "        x = MaxPooling2D(pool_size=(3, 3))(x)\n",
    "       \n",
    "        \n",
    "        \n",
    "        x = Conv2D(32, (3, 3), padding=padding)(x)\n",
    "        x = Activation(\"relu\")(x)\n",
    "        x = BatchNormalization(axis=chanDim)(x)\n",
    "        x = Conv2D(32, (3, 3), padding=padding)(x)\n",
    "        x = Activation(\"relu\")(x)\n",
    "        x = BatchNormalization(axis=chanDim)(x)\n",
    "        x = MaxPooling2D(pool_size=(2, 2))(x)\n",
    "        x = Dropout(0.25)(x)\n",
    "        \n",
    "         # (CONV => RELU) * 2 => POOL\n",
    "        x = Conv2D(32, (5, 5), padding=padding)(x)\n",
    "        x = Activation(\"relu\")(x)\n",
    "        x = BatchNormalization(axis=chanDim)(x)\n",
    "        x = Conv2D(32, (3, 3), padding=padding)(x)\n",
    "        x = Activation(\"relu\")(x)\n",
    "        x = BatchNormalization(axis=chanDim)(x)\n",
    "        x = MaxPooling2D(pool_size=(2, 2))(x)\n",
    "        \n",
    "        \n",
    "        \n",
    "        \n",
    "        # (CONV => RELU) * 2 => POOL\n",
    "        x = Conv2D(64, (3, 3), padding=padding)(x)\n",
    "        x = Activation(\"relu\")(x)\n",
    "        x = BatchNormalization(axis=chanDim)(x)\n",
    "        x = Conv2D(64, (3, 3), padding=padding)(x)\n",
    "        x = Activation(\"relu\")(x)\n",
    "        x = BatchNormalization(axis=chanDim)(x)\n",
    "        x = MaxPooling2D(pool_size=(2, 2))(x)\n",
    "        x = Dropout(0.25)(x)\n",
    "        \n",
    "        # (CONV => RELU) * 2 => POOL\n",
    "        x = Conv2D(64, (3, 3), padding=padding)(x)\n",
    "        x = Activation(\"relu\")(x)\n",
    "        x = BatchNormalization(axis=chanDim)(x)\n",
    "        x = Conv2D(64, (3, 3), padding=padding)(x)\n",
    "        x = Activation(\"relu\")(x)\n",
    "        x = BatchNormalization(axis=chanDim)(x)\n",
    "        x = MaxPooling2D(pool_size=(2, 2))(x)\n",
    "        x = Dropout(0.25)(x)\n",
    "        \n",
    " \n",
    "        # (CONV => RELU) * 2 => POOL\n",
    "        x = Conv2D(128, (3, 3), padding=padding)(x)\n",
    "        x = Activation(\"relu\")(x)\n",
    "        x = BatchNormalization(axis=chanDim)(x)\n",
    "        x = Conv2D(128, (3, 3), padding=padding)(x)\n",
    "        x = Activation(\"relu\")(x)\n",
    "        x = BatchNormalization(axis=chanDim)(x)\n",
    "        x = MaxPooling2D(pool_size=(2, 2))(x)\n",
    "        x = Dropout(0.25)(x)\n",
    "        \n",
    "        \n",
    "        x = Conv2D(128, (3, 3), padding=padding)(x)\n",
    "        x = Activation(\"relu\")(x)\n",
    "        x = BatchNormalization(axis=chanDim)(x)\n",
    "        x = Conv2D(128, (3, 3), padding=padding)(x)\n",
    "        x = Activation(\"relu\")(x)\n",
    "        x = BatchNormalization(axis=chanDim)(x)\n",
    "#         x = MaxPooling2D(pool_size=(2, 2))(x)\n",
    "        x = Dropout(0.25)(x)\n",
    "        \n",
    "        # define a branch of output layers for the number of different\n",
    "        # ages\n",
    "        x = Flatten()(x)\n",
    "        x = Dense(256)(x)\n",
    "        x = Activation(\"relu\")(x)\n",
    "        x = BatchNormalization()(x)\n",
    "        x = Dropout(0.5)(x)\n",
    "        x = Dense(numAges)(x)\n",
    "        x = Activation(finalAct, name=\"ages_output\")(x)\n",
    " \n",
    "        # return the category prediction sub-network\n",
    "        return x\n",
    "    \n",
    "    \n",
    "    @staticmethod\n",
    "    def build(width, height, numAges, finalAct=\"softmax\"):\n",
    "        # initialize the input shape and channel dimension (this code\n",
    "        # assumes you are using TensorFlow which utilizes channels\n",
    "        # last ordering)\n",
    "        inputShape = (height, width, 3)\n",
    "        chanDim = -1\n",
    " \n",
    "        # construct both the \"category\" and \"color\" sub-networks\n",
    "        inputs = Input(shape=inputShape)\n",
    "        agesBranch = FaceNet.build_ages_branch(inputs,\n",
    "            numAges, finalAct=finalAct, chanDim=chanDim)\n",
    " \n",
    "        # create the model using our input (the batch of images) and\n",
    "        # two separate outputs -- one for the clothing category\n",
    "        # branch and another for the color branch, respectively\n",
    "        model = Model(\n",
    "            inputs=inputs,\n",
    "            outputs=[agesBranch],\n",
    "            name=\"FaceNet\")\n",
    " \n",
    "        # return the constructed network architecture\n",
    "        return model"
   ]
  },
  {
   "cell_type": "code",
   "execution_count": 78,
   "metadata": {},
   "outputs": [],
   "source": [
    "# fix seed for reproducible results (only works on CPU, not GPU)\n",
    "seed = 42\n",
    "np.random.seed(seed=seed)\n",
    "tf.set_random_seed(seed=seed)\n",
    "\n",
    "# initialize the number of epochs to train for, initial learning rate,\n",
    "# batch size, and image dimensions\n",
    "EPOCHS = 200\n",
    "INIT_LR = 1e-3\n",
    "BS = 32\n",
    "IMAGE_DIMS = (96, 96, 3)\n"
   ]
  },
  {
   "cell_type": "code",
   "execution_count": 25,
   "metadata": {},
   "outputs": [
    {
     "name": "stdout",
     "output_type": "stream",
     "text": [
      "train_x: 6300 | valid_x: 1800\n"
     ]
    }
   ],
   "source": [
    "# Create inputs\n",
    "\n",
    "# train\n",
    "# loop over the input images\n",
    "train_x = []\n",
    "for imagePath in x_train_p:\n",
    "    # load the image, pre-process it, and store it in the data list\n",
    "    image = cv2.imread(imagePath)\n",
    "    image = img_to_array(image)\n",
    "    train_x.append(image)\n",
    "    \n",
    "# valid\n",
    "# loop over the input images\n",
    "valid_x = []\n",
    "for imagePath in x_valid_p:\n",
    "    # load the image, pre-process it, and store it in the data list\n",
    "    image = cv2.imread(imagePath)\n",
    "    image = img_to_array(image)\n",
    "    valid_x.append(image)\n",
    " \n",
    "print(\"train_x: {} | valid_x: {}\".format(len(train_x), len(valid_x)))"
   ]
  },
  {
   "cell_type": "code",
   "execution_count": 26,
   "metadata": {},
   "outputs": [
    {
     "data": {
      "text/plain": [
       "array(['30f', '44m', '46m', ..., '49m', '43f', '50m'], dtype='<U29')"
      ]
     },
     "execution_count": 26,
     "metadata": {},
     "output_type": "execute_result"
    }
   ],
   "source": [
    "y_train_gen_age"
   ]
  },
  {
   "cell_type": "code",
   "execution_count": 27,
   "metadata": {},
   "outputs": [
    {
     "name": "stdout",
     "output_type": "stream",
     "text": [
      "[INFO] train data matrix: 1360.80MB\n",
      "[INFO] valid data matrix: 388.80MB\n",
      "[INFO] class labels:\n",
      "train_x: 6300\n",
      "y_train_gen_age: 6300\n",
      "valid_x 1800\n",
      "y_valid_gen_age 1800\n"
     ]
    }
   ],
   "source": [
    "# scale the raw pixel intensities to the range [0, 1]\n",
    "train_x = np.array(train_x, dtype=\"float\") / 255.0\n",
    "\n",
    "lb_age = LabelBinarizer()\n",
    "\n",
    "y_train_gen_age = lb_age.fit_transform(y_train_gen_age)\n",
    "\n",
    "# print(y_train_gender)\n",
    "\n",
    "y_train_gen_age = np.array(y_train_gen_age)\n",
    "\n",
    "# print(train_y)\n",
    "print(\"[INFO] train data matrix: {:.2f}MB\".format(\n",
    "\ttrain_x.nbytes / (1024 * 1000.0)))\n",
    " \n",
    "# print(y_train_gender)\n",
    "# binarize the labels\n",
    "\n",
    "# scale the raw pixel intensities to the range [0, 1]\n",
    "valid_x = np.array(valid_x, dtype=\"float\") / 255.0\n",
    "\n",
    "y_valid_gen_age = np.array(y_valid_gen_age)\n",
    "\n",
    "print(\"[INFO] valid data matrix: {:.2f}MB\".format(\n",
    "\tvalid_x.nbytes / (1024 * 1000.0)))\n",
    " \n",
    "# binarize the labels\n",
    "print(\"[INFO] class labels:\")\n",
    "# mlb = MultiLabelBinarizer()\n",
    "y_valid_gen_age = lb_age.transform(y_valid_gen_age)\n",
    "    \n",
    "print(\"train_x:\",len(train_x))\n",
    "print(\"y_train_gen_age:\",len(y_train_gen_age))\n",
    "print(\"valid_x\", len(valid_x))\n",
    "print(\"y_valid_gen_age\",len(y_valid_gen_age))"
   ]
  },
  {
   "cell_type": "code",
   "execution_count": 28,
   "metadata": {},
   "outputs": [
    {
     "data": {
      "text/plain": [
       "(6300, 136)"
      ]
     },
     "execution_count": 28,
     "metadata": {},
     "output_type": "execute_result"
    }
   ],
   "source": [
    "y_train_gen_age.shape"
   ]
  },
  {
   "cell_type": "code",
   "execution_count": 29,
   "metadata": {},
   "outputs": [],
   "source": [
    "# construct the image generator for data augmentation\n",
    "aug = ImageDataGenerator(rotation_range=25, width_shift_range=0.1,\n",
    "\theight_shift_range=0.1, shear_range=0.2, zoom_range=0.2,\n",
    "\thorizontal_flip=True, fill_mode=\"nearest\",\n",
    "#     brightness_range=(0.2,1.0),\n",
    "                        )"
   ]
  },
  {
   "cell_type": "code",
   "execution_count": null,
   "metadata": {
    "scrolled": true
   },
   "outputs": [
    {
     "name": "stdout",
     "output_type": "stream",
     "text": [
      "Ages number 136\n",
      "[INFO] compiling model...\n",
      "[INFO] training network...\n",
      "Train on 6300 samples, validate on 1800 samples\n",
      "Epoch 1/200\n",
      "6300/6300 [==============================] - 31s 5ms/step - loss: 5.6557 - acc: 0.0171 - val_loss: 6.2354 - val_acc: 0.0289\n",
      "\n",
      "Epoch 00001: val_acc improved from -inf to 0.02889, saving model to /home/mate/develop/PycharmProjects/GeFace/gen_ages_model.hdf5\n",
      "Epoch 2/200\n",
      "6300/6300 [==============================] - 27s 4ms/step - loss: 5.0239 - acc: 0.0298 - val_loss: 4.5907 - val_acc: 0.0294\n",
      "\n",
      "Epoch 00002: val_acc improved from 0.02889 to 0.02944, saving model to /home/mate/develop/PycharmProjects/GeFace/gen_ages_model.hdf5\n",
      "Epoch 3/200\n",
      "6300/6300 [==============================] - 27s 4ms/step - loss: 4.7525 - acc: 0.0349 - val_loss: 4.9851 - val_acc: 0.0283\n",
      "\n",
      "Epoch 00003: val_acc did not improve from 0.02944\n",
      "Epoch 4/200\n",
      "6300/6300 [==============================] - 27s 4ms/step - loss: 4.5747 - acc: 0.0375 - val_loss: 4.5764 - val_acc: 0.0411\n",
      "\n",
      "Epoch 00004: val_acc improved from 0.02944 to 0.04111, saving model to /home/mate/develop/PycharmProjects/GeFace/gen_ages_model.hdf5\n",
      "Epoch 5/200\n",
      "6300/6300 [==============================] - 25s 4ms/step - loss: 4.4804 - acc: 0.0389 - val_loss: 4.2986 - val_acc: 0.0506\n",
      "\n",
      "Epoch 00005: val_acc improved from 0.04111 to 0.05056, saving model to /home/mate/develop/PycharmProjects/GeFace/gen_ages_model.hdf5\n",
      "Epoch 6/200\n",
      "6300/6300 [==============================] - 23s 4ms/step - loss: 4.4263 - acc: 0.0359 - val_loss: 4.3004 - val_acc: 0.0494\n",
      "\n",
      "Epoch 00006: val_acc did not improve from 0.05056\n",
      "Epoch 7/200\n",
      "6300/6300 [==============================] - 23s 4ms/step - loss: 4.3508 - acc: 0.0387 - val_loss: 4.2829 - val_acc: 0.0533\n",
      "\n",
      "Epoch 00007: val_acc improved from 0.05056 to 0.05333, saving model to /home/mate/develop/PycharmProjects/GeFace/gen_ages_model.hdf5\n",
      "Epoch 8/200\n",
      "6300/6300 [==============================] - 22s 4ms/step - loss: 4.2972 - acc: 0.0448 - val_loss: 4.2350 - val_acc: 0.0450\n",
      "\n",
      "Epoch 00008: val_acc did not improve from 0.05333\n",
      "Epoch 9/200\n",
      "6300/6300 [==============================] - 22s 4ms/step - loss: 4.2736 - acc: 0.0460 - val_loss: 4.2389 - val_acc: 0.0528\n",
      "\n",
      "Epoch 00009: val_acc did not improve from 0.05333\n",
      "Epoch 10/200\n",
      "6300/6300 [==============================] - 20s 3ms/step - loss: 4.2362 - acc: 0.0479 - val_loss: 4.2416 - val_acc: 0.0483\n",
      "\n",
      "Epoch 00010: val_acc did not improve from 0.05333\n",
      "Epoch 11/200\n",
      "6300/6300 [==============================] - 20s 3ms/step - loss: 4.2145 - acc: 0.0487 - val_loss: 4.4290 - val_acc: 0.0411\n",
      "\n",
      "Epoch 00011: val_acc did not improve from 0.05333\n",
      "Epoch 12/200\n",
      "6300/6300 [==============================] - 20s 3ms/step - loss: 4.1681 - acc: 0.0544 - val_loss: 4.8539 - val_acc: 0.0272\n",
      "\n",
      "Epoch 00012: val_acc did not improve from 0.05333\n",
      "Epoch 13/200\n",
      "6300/6300 [==============================] - 20s 3ms/step - loss: 4.1273 - acc: 0.0581 - val_loss: 4.2500 - val_acc: 0.0567\n",
      "\n",
      "Epoch 00013: val_acc improved from 0.05333 to 0.05667, saving model to /home/mate/develop/PycharmProjects/GeFace/gen_ages_model.hdf5\n",
      "Epoch 14/200\n",
      "6300/6300 [==============================] - 20s 3ms/step - loss: 4.1000 - acc: 0.0565 - val_loss: 4.1899 - val_acc: 0.0589\n",
      "\n",
      "Epoch 00014: val_acc improved from 0.05667 to 0.05889, saving model to /home/mate/develop/PycharmProjects/GeFace/gen_ages_model.hdf5\n",
      "Epoch 15/200\n",
      "6300/6300 [==============================] - 19s 3ms/step - loss: 4.0867 - acc: 0.0597 - val_loss: 4.1941 - val_acc: 0.0506\n",
      "\n",
      "Epoch 00015: val_acc did not improve from 0.05889\n",
      "Epoch 16/200\n",
      "2176/6300 [=========>....................] - ETA: 10s - loss: 4.0386 - acc: 0.0680"
     ]
    }
   ],
   "source": [
    "# initialize the model\n",
    "print(\"Ages number\", len(lb_age.classes_))\n",
    "print(\"[INFO] compiling model...\")\n",
    "# load model\n",
    "model = FaceNet.build(IMAGE_DIMS[0], IMAGE_DIMS[1], numAges=len(lb_age.classes_), finalAct=\"softmax\")\n",
    "# create optimazitions method\n",
    "opt = Adam(lr=INIT_LR, decay=INIT_LR / EPOCHS)\n",
    "\n",
    "#model.compile(loss=\"categorical_crossentropy\", optimizer=opt,\n",
    "#\tmetrics=[\"accuracy\"])\n",
    "losses = {\n",
    "\t\"ages_output\": \"categorical_crossentropy\",\n",
    "}\n",
    "lossWeights = {\"ages_output\": 1.0}\n",
    "\n",
    "model.compile(loss=losses, optimizer=opt,\n",
    "\tmetrics=[\"accuracy\"])\n",
    "\n",
    "# Create callback list for checkpoint and Earlystopping\n",
    "callbacks_list = [\n",
    "        ModelCheckpoint(project_path+\"gen_ages_model.hdf5\", monitor='val_acc', verbose=1, save_best_only=True),\n",
    "        EarlyStopping(monitor='val_loss', patience=40, verbose=1)\n",
    "    ]\n",
    "\n",
    "# train the network\n",
    "print(\"[INFO] training network...\")\n",
    "\n",
    "History = model.fit(\n",
    "        train_x,\n",
    "        {\"ages_output\": y_train_gen_age},\n",
    "        validation_data=(valid_x,\n",
    "        {\"ages_output\": y_valid_gen_age}),\n",
    "        epochs=EPOCHS,\n",
    "        verbose=1,\n",
    "        callbacks=callbacks_list,\n",
    "     )\n",
    "\n",
    "\n",
    "# save the model to disk\n",
    "print(\"[INFO] serializing network...\")\n",
    "model.save(project_path+\"gen_ages_model.hdf5\")\n",
    " \n",
    "# save the category binarizer to disk\n",
    "print(\"[INFO] serializing category label binarizer...\")\n",
    "f = open(project_path+\"gen_ages.label\", \"wb\")\n",
    "f.write(pickle.dumps(lb_age))\n",
    "f.close()\n",
    " \n"
   ]
  },
  {
   "cell_type": "code",
   "execution_count": 70,
   "metadata": {},
   "outputs": [],
   "source": [
    "REAL_EPOCH = len(History.epoch)\n",
    "# print(y_train_gender)"
   ]
  },
  {
   "cell_type": "code",
   "execution_count": 71,
   "metadata": {},
   "outputs": [
    {
     "data": {
      "text/plain": [
       "61"
      ]
     },
     "execution_count": 71,
     "metadata": {},
     "output_type": "execute_result"
    }
   ],
   "source": [
    "\n",
    "len(History.epoch)"
   ]
  },
  {
   "cell_type": "code",
   "execution_count": 72,
   "metadata": {},
   "outputs": [
    {
     "data": {
      "image/png": "[encoded data removed]",
      "text/plain": [
       "<Figure size 576x576 with 2 Axes>"
      ]
     },
     "metadata": {},
     "output_type": "display_data"
    }
   ],
   "source": [
    "loss_names = [\"val_loss\"]\n",
    "plt.style.use(\"ggplot\")\n",
    "\n",
    "(fig, ax) = plt.subplots(2, 1, figsize=(8,8))\n",
    "\n",
    "for (i, l) in enumerate(loss_names):\n",
    "    ax[i].set_title(\"Loss for {}\".format(l))\n",
    "    ax[i].set_xlabel(\"Epochs\")\n",
    "    ax[i].set_ylabel(\"Loss\")\n",
    "    ax[i].plot(np.arange(0, REAL_EPOCH), History.history[l], label=l)\n",
    "    ax[i].plot(np.arange(0, REAL_EPOCH), History.history[l],label=l)\n",
    "    ax[i].legend()\n",
    "    \n",
    "    plt.tight_layout()\n",
    "    plt.savefig(\"multi_loss.png\")"
   ]
  },
  {
   "cell_type": "code",
   "execution_count": 73,
   "metadata": {},
   "outputs": [
    {
     "data": {
      "image/png": "[encoded data removed]",
      "text/plain": [
       "<Figure size 576x576 with 2 Axes>"
      ]
     },
     "metadata": {},
     "output_type": "display_data"
    }
   ],
   "source": [
    "accuracy_names = [\"val_acc\"]\n",
    "plt.style.use(\"ggplot\")\n",
    "\n",
    "(fig, ax) = plt.subplots(2, 1, figsize=(8,8))\n",
    "\n",
    "for (i, l) in enumerate(accuracy_names):\n",
    "    ax[i].set_title(\"Accuracy for {}\".format(l))\n",
    "    ax[i].set_xlabel(\"Epochs\")\n",
    "    ax[i].set_ylabel(\"Accuracy\")\n",
    "    ax[i].plot(np.arange(0, REAL_EPOCH), History.history[l], label=l)\n",
    "    ax[i].plot(np.arange(0, REAL_EPOCH), History.history[l],label=l)\n",
    "    ax[i].legend()\n",
    "    \n",
    "    plt.tight_layout()\n",
    "    plt.savefig(\"multi.png\")\n",
    "    "
   ]
  },
  {
   "cell_type": "code",
   "execution_count": 74,
   "metadata": {},
   "outputs": [
    {
     "data": {
      "image/png": "[encoded data removed]",
      "text/plain": [
       "<Figure size 576x576 with 2 Axes>"
      ]
     },
     "metadata": {},
     "output_type": "display_data"
    }
   ],
   "source": [
    "    # create a new figure for the accuracies\n",
    "accuracyNames = [\"acc\"]\n",
    "plt.style.use(\"ggplot\")\n",
    "(fig, ax) = plt.subplots(2, 1, figsize=(8, 8))\n",
    " \n",
    "# loop over the accuracy names\n",
    "for (i, l) in enumerate(accuracyNames):\n",
    "\t# plot the loss for both the training and validation data\n",
    "\tax[i].set_title(\"Accuracy for {}\".format(l))\n",
    "\tax[i].set_xlabel(\"Epoch #\")\n",
    "\tax[i].set_ylabel(\"Accuracy\")\n",
    "\tax[i].plot(np.arange(0, REAL_EPOCH), History.history[l], label=l)\n",
    "\tax[i].plot(np.arange(0, REAL_EPOCH), History.history[\"val_\" + l],\n",
    "\t\tlabel=\"val_\" + l)\n",
    "\tax[i].legend()\n",
    " \n",
    "# save the accuracies figure\n",
    "plt.tight_layout()\n",
    "plt.savefig(\"multi_accs.png\")"
   ]
  },
  {
   "cell_type": "code",
   "execution_count": 75,
   "metadata": {},
   "outputs": [],
   "source": [
    "from keras.models import load_model\n"
   ]
  },
  {
   "cell_type": "code",
   "execution_count": 76,
   "metadata": {},
   "outputs": [
    {
     "name": "stdout",
     "output_type": "stream",
     "text": [
      "1\n",
      "[INFO] loading network...\n",
      "[INFO] classifying image...\n",
      "[INFO] age: 60m (6.35%)\n"
     ]
    },
    {
     "data": {
      "text/plain": [
       "<matplotlib.image.AxesImage at 0x7fb17845fd30>"
      ]
     },
     "execution_count": 76,
     "metadata": {},
     "output_type": "execute_result"
    },
    {
     "data": {
      "image/png": "[encoded data removed]",
      "text/plain": [
       "<Figure size 432x288 with 1 Axes>"
      ]
     },
     "metadata": {},
     "output_type": "display_data"
    }
   ],
   "source": [
    "\n",
    "# load the image\n",
    "image = cv2.imread(project_path+\"p_barbi.jpg\")\n",
    "#image = cv2.imread(project_path+\"faces_colored/01/nm0000001_rm124825600_1899-5-10_1968.jpg\")\n",
    "# image = cv2.imread(\"/home/mate/Pictures/dorka1.jpg\")\n",
    "face_cascade = cv2.CascadeClassifier('detector/haarcascade_frontalface_default.xml')\n",
    "\n",
    "gray = cv2.cvtColor(image, cv2.COLOR_BGR2GRAY)\n",
    "faces = face_cascade.detectMultiScale(gray, 1.1, 5)\n",
    "\n",
    "bb = []\n",
    "i = 0\n",
    "output = image.copy()\n",
    "for (x,y,w,h) in faces:\n",
    "    bb.append([w * h, i])\n",
    "    cv2.rectangle(output,(x,y),(x+w,y+h),(255,0,0),2)\n",
    " #   roi_gray = gray[y:y+h, x:x+w]\n",
    "    roi_color = image[y:y+h, x:x+w]\n",
    "    i += 1\n",
    "    print(i)\n",
    "    break\n",
    "\n",
    "# pre-process the image for classification\n",
    "image = cv2.resize(image, (96, 96))\n",
    "image = image.astype(\"float\") / 255.0\n",
    "image = img_to_array(image)\n",
    "image = np.expand_dims(image, axis=0)\n",
    "\n",
    "# load the trained convolutional neural network from disk, followed\n",
    "# by the category and color label binarizers, respectively\n",
    "print(\"[INFO] loading network...\")\n",
    "model = load_model(\"gen_ages_model.hdf5\", custom_objects={\"tf\": tf})\n",
    "agesLB = pickle.loads(open(\"gen_ages.label\", \"rb\").read())\n",
    " \n",
    "# classify the input image using Keras' multi-output functionality\n",
    "print(\"[INFO] classifying image...\")\n",
    "(agesProba ) = model.predict(image)\n",
    " \n",
    "# find indexes of both the category and color outputs with the\n",
    "# largest probabilities, then determine the corresponding class\n",
    "# labels\n",
    "agesIdx = agesProba[0].argmax()\n",
    "\n",
    "agesLabel = agesLB.classes_[agesIdx]\n",
    "\n",
    "# draw the category label and color label on the image\n",
    "agesText = \"age: {} ({:.2f}%)\".format(agesLabel,\n",
    "\tagesProba[0][agesIdx] * 100)\n",
    "\n",
    "\n",
    "cv2.putText(output, agesText, (10, 25), cv2.FONT_HERSHEY_SIMPLEX,\n",
    "\t0.7, (0, 255, 0), 2)\n",
    "\n",
    "# display the predictions to the terminal as well\n",
    "print(\"[INFO] {}\".format(agesText))\n",
    "# show the probabilities for each of the individual labels\n",
    "output = cv2.cvtColor(output, cv2.COLOR_BGR2RGB)\n",
    "# show the output image\n",
    "# print(\"[INFO] {} years old\".format(label))\n",
    "plt.imshow(output,)"
   ]
  },
  {
   "cell_type": "code",
   "execution_count": null,
   "metadata": {},
   "outputs": [],
   "source": [
    "History.model.count_params()"
   ]
  },
  {
   "cell_type": "code",
   "execution_count": null,
   "metadata": {},
   "outputs": [],
   "source": []
  }
 ],
 "metadata": {
  "kernelspec": {
   "display_name": "Python 3",
   "language": "python",
   "name": "python3"
  },
  "language_info": {
   "codemirror_mode": {
    "name": "ipython",
    "version": 3
   },
   "file_extension": ".py",
   "mimetype": "text/x-python",
   "name": "python",
   "nbconvert_exporter": "python",
   "pygments_lexer": "ipython3",
   "version": "3.6.5"
  }
 },
 "nbformat": 4,
 "nbformat_minor": 2
}
