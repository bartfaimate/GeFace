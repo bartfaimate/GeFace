{
 "cells": [
  {
   "cell_type": "markdown",
   "metadata": {
    "colab_type": "text",
    "id": "XDOPqdkBz3zM"
   },
   "source": [
    "# Preprocessing: Data splitting and standardscaling the input images\n",
    "\n",
    "In the result we have our train, validation and test data (both input and output)"
   ]
  },
  {
   "cell_type": "code",
   "execution_count": 1,
   "metadata": {
    "colab": {},
    "colab_type": "code",
    "id": "PvVjUlY3z2gc"
   },
   "outputs": [],
   "source": [
    "# Importing all packages\n",
    "\n",
    "import numpy as np\n",
    "import pandas as pd\n",
    "import os\n",
    "import random\n",
    "from sklearn.utils import shuffle\n",
    "from sklearn.preprocessing import StandardScaler\n",
    "import cv2 as cv\n",
    "import matplotlib.pyplot as plt\n",
    "%matplotlib inline"
   ]
  },
  {
   "cell_type": "code",
   "execution_count": 2,
   "metadata": {
    "colab": {},
    "colab_type": "code",
    "id": "DOfeg5bmz2gf"
   },
   "outputs": [],
   "source": [
    "# Randomize but always the same random numbers\n",
    "\n",
    "np.random.seed(42)\n",
    "random.seed(42)"
   ]
  },
  {
   "cell_type": "code",
   "execution_count": 3,
   "metadata": {
    "colab": {},
    "colab_type": "code",
    "id": "yZPTs_Kqz2gg"
   },
   "outputs": [],
   "source": [
    "os.chdir(\"C:/Users/Lenovo/Documents/DL_hf/GeFace/\")\n",
    "try:\n",
    "    df = pd.read_csv(\"data/dataset.csv\", delimiter=';',index_col=0)\n",
    "    pd.set_option('display.max_columns', 100)\n",
    "except (FileNotFoundError):\n",
    "    print(\"CSV file not found\")\n",
    "    current_path = os.getcwd()\n",
    "    print(\"Current path is \" + current_path)"
   ]
  },
  {
   "cell_type": "code",
   "execution_count": 4,
   "metadata": {
    "scrolled": true
   },
   "outputs": [
    {
     "data": {
      "text/html": [
       "<div>\n",
       "<style scoped>\n",
       "    .dataframe tbody tr th:only-of-type {\n",
       "        vertical-align: middle;\n",
       "    }\n",
       "\n",
       "    .dataframe tbody tr th {\n",
       "        vertical-align: top;\n",
       "    }\n",
       "\n",
       "    .dataframe thead th {\n",
       "        text-align: right;\n",
       "    }\n",
       "</style>\n",
       "<table border=\"1\" class=\"dataframe\">\n",
       "  <thead>\n",
       "    <tr style=\"text-align: right;\">\n",
       "      <th></th>\n",
       "      <th>age</th>\n",
       "      <th>full_path</th>\n",
       "      <th>gender</th>\n",
       "    </tr>\n",
       "  </thead>\n",
       "  <tbody>\n",
       "    <tr>\n",
       "      <th>0</th>\n",
       "      <td>69</td>\n",
       "      <td>01/nm0000001_rm124825600_1899-5-10_1968.jpg</td>\n",
       "      <td>1.0</td>\n",
       "    </tr>\n",
       "    <tr>\n",
       "      <th>1</th>\n",
       "      <td>71</td>\n",
       "      <td>01/nm0000001_rm3343756032_1899-5-10_1970.jpg</td>\n",
       "      <td>1.0</td>\n",
       "    </tr>\n",
       "    <tr>\n",
       "      <th>2</th>\n",
       "      <td>69</td>\n",
       "      <td>01/nm0000001_rm577153792_1899-5-10_1968.jpg</td>\n",
       "      <td>1.0</td>\n",
       "    </tr>\n",
       "    <tr>\n",
       "      <th>3</th>\n",
       "      <td>69</td>\n",
       "      <td>01/nm0000001_rm946909184_1899-5-10_1968.jpg</td>\n",
       "      <td>1.0</td>\n",
       "    </tr>\n",
       "    <tr>\n",
       "      <th>4</th>\n",
       "      <td>69</td>\n",
       "      <td>01/nm0000001_rm980463616_1899-5-10_1968.jpg</td>\n",
       "      <td>1.0</td>\n",
       "    </tr>\n",
       "  </tbody>\n",
       "</table>\n",
       "</div>"
      ],
      "text/plain": [
       "   age                                     full_path  gender\n",
       "0   69   01/nm0000001_rm124825600_1899-5-10_1968.jpg     1.0\n",
       "1   71  01/nm0000001_rm3343756032_1899-5-10_1970.jpg     1.0\n",
       "2   69   01/nm0000001_rm577153792_1899-5-10_1968.jpg     1.0\n",
       "3   69   01/nm0000001_rm946909184_1899-5-10_1968.jpg     1.0\n",
       "4   69   01/nm0000001_rm980463616_1899-5-10_1968.jpg     1.0"
      ]
     },
     "execution_count": 4,
     "metadata": {},
     "output_type": "execute_result"
    }
   ],
   "source": [
    "df.head()"
   ]
  },
  {
   "cell_type": "code",
   "execution_count": 5,
   "metadata": {},
   "outputs": [],
   "source": [
    "image_path = 'C:/Users/Lenovo/Documents/DL_hf/GeFace/resized/'"
   ]
  },
  {
   "cell_type": "markdown",
   "metadata": {},
   "source": [
    "## New part - Data splitting\n",
    "\n",
    "Split the dataset into train, validation and test dataset. Rule is : 70-20-10 "
   ]
  },
  {
   "cell_type": "code",
   "execution_count": 6,
   "metadata": {
    "colab": {},
    "colab_type": "code",
    "id": "S4c4GSlqz2g_"
   },
   "outputs": [],
   "source": [
    "# shuffle the rows\n",
    "df = shuffle(df)"
   ]
  },
  {
   "cell_type": "code",
   "execution_count": 7,
   "metadata": {
    "colab": {},
    "colab_type": "code",
    "id": "1Mla5Bt7z2hB",
    "outputId": "8bcdc535-a021-41aa-a71a-af83b7d378bc"
   },
   "outputs": [
    {
     "data": {
      "text/html": [
       "<div>\n",
       "<style scoped>\n",
       "    .dataframe tbody tr th:only-of-type {\n",
       "        vertical-align: middle;\n",
       "    }\n",
       "\n",
       "    .dataframe tbody tr th {\n",
       "        vertical-align: top;\n",
       "    }\n",
       "\n",
       "    .dataframe thead th {\n",
       "        text-align: right;\n",
       "    }\n",
       "</style>\n",
       "<table border=\"1\" class=\"dataframe\">\n",
       "  <thead>\n",
       "    <tr style=\"text-align: right;\">\n",
       "      <th></th>\n",
       "      <th>age</th>\n",
       "      <th>full_path</th>\n",
       "      <th>gender</th>\n",
       "    </tr>\n",
       "  </thead>\n",
       "  <tbody>\n",
       "    <tr>\n",
       "      <th>396541</th>\n",
       "      <td>22</td>\n",
       "      <td>41/nm2374841_rm226474752_1987-3-19_2009.jpg</td>\n",
       "      <td>0.0</td>\n",
       "    </tr>\n",
       "    <tr>\n",
       "      <th>177124</th>\n",
       "      <td>37</td>\n",
       "      <td>27/nm0005527_rm1698345984_1972-7-10_2009.jpg</td>\n",
       "      <td>0.0</td>\n",
       "    </tr>\n",
       "    <tr>\n",
       "      <th>424187</th>\n",
       "      <td>24</td>\n",
       "      <td>53/nm0488953_rm3146883072_1989-10-1_2013.jpg</td>\n",
       "      <td>0.0</td>\n",
       "    </tr>\n",
       "    <tr>\n",
       "      <th>250688</th>\n",
       "      <td>16</td>\n",
       "      <td>27/nm1227027_rm3763247360_1987-8-8_2003.jpg</td>\n",
       "      <td>1.0</td>\n",
       "    </tr>\n",
       "    <tr>\n",
       "      <th>187962</th>\n",
       "      <td>34</td>\n",
       "      <td>57/nm0206257_rm2710020352_1979-5-9_2013.jpg</td>\n",
       "      <td>0.0</td>\n",
       "    </tr>\n",
       "  </tbody>\n",
       "</table>\n",
       "</div>"
      ],
      "text/plain": [
       "        age                                     full_path  gender\n",
       "396541   22   41/nm2374841_rm226474752_1987-3-19_2009.jpg     0.0\n",
       "177124   37  27/nm0005527_rm1698345984_1972-7-10_2009.jpg     0.0\n",
       "424187   24  53/nm0488953_rm3146883072_1989-10-1_2013.jpg     0.0\n",
       "250688   16   27/nm1227027_rm3763247360_1987-8-8_2003.jpg     1.0\n",
       "187962   34   57/nm0206257_rm2710020352_1979-5-9_2013.jpg     0.0"
      ]
     },
     "execution_count": 7,
     "metadata": {},
     "output_type": "execute_result"
    }
   ],
   "source": [
    "df.head()"
   ]
  },
  {
   "cell_type": "code",
   "execution_count": 8,
   "metadata": {
    "colab": {},
    "colab_type": "code",
    "id": "ik4-TdEgz2hH",
    "outputId": "0fe2e738-7096-4d3f-98a1-90143ae818dd"
   },
   "outputs": [
    {
     "data": {
      "text/plain": [
       "(460070, 3)"
      ]
     },
     "execution_count": 8,
     "metadata": {},
     "output_type": "execute_result"
    }
   ],
   "source": [
    "df.shape"
   ]
  },
  {
   "cell_type": "code",
   "execution_count": 9,
   "metadata": {
    "colab": {},
    "colab_type": "code",
    "id": "EOg5eA9tz2hM",
    "outputId": "f11ce96f-27d9-4f4f-9243-cab254f84c09"
   },
   "outputs": [
    {
     "name": "stdout",
     "output_type": "stream",
     "text": [
      "train: 322049 | valid: 92014 | test: 46007\n"
     ]
    }
   ],
   "source": [
    "# calculate test train valid data numbers\n",
    "test_num = int(np.floor(0.1 * df.shape[0]))\n",
    "valid_num = int(np.floor(0.2 * df.shape[0]))\n",
    "train_num = int(df.shape[0] - test_num - valid_num)\n",
    "print(\"train: {} | valid: {} | test: {}\".format(train_num, valid_num, test_num))"
   ]
  },
  {
   "cell_type": "code",
   "execution_count": 10,
   "metadata": {
    "colab": {},
    "colab_type": "code",
    "id": "2Lxxid2-z2hQ",
    "outputId": "4d755ad3-6bf9-4c3a-99a4-e92e3a13e924"
   },
   "outputs": [
    {
     "data": {
      "text/plain": [
       "(322049, 3)"
      ]
     },
     "execution_count": 10,
     "metadata": {},
     "output_type": "execute_result"
    }
   ],
   "source": [
    "# split the data into train valid and test data\n",
    "train_data = df.iloc[0:train_num,:]\n",
    "train_data.shape"
   ]
  },
  {
   "cell_type": "code",
   "execution_count": 11,
   "metadata": {
    "colab": {},
    "colab_type": "code",
    "id": "eTEULYm7z2hW",
    "outputId": "0447ed9b-bf9d-42f0-887e-5e12186b5a71"
   },
   "outputs": [
    {
     "data": {
      "text/plain": [
       "(92014, 3)"
      ]
     },
     "execution_count": 11,
     "metadata": {},
     "output_type": "execute_result"
    }
   ],
   "source": [
    "valid_data = df.iloc[train_num:train_num + valid_num, :]\n",
    "valid_data.shape"
   ]
  },
  {
   "cell_type": "code",
   "execution_count": 12,
   "metadata": {
    "colab": {},
    "colab_type": "code",
    "id": "JAoTWQbtz2ha",
    "outputId": "f978b892-016b-4055-e466-028971848e4a"
   },
   "outputs": [
    {
     "data": {
      "text/plain": [
       "(46007, 3)"
      ]
     },
     "execution_count": 12,
     "metadata": {},
     "output_type": "execute_result"
    }
   ],
   "source": [
    "test_data = df.iloc[ train_num+valid_num:,:]\n",
    "test_data.shape"
   ]
  },
  {
   "cell_type": "code",
   "execution_count": 13,
   "metadata": {
    "colab": {},
    "colab_type": "code",
    "id": "YkK3aefAz2hc",
    "outputId": "052b28ac-aae9-4aef-9410-ae4d28eeb584"
   },
   "outputs": [
    {
     "data": {
      "text/plain": [
       "(46007,)"
      ]
     },
     "execution_count": 13,
     "metadata": {},
     "output_type": "execute_result"
    }
   ],
   "source": [
    "x_train_p = image_path+ train_data['full_path'].values\n",
    "x_valid_p = image_path+valid_data['full_path'].values\n",
    "x_test_p = image_path+test_data['full_path'].values\n",
    "x_test_p.shape"
   ]
  },
  {
   "cell_type": "code",
   "execution_count": 14,
   "metadata": {},
   "outputs": [],
   "source": [
    "y_train = train_data['age'].values\n",
    "y_valid = valid_data['age'].values\n",
    "y_test = test_data['age'].values"
   ]
  },
  {
   "cell_type": "code",
   "execution_count": 15,
   "metadata": {},
   "outputs": [],
   "source": [
    "x_valid=[]\n",
    "for i in range(valid_num):\n",
    "    x_valid.append(cv.imread(x_valid_p[i]))\n",
    "#x_valid = np.array(x_valid).reshape(valid_num,-1).astype('float32')\n"
   ]
  },
  {
   "cell_type": "code",
   "execution_count": 16,
   "metadata": {},
   "outputs": [],
   "source": [
    "x_test=[]\n",
    "for i in range(test_num):\n",
    "    x_test.append(cv.imread(x_test_p[i]))\n",
    "#x_test = np.array(x_test).reshape(test_num,-1).astype('float32')"
   ]
  },
  {
   "cell_type": "code",
   "execution_count": 17,
   "metadata": {},
   "outputs": [],
   "source": [
    "x_train=[]\n",
    "for i in range(train_num):\n",
    "    x_train.append(cv.imread(x_train_p[i]))\n",
    "#x_train = np.array(x_train).reshape(train_num,-1).astype('float32')\n"
   ]
  },
  {
   "cell_type": "code",
   "execution_count": 19,
   "metadata": {},
   "outputs": [],
   "source": [
    "# Basic standardscaling\n",
    "# x_train = x_train/255\n",
    "# x_valid = x_valid/255\n",
    "# x_test = x_test/255"
   ]
  },
  {
   "cell_type": "code",
   "execution_count": 20,
   "metadata": {},
   "outputs": [
    {
     "data": {
      "text/plain": [
       "<matplotlib.image.AxesImage at 0x197dd6064e0>"
      ]
     },
     "execution_count": 20,
     "metadata": {},
     "output_type": "execute_result"
    },
    {
     "data": {
      "image/png": "[encoded data removed]",
      "text/plain": [
       "<Figure size 432x288 with 1 Axes>"
      ]
     },
     "metadata": {},
     "output_type": "display_data"
    }
   ],
   "source": [
    "# Example image\n",
    "plt.figure()\n",
    "image = x_train[9].reshape(128,128,3)\n",
    "image = cv.cvtColor(image, cv.COLOR_BGR2RGB)\n",
    "plt.imshow(image)"
   ]
  },
  {
   "cell_type": "code",
   "execution_count": 21,
   "metadata": {},
   "outputs": [
    {
     "data": {
      "text/plain": [
       "43"
      ]
     },
     "execution_count": 21,
     "metadata": {},
     "output_type": "execute_result"
    }
   ],
   "source": [
    "# Output:\n",
    "\n",
    "y_train[9]"
   ]
  }
 ],
 "metadata": {
  "colab": {
   "collapsed_sections": [],
   "name": "Copy of preprocess.ipynb",
   "provenance": [],
   "version": "0.3.2"
  },
  "kernelspec": {
   "display_name": "Python 3",
   "language": "python",
   "name": "python3"
  },
  "language_info": {
   "codemirror_mode": {
    "name": "ipython",
    "version": 3
   },
   "file_extension": ".py",
   "mimetype": "text/x-python",
   "name": "python",
   "nbconvert_exporter": "python",
   "pygments_lexer": "ipython3",
   "version": "3.6.5"
  }
 },
 "nbformat": 4,
 "nbformat_minor": 1
}
