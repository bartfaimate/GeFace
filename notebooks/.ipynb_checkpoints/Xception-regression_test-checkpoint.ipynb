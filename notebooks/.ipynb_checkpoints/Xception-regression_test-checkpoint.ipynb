{
 "cells": [
  {
   "cell_type": "markdown",
   "metadata": {},
   "source": [
    "# Testing the model\n",
    "\n",
    "we load the finetuned model. After that we load the test pictures from the path which is given in the test_data.csv . We've predicted on the test images and updated the database with the predicted genders and ages and saved into a new csv file. "
   ]
  },
  {
   "cell_type": "code",
   "execution_count": 6,
   "metadata": {
    "colab": {},
    "colab_type": "code",
    "id": "ss5EuOyfDU6b"
   },
   "outputs": [],
   "source": [
    "# Import all packages\n",
    "from keras.models import load_model\n",
    "\n",
    "import numpy as np\n",
    "import pandas as pd\n",
    "import os\n",
    "import matplotlib.pyplot as plt\n",
    "import cv2\n",
    "import sys\n",
    "from keras.preprocessing.image import img_to_array\n",
    "import tensorflow as tf\n",
    "import pickle\n",
    "from sklearn.preprocessing import MinMaxScaler\n",
    "\n",
    "%matplotlib inline"
   ]
  },
  {
   "cell_type": "code",
   "execution_count": 7,
   "metadata": {
    "colab": {
     "base_uri": "https://localhost:8080/",
     "height": 34
    },
    "colab_type": "code",
    "executionInfo": {
     "elapsed": 61724,
     "status": "ok",
     "timestamp": 1543755029375,
     "user": {
      "displayName": "Örkény Zováthi",
      "photoUrl": "",
      "userId": "18120339239965062711"
     },
     "user_tz": -60
    },
    "id": "bykg1S0NUpha",
    "outputId": "d5232611-f8a0-437c-e96d-a2d3744f1029"
   },
   "outputs": [
    {
     "name": "stdout",
     "output_type": "stream",
     "text": [
      "[INFO] loading network...\n"
     ]
    },
    {
     "name": "stderr",
     "output_type": "stream",
     "text": [
      "/home/mate/.virtualenvs/deeplearn_gpu/lib/python3.6/site-packages/sklearn/base.py:251: UserWarning: Trying to unpickle estimator MinMaxScaler from version 0.19.2 when using version 0.20.0. This might lead to breaking code or invalid results. Use at your own risk.\n",
      "  UserWarning)\n"
     ]
    }
   ],
   "source": [
    "project_path = \"/home/mate/develop/PycharmProjects/GeFace/\"\n",
    "\n",
    "# load the trained convolutional neural network from disk, followed\n",
    "# by the category and color label binarizers, respectively\n",
    "print(\"[INFO] loading network...\")\n",
    "model = load_model(project_path  + \"faces_model/last/xception_regression_age_fine.hdf5\", custom_objects={\"tf\": tf})\n",
    "agesLB = pickle.loads(open(project_path + \"faces_model/last/regression.label\", \"rb\").read())\n"
   ]
  },
  {
   "cell_type": "code",
   "execution_count": 8,
   "metadata": {},
   "outputs": [],
   "source": [
    "# load the test database\n",
    "test_csv = \"/home/mate/develop/PycharmProjects/GeFace/test/test_data.csv\"\n",
    "df = pd.read_csv(test_csv)"
   ]
  },
  {
   "cell_type": "code",
   "execution_count": 9,
   "metadata": {
    "scrolled": true
   },
   "outputs": [
    {
     "data": {
      "text/html": [
       "<div>\n",
       "<style scoped>\n",
       "    .dataframe tbody tr th:only-of-type {\n",
       "        vertical-align: middle;\n",
       "    }\n",
       "\n",
       "    .dataframe tbody tr th {\n",
       "        vertical-align: top;\n",
       "    }\n",
       "\n",
       "    .dataframe thead th {\n",
       "        text-align: right;\n",
       "    }\n",
       "</style>\n",
       "<table border=\"1\" class=\"dataframe\">\n",
       "  <thead>\n",
       "    <tr style=\"text-align: right;\">\n",
       "      <th></th>\n",
       "      <th>Unnamed: 0</th>\n",
       "      <th>x_test_path</th>\n",
       "      <th>y_test_age</th>\n",
       "      <th>y_test_gender</th>\n",
       "    </tr>\n",
       "  </thead>\n",
       "  <tbody>\n",
       "    <tr>\n",
       "      <th>0</th>\n",
       "      <td>0</td>\n",
       "      <td>faces_colored/73/nm0000673_rm1920911360_1964-1...</td>\n",
       "      <td>23.0</td>\n",
       "      <td>f</td>\n",
       "    </tr>\n",
       "    <tr>\n",
       "      <th>1</th>\n",
       "      <td>1</td>\n",
       "      <td>faces_colored/37/nm0005137_rm1375568640_1961-4...</td>\n",
       "      <td>49.0</td>\n",
       "      <td>f</td>\n",
       "    </tr>\n",
       "    <tr>\n",
       "      <th>2</th>\n",
       "      <td>2</td>\n",
       "      <td>faces_colored/00/nm0321800_rm1232569088_1982-1...</td>\n",
       "      <td>28.0</td>\n",
       "      <td>f</td>\n",
       "    </tr>\n",
       "    <tr>\n",
       "      <th>3</th>\n",
       "      <td>3</td>\n",
       "      <td>faces_colored/73/nm0416673_rm1596496128_1965-4...</td>\n",
       "      <td>42.0</td>\n",
       "      <td>m</td>\n",
       "    </tr>\n",
       "    <tr>\n",
       "      <th>4</th>\n",
       "      <td>4</td>\n",
       "      <td>faces_colored/68/nm0001368_rm13947136_1945-12-...</td>\n",
       "      <td>52.0</td>\n",
       "      <td>m</td>\n",
       "    </tr>\n",
       "  </tbody>\n",
       "</table>\n",
       "</div>"
      ],
      "text/plain": [
       "   Unnamed: 0                                        x_test_path  y_test_age  \\\n",
       "0           0  faces_colored/73/nm0000673_rm1920911360_1964-1...        23.0   \n",
       "1           1  faces_colored/37/nm0005137_rm1375568640_1961-4...        49.0   \n",
       "2           2  faces_colored/00/nm0321800_rm1232569088_1982-1...        28.0   \n",
       "3           3  faces_colored/73/nm0416673_rm1596496128_1965-4...        42.0   \n",
       "4           4  faces_colored/68/nm0001368_rm13947136_1945-12-...        52.0   \n",
       "\n",
       "  y_test_gender  \n",
       "0             f  \n",
       "1             f  \n",
       "2             f  \n",
       "3             m  \n",
       "4             m  "
      ]
     },
     "execution_count": 9,
     "metadata": {},
     "output_type": "execute_result"
    }
   ],
   "source": [
    "df.head()"
   ]
  },
  {
   "cell_type": "code",
   "execution_count": null,
   "metadata": {
    "colab": {
     "base_uri": "https://localhost:8080/",
     "height": 34
    },
    "colab_type": "code",
    "executionInfo": {
     "elapsed": 939,
     "status": "ok",
     "timestamp": 1543755246281,
     "user": {
      "displayName": "Örkény Zováthi",
      "photoUrl": "",
      "userId": "18120339239965062711"
     },
     "user_tz": -60
    },
    "id": "OSDVKS3IVOb5",
    "outputId": "be3dbb7c-664e-4961-9dfc-3b976d20546b"
   },
   "outputs": [],
   "source": [
    "# classify the input image using Keras' multi-output functionality\n",
    "# do the prediction Batch by batch. Batch size is 128, we have about 26e3 test images\n",
    "BS = 128\n",
    "df['preds_age'] = 0\n",
    "df['preds_gender'] = -1\n",
    "for j in range(len(df)//BS):\n",
    "    b_images = []\n",
    "    for i in range(BS):\n",
    "        image = cv2.imread(project_path+df['x_test_path'][j*BS+i])\n",
    "        image = img_to_array(image)\n",
    "        b_images.append(image)\n",
    "    b_images = np.asarray(b_images)\n",
    "    b_images = b_images.astype(\"float\") / 255.0*2.0-1\n",
    "    (agesProba) = model.predict(b_images)\n",
    "    agesLabels = agesLB.inverse_transform(agesProba[0])\n",
    "    genderLabels = agesProba[1]\n",
    "    for ii in range(BS):\n",
    "        df['preds_age'][j*BS+ii] = agesLabels[ii]\n",
    "        df['preds_gender'][j*BS+ii] = np.argmax(genderLabels[ii])"
   ]
  },
  {
   "cell_type": "code",
   "execution_count": null,
   "metadata": {},
   "outputs": [],
   "source": [
    "# saving into a new csv file\n",
    "df.to_csv(\"/home/mate/develop/PycharmProjects/GeFace/test/test_result.csv\")"
   ]
  }
 ],
 "metadata": {
  "colab": {
   "collapsed_sections": [],
   "name": "Xception-regression_classifiy.ipynb",
   "provenance": [],
   "version": "0.3.2"
  },
  "kernelspec": {
   "display_name": "Python 3",
   "language": "python",
   "name": "python3"
  },
  "language_info": {
   "codemirror_mode": {
    "name": "ipython",
    "version": 3
   },
   "file_extension": ".py",
   "mimetype": "text/x-python",
   "name": "python",
   "nbconvert_exporter": "python",
   "pygments_lexer": "ipython3",
   "version": "3.6.5"
  }
 },
 "nbformat": 4,
 "nbformat_minor": 1
}
