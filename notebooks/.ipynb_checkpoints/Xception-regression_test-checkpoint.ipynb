{
 "cells": [
  {
   "cell_type": "code",
   "execution_count": 6,
   "metadata": {
    "colab": {},
    "colab_type": "code",
    "id": "ss5EuOyfDU6b"
   },
   "outputs": [],
   "source": [
    "from keras.models import load_model\n",
    "# Import all packages\n",
    "\n",
    "import numpy as np\n",
    "import pandas as pd\n",
    "import os\n",
    "import matplotlib.pyplot as plt\n",
    "import cv2\n",
    "import sys\n",
    "from keras.preprocessing.image import img_to_array\n",
    "import tensorflow as tf\n",
    "import pickle\n",
    "from sklearn.preprocessing import MinMaxScaler\n",
    "\n",
    "%matplotlib inline"
   ]
  },
  {
   "cell_type": "code",
   "execution_count": 7,
   "metadata": {
    "colab": {
     "base_uri": "https://localhost:8080/",
     "height": 34
    },
    "colab_type": "code",
    "executionInfo": {
     "elapsed": 61724,
     "status": "ok",
     "timestamp": 1543755029375,
     "user": {
      "displayName": "Örkény Zováthi",
      "photoUrl": "",
      "userId": "18120339239965062711"
     },
     "user_tz": -60
    },
    "id": "bykg1S0NUpha",
    "outputId": "d5232611-f8a0-437c-e96d-a2d3744f1029"
   },
   "outputs": [
    {
     "name": "stdout",
     "output_type": "stream",
     "text": [
      "[INFO] loading network...\n"
     ]
    },
    {
     "name": "stderr",
     "output_type": "stream",
     "text": [
      "/home/mate/.virtualenvs/deeplearn_gpu/lib/python3.6/site-packages/sklearn/base.py:251: UserWarning: Trying to unpickle estimator MinMaxScaler from version 0.19.2 when using version 0.20.0. This might lead to breaking code or invalid results. Use at your own risk.\n",
      "  UserWarning)\n"
     ]
    }
   ],
   "source": [
    "project_path = \"/home/mate/develop/PycharmProjects/GeFace/\"\n",
    "\n",
    "# load the trained convolutional neural network from disk, followed\n",
    "# by the category and color label binarizers, respectively\n",
    "print(\"[INFO] loading network...\")\n",
    "model = load_model(project_path  + \"faces_model/last/xception_regression_age_fine.hdf5\", custom_objects={\"tf\": tf})\n",
    "agesLB = pickle.loads(open(project_path + \"faces_model/last/regression.label\", \"rb\").read())\n"
   ]
  },
  {
   "cell_type": "code",
   "execution_count": 8,
   "metadata": {},
   "outputs": [],
   "source": [
    "test_csv = \"/home/mate/develop/PycharmProjects/GeFace/test/test_data.csv\"\n",
    "df = pd.read_csv(test_csv)"
   ]
  },
  {
   "cell_type": "code",
   "execution_count": 9,
   "metadata": {},
   "outputs": [
    {
     "data": {
      "text/html": [
       "<div>\n",
       "<style scoped>\n",
       "    .dataframe tbody tr th:only-of-type {\n",
       "        vertical-align: middle;\n",
       "    }\n",
       "\n",
       "    .dataframe tbody tr th {\n",
       "        vertical-align: top;\n",
       "    }\n",
       "\n",
       "    .dataframe thead th {\n",
       "        text-align: right;\n",
       "    }\n",
       "</style>\n",
       "<table border=\"1\" class=\"dataframe\">\n",
       "  <thead>\n",
       "    <tr style=\"text-align: right;\">\n",
       "      <th></th>\n",
       "      <th>Unnamed: 0</th>\n",
       "      <th>x_test_path</th>\n",
       "      <th>y_test_age</th>\n",
       "      <th>y_test_gender</th>\n",
       "    </tr>\n",
       "  </thead>\n",
       "  <tbody>\n",
       "    <tr>\n",
       "      <th>0</th>\n",
       "      <td>0</td>\n",
       "      <td>faces_colored/73/nm0000673_rm1920911360_1964-1...</td>\n",
       "      <td>23.0</td>\n",
       "      <td>f</td>\n",
       "    </tr>\n",
       "    <tr>\n",
       "      <th>1</th>\n",
       "      <td>1</td>\n",
       "      <td>faces_colored/37/nm0005137_rm1375568640_1961-4...</td>\n",
       "      <td>49.0</td>\n",
       "      <td>f</td>\n",
       "    </tr>\n",
       "    <tr>\n",
       "      <th>2</th>\n",
       "      <td>2</td>\n",
       "      <td>faces_colored/00/nm0321800_rm1232569088_1982-1...</td>\n",
       "      <td>28.0</td>\n",
       "      <td>f</td>\n",
       "    </tr>\n",
       "    <tr>\n",
       "      <th>3</th>\n",
       "      <td>3</td>\n",
       "      <td>faces_colored/73/nm0416673_rm1596496128_1965-4...</td>\n",
       "      <td>42.0</td>\n",
       "      <td>m</td>\n",
       "    </tr>\n",
       "    <tr>\n",
       "      <th>4</th>\n",
       "      <td>4</td>\n",
       "      <td>faces_colored/68/nm0001368_rm13947136_1945-12-...</td>\n",
       "      <td>52.0</td>\n",
       "      <td>m</td>\n",
       "    </tr>\n",
       "  </tbody>\n",
       "</table>\n",
       "</div>"
      ],
      "text/plain": [
       "   Unnamed: 0                                        x_test_path  y_test_age  \\\n",
       "0           0  faces_colored/73/nm0000673_rm1920911360_1964-1...        23.0   \n",
       "1           1  faces_colored/37/nm0005137_rm1375568640_1961-4...        49.0   \n",
       "2           2  faces_colored/00/nm0321800_rm1232569088_1982-1...        28.0   \n",
       "3           3  faces_colored/73/nm0416673_rm1596496128_1965-4...        42.0   \n",
       "4           4  faces_colored/68/nm0001368_rm13947136_1945-12-...        52.0   \n",
       "\n",
       "  y_test_gender  \n",
       "0             f  \n",
       "1             f  \n",
       "2             f  \n",
       "3             m  \n",
       "4             m  "
      ]
     },
     "execution_count": 9,
     "metadata": {},
     "output_type": "execute_result"
    }
   ],
   "source": [
    "df.head()"
   ]
  },
  {
   "cell_type": "code",
   "execution_count": null,
   "metadata": {
    "colab": {
     "base_uri": "https://localhost:8080/",
     "height": 34
    },
    "colab_type": "code",
    "executionInfo": {
     "elapsed": 939,
     "status": "ok",
     "timestamp": 1543755246281,
     "user": {
      "displayName": "Örkény Zováthi",
      "photoUrl": "",
      "userId": "18120339239965062711"
     },
     "user_tz": -60
    },
    "id": "OSDVKS3IVOb5",
    "outputId": "be3dbb7c-664e-4961-9dfc-3b976d20546b"
   },
   "outputs": [
    {
     "name": "stderr",
     "output_type": "stream",
     "text": [
      "/home/mate/.virtualenvs/deeplearn_gpu/lib/python3.6/site-packages/ipykernel_launcher.py:17: SettingWithCopyWarning: \n",
      "A value is trying to be set on a copy of a slice from a DataFrame\n",
      "\n",
      "See the caveats in the documentation: http://pandas.pydata.org/pandas-docs/stable/indexing.html#indexing-view-versus-copy\n",
      "/home/mate/.virtualenvs/deeplearn_gpu/lib/python3.6/site-packages/ipykernel_launcher.py:18: SettingWithCopyWarning: \n",
      "A value is trying to be set on a copy of a slice from a DataFrame\n",
      "\n",
      "See the caveats in the documentation: http://pandas.pydata.org/pandas-docs/stable/indexing.html#indexing-view-versus-copy\n",
      "/home/mate/.virtualenvs/deeplearn_gpu/lib/python3.6/site-packages/ipykernel_launcher.py:17: SettingWithCopyWarning: \n",
      "A value is trying to be set on a copy of a slice from a DataFrame\n",
      "\n",
      "See the caveats in the documentation: http://pandas.pydata.org/pandas-docs/stable/indexing.html#indexing-view-versus-copy\n",
      "/home/mate/.virtualenvs/deeplearn_gpu/lib/python3.6/site-packages/ipykernel_launcher.py:18: SettingWithCopyWarning: \n",
      "A value is trying to be set on a copy of a slice from a DataFrame\n",
      "\n",
      "See the caveats in the documentation: http://pandas.pydata.org/pandas-docs/stable/indexing.html#indexing-view-versus-copy\n",
      "/home/mate/.virtualenvs/deeplearn_gpu/lib/python3.6/site-packages/ipykernel_launcher.py:17: SettingWithCopyWarning: \n",
      "A value is trying to be set on a copy of a slice from a DataFrame\n",
      "\n",
      "See the caveats in the documentation: http://pandas.pydata.org/pandas-docs/stable/indexing.html#indexing-view-versus-copy\n",
      "/home/mate/.virtualenvs/deeplearn_gpu/lib/python3.6/site-packages/ipykernel_launcher.py:18: SettingWithCopyWarning: \n",
      "A value is trying to be set on a copy of a slice from a DataFrame\n",
      "\n",
      "See the caveats in the documentation: http://pandas.pydata.org/pandas-docs/stable/indexing.html#indexing-view-versus-copy\n",
      "/home/mate/.virtualenvs/deeplearn_gpu/lib/python3.6/site-packages/ipykernel_launcher.py:17: SettingWithCopyWarning: \n",
      "A value is trying to be set on a copy of a slice from a DataFrame\n",
      "\n",
      "See the caveats in the documentation: http://pandas.pydata.org/pandas-docs/stable/indexing.html#indexing-view-versus-copy\n",
      "/home/mate/.virtualenvs/deeplearn_gpu/lib/python3.6/site-packages/ipykernel_launcher.py:18: SettingWithCopyWarning: \n",
      "A value is trying to be set on a copy of a slice from a DataFrame\n",
      "\n",
      "See the caveats in the documentation: http://pandas.pydata.org/pandas-docs/stable/indexing.html#indexing-view-versus-copy\n",
      "/home/mate/.virtualenvs/deeplearn_gpu/lib/python3.6/site-packages/ipykernel_launcher.py:17: SettingWithCopyWarning: \n",
      "A value is trying to be set on a copy of a slice from a DataFrame\n",
      "\n",
      "See the caveats in the documentation: http://pandas.pydata.org/pandas-docs/stable/indexing.html#indexing-view-versus-copy\n",
      "/home/mate/.virtualenvs/deeplearn_gpu/lib/python3.6/site-packages/ipykernel_launcher.py:18: SettingWithCopyWarning: \n",
      "A value is trying to be set on a copy of a slice from a DataFrame\n",
      "\n",
      "See the caveats in the documentation: http://pandas.pydata.org/pandas-docs/stable/indexing.html#indexing-view-versus-copy\n",
      "/home/mate/.virtualenvs/deeplearn_gpu/lib/python3.6/site-packages/ipykernel_launcher.py:17: SettingWithCopyWarning: \n",
      "A value is trying to be set on a copy of a slice from a DataFrame\n",
      "\n",
      "See the caveats in the documentation: http://pandas.pydata.org/pandas-docs/stable/indexing.html#indexing-view-versus-copy\n",
      "/home/mate/.virtualenvs/deeplearn_gpu/lib/python3.6/site-packages/ipykernel_launcher.py:18: SettingWithCopyWarning: \n",
      "A value is trying to be set on a copy of a slice from a DataFrame\n",
      "\n",
      "See the caveats in the documentation: http://pandas.pydata.org/pandas-docs/stable/indexing.html#indexing-view-versus-copy\n"
     ]
    }
   ],
   "source": [
    "# classify the input image using Keras' multi-output functionality\n",
    "BS = 128\n",
    "df['preds_age'] = 0\n",
    "df['preds_gender'] = -1\n",
    "for j in range(len(df)//BS):\n",
    "    b_images = []\n",
    "    for i in range(BS):\n",
    "        image = cv2.imread(project_path+df['x_test_path'][j*BS+i])\n",
    "        image = img_to_array(image)\n",
    "        b_images.append(image)\n",
    "    b_images = np.asarray(b_images)\n",
    "    b_images = b_images.astype(\"float\") / 255.0*2.0-1\n",
    "    (agesProba) = model.predict(b_images)\n",
    "    agesLabels = agesLB.inverse_transform(agesProba[0])\n",
    "    genderLabels = agesProba[1]\n",
    "    for ii in range(BS):\n",
    "        df['preds_age'][j*BS+ii] = agesLabels[ii]\n",
    "        df['preds_gender'][j*BS+ii] = np.argmax(genderLabels[ii])"
   ]
  },
  {
   "cell_type": "code",
   "execution_count": null,
   "metadata": {},
   "outputs": [],
   "source": [
    "df.head(32)"
   ]
  },
  {
   "cell_type": "code",
   "execution_count": 14,
   "metadata": {},
   "outputs": [
    {
     "data": {
      "text/plain": [
       "35.81683871215319"
      ]
     },
     "execution_count": 14,
     "metadata": {},
     "output_type": "execute_result"
    }
   ],
   "source": [
    "deviation = np.abs(np.asarray(df[\"preds_age\"]-df[\"y_test_age\"]))\n",
    "deviation.sum() / len(deviation)"
   ]
  },
  {
   "cell_type": "code",
   "execution_count": 21,
   "metadata": {},
   "outputs": [],
   "source": [
    "(agesProba) = model.predict(b_images)\n",
    "agesLabels = agesLB.inverse_transform(agesProba[0])\n",
    "genderLabels = agesProba[1]\n"
   ]
  },
  {
   "cell_type": "code",
   "execution_count": 22,
   "metadata": {},
   "outputs": [],
   "source": []
  },
  {
   "cell_type": "code",
   "execution_count": 23,
   "metadata": {},
   "outputs": [
    {
     "name": "stderr",
     "output_type": "stream",
     "text": [
      "/home/mate/.virtualenvs/deeplearn_gpu/lib/python3.6/site-packages/ipykernel_launcher.py:2: SettingWithCopyWarning: \n",
      "A value is trying to be set on a copy of a slice from a DataFrame\n",
      "\n",
      "See the caveats in the documentation: http://pandas.pydata.org/pandas-docs/stable/indexing.html#indexing-view-versus-copy\n",
      "  \n",
      "/home/mate/.virtualenvs/deeplearn_gpu/lib/python3.6/site-packages/ipykernel_launcher.py:3: SettingWithCopyWarning: \n",
      "A value is trying to be set on a copy of a slice from a DataFrame\n",
      "\n",
      "See the caveats in the documentation: http://pandas.pydata.org/pandas-docs/stable/indexing.html#indexing-view-versus-copy\n",
      "  This is separate from the ipykernel package so we can avoid doing imports until\n"
     ]
    }
   ],
   "source": [
    "for i in range(BS):\n",
    "    df['preds_age'][i] = agesLabels[i]\n",
    "    df['preds_gender'][i] = np.argmax(genderLabels[i])"
   ]
  },
  {
   "cell_type": "code",
   "execution_count": 25,
   "metadata": {
    "colab": {},
    "colab_type": "code",
    "id": "opltiPAZVSa6"
   },
   "outputs": [
    {
     "data": {
      "text/html": [
       "<div>\n",
       "<style scoped>\n",
       "    .dataframe tbody tr th:only-of-type {\n",
       "        vertical-align: middle;\n",
       "    }\n",
       "\n",
       "    .dataframe tbody tr th {\n",
       "        vertical-align: top;\n",
       "    }\n",
       "\n",
       "    .dataframe thead th {\n",
       "        text-align: right;\n",
       "    }\n",
       "</style>\n",
       "<table border=\"1\" class=\"dataframe\">\n",
       "  <thead>\n",
       "    <tr style=\"text-align: right;\">\n",
       "      <th></th>\n",
       "      <th>Unnamed: 0</th>\n",
       "      <th>x_test_path</th>\n",
       "      <th>y_test_age</th>\n",
       "      <th>y_test_gender</th>\n",
       "      <th>preds_age</th>\n",
       "      <th>preds_gender</th>\n",
       "    </tr>\n",
       "  </thead>\n",
       "  <tbody>\n",
       "    <tr>\n",
       "      <th>0</th>\n",
       "      <td>0</td>\n",
       "      <td>faces_colored/73/nm0000673_rm1920911360_1964-1...</td>\n",
       "      <td>23.0</td>\n",
       "      <td>f</td>\n",
       "      <td>22</td>\n",
       "      <td>1</td>\n",
       "    </tr>\n",
       "    <tr>\n",
       "      <th>1</th>\n",
       "      <td>1</td>\n",
       "      <td>faces_colored/37/nm0005137_rm1375568640_1961-4...</td>\n",
       "      <td>49.0</td>\n",
       "      <td>f</td>\n",
       "      <td>36</td>\n",
       "      <td>1</td>\n",
       "    </tr>\n",
       "    <tr>\n",
       "      <th>2</th>\n",
       "      <td>2</td>\n",
       "      <td>faces_colored/00/nm0321800_rm1232569088_1982-1...</td>\n",
       "      <td>28.0</td>\n",
       "      <td>f</td>\n",
       "      <td>26</td>\n",
       "      <td>1</td>\n",
       "    </tr>\n",
       "    <tr>\n",
       "      <th>3</th>\n",
       "      <td>3</td>\n",
       "      <td>faces_colored/73/nm0416673_rm1596496128_1965-4...</td>\n",
       "      <td>42.0</td>\n",
       "      <td>m</td>\n",
       "      <td>29</td>\n",
       "      <td>0</td>\n",
       "    </tr>\n",
       "    <tr>\n",
       "      <th>4</th>\n",
       "      <td>4</td>\n",
       "      <td>faces_colored/68/nm0001368_rm13947136_1945-12-...</td>\n",
       "      <td>52.0</td>\n",
       "      <td>m</td>\n",
       "      <td>40</td>\n",
       "      <td>0</td>\n",
       "    </tr>\n",
       "    <tr>\n",
       "      <th>5</th>\n",
       "      <td>5</td>\n",
       "      <td>faces_colored/75/nm0000375_rm2573179648_1965-4...</td>\n",
       "      <td>35.0</td>\n",
       "      <td>m</td>\n",
       "      <td>34</td>\n",
       "      <td>0</td>\n",
       "    </tr>\n",
       "    <tr>\n",
       "      <th>6</th>\n",
       "      <td>6</td>\n",
       "      <td>faces_colored/08/nm1182008_rm1047898880_1982-4...</td>\n",
       "      <td>29.0</td>\n",
       "      <td>f</td>\n",
       "      <td>32</td>\n",
       "      <td>1</td>\n",
       "    </tr>\n",
       "    <tr>\n",
       "      <th>7</th>\n",
       "      <td>7</td>\n",
       "      <td>faces_colored/54/nm0000354_rm2341968640_1970-1...</td>\n",
       "      <td>32.0</td>\n",
       "      <td>m</td>\n",
       "      <td>41</td>\n",
       "      <td>0</td>\n",
       "    </tr>\n",
       "    <tr>\n",
       "      <th>8</th>\n",
       "      <td>8</td>\n",
       "      <td>faces_colored/19/nm3103119_rm1453427200_1999-8...</td>\n",
       "      <td>10.0</td>\n",
       "      <td>m</td>\n",
       "      <td>43</td>\n",
       "      <td>0</td>\n",
       "    </tr>\n",
       "    <tr>\n",
       "      <th>9</th>\n",
       "      <td>9</td>\n",
       "      <td>faces_colored/14/nm2934314_rm2140048384_1989-3...</td>\n",
       "      <td>21.0</td>\n",
       "      <td>f</td>\n",
       "      <td>22</td>\n",
       "      <td>1</td>\n",
       "    </tr>\n",
       "    <tr>\n",
       "      <th>10</th>\n",
       "      <td>10</td>\n",
       "      <td>faces_colored/62/nm0596962_rm3602029312_1962-5...</td>\n",
       "      <td>43.0</td>\n",
       "      <td>m</td>\n",
       "      <td>30</td>\n",
       "      <td>1</td>\n",
       "    </tr>\n",
       "    <tr>\n",
       "      <th>11</th>\n",
       "      <td>11</td>\n",
       "      <td>faces_colored/43/nm0836343_rm4093230848_1978-5...</td>\n",
       "      <td>33.0</td>\n",
       "      <td>m</td>\n",
       "      <td>31</td>\n",
       "      <td>0</td>\n",
       "    </tr>\n",
       "    <tr>\n",
       "      <th>12</th>\n",
       "      <td>12</td>\n",
       "      <td>faces_colored/89/nm0805189_rm1697299200_1980-7...</td>\n",
       "      <td>12.0</td>\n",
       "      <td>m</td>\n",
       "      <td>15</td>\n",
       "      <td>1</td>\n",
       "    </tr>\n",
       "    <tr>\n",
       "      <th>13</th>\n",
       "      <td>13</td>\n",
       "      <td>faces_colored/73/nm1570873_rm2222764800_1963-1...</td>\n",
       "      <td>41.0</td>\n",
       "      <td>m</td>\n",
       "      <td>40</td>\n",
       "      <td>0</td>\n",
       "    </tr>\n",
       "    <tr>\n",
       "      <th>14</th>\n",
       "      <td>14</td>\n",
       "      <td>faces_colored/20/nm0005020_rm443201024_1970-9-...</td>\n",
       "      <td>39.0</td>\n",
       "      <td>m</td>\n",
       "      <td>42</td>\n",
       "      <td>0</td>\n",
       "    </tr>\n",
       "    <tr>\n",
       "      <th>15</th>\n",
       "      <td>15</td>\n",
       "      <td>faces_colored/47/nm0005447_rm735949824_1983-6-...</td>\n",
       "      <td>29.0</td>\n",
       "      <td>f</td>\n",
       "      <td>23</td>\n",
       "      <td>1</td>\n",
       "    </tr>\n",
       "    <tr>\n",
       "      <th>16</th>\n",
       "      <td>16</td>\n",
       "      <td>faces_colored/01/nm1107001_rm3976626432_1978-9...</td>\n",
       "      <td>32.0</td>\n",
       "      <td>m</td>\n",
       "      <td>26</td>\n",
       "      <td>0</td>\n",
       "    </tr>\n",
       "    <tr>\n",
       "      <th>17</th>\n",
       "      <td>17</td>\n",
       "      <td>faces_colored/27/nm0138927_rm3184958208_1967-0...</td>\n",
       "      <td>36.0</td>\n",
       "      <td>f</td>\n",
       "      <td>21</td>\n",
       "      <td>1</td>\n",
       "    </tr>\n",
       "    <tr>\n",
       "      <th>18</th>\n",
       "      <td>18</td>\n",
       "      <td>faces_colored/18/nm0001518_rm2503396864_1961-1...</td>\n",
       "      <td>53.0</td>\n",
       "      <td>m</td>\n",
       "      <td>29</td>\n",
       "      <td>1</td>\n",
       "    </tr>\n",
       "    <tr>\n",
       "      <th>19</th>\n",
       "      <td>19</td>\n",
       "      <td>faces_colored/25/nm0005425_rm3591150336_1955-1...</td>\n",
       "      <td>44.0</td>\n",
       "      <td>f</td>\n",
       "      <td>30</td>\n",
       "      <td>1</td>\n",
       "    </tr>\n",
       "  </tbody>\n",
       "</table>\n",
       "</div>"
      ],
      "text/plain": [
       "    Unnamed: 0                                        x_test_path  y_test_age  \\\n",
       "0            0  faces_colored/73/nm0000673_rm1920911360_1964-1...        23.0   \n",
       "1            1  faces_colored/37/nm0005137_rm1375568640_1961-4...        49.0   \n",
       "2            2  faces_colored/00/nm0321800_rm1232569088_1982-1...        28.0   \n",
       "3            3  faces_colored/73/nm0416673_rm1596496128_1965-4...        42.0   \n",
       "4            4  faces_colored/68/nm0001368_rm13947136_1945-12-...        52.0   \n",
       "5            5  faces_colored/75/nm0000375_rm2573179648_1965-4...        35.0   \n",
       "6            6  faces_colored/08/nm1182008_rm1047898880_1982-4...        29.0   \n",
       "7            7  faces_colored/54/nm0000354_rm2341968640_1970-1...        32.0   \n",
       "8            8  faces_colored/19/nm3103119_rm1453427200_1999-8...        10.0   \n",
       "9            9  faces_colored/14/nm2934314_rm2140048384_1989-3...        21.0   \n",
       "10          10  faces_colored/62/nm0596962_rm3602029312_1962-5...        43.0   \n",
       "11          11  faces_colored/43/nm0836343_rm4093230848_1978-5...        33.0   \n",
       "12          12  faces_colored/89/nm0805189_rm1697299200_1980-7...        12.0   \n",
       "13          13  faces_colored/73/nm1570873_rm2222764800_1963-1...        41.0   \n",
       "14          14  faces_colored/20/nm0005020_rm443201024_1970-9-...        39.0   \n",
       "15          15  faces_colored/47/nm0005447_rm735949824_1983-6-...        29.0   \n",
       "16          16  faces_colored/01/nm1107001_rm3976626432_1978-9...        32.0   \n",
       "17          17  faces_colored/27/nm0138927_rm3184958208_1967-0...        36.0   \n",
       "18          18  faces_colored/18/nm0001518_rm2503396864_1961-1...        53.0   \n",
       "19          19  faces_colored/25/nm0005425_rm3591150336_1955-1...        44.0   \n",
       "\n",
       "   y_test_gender  preds_age  preds_gender  \n",
       "0              f         22             1  \n",
       "1              f         36             1  \n",
       "2              f         26             1  \n",
       "3              m         29             0  \n",
       "4              m         40             0  \n",
       "5              m         34             0  \n",
       "6              f         32             1  \n",
       "7              m         41             0  \n",
       "8              m         43             0  \n",
       "9              f         22             1  \n",
       "10             m         30             1  \n",
       "11             m         31             0  \n",
       "12             m         15             1  \n",
       "13             m         40             0  \n",
       "14             m         42             0  \n",
       "15             f         23             1  \n",
       "16             m         26             0  \n",
       "17             f         21             1  \n",
       "18             m         29             1  \n",
       "19             f         30             1  "
      ]
     },
     "execution_count": 25,
     "metadata": {},
     "output_type": "execute_result"
    }
   ],
   "source": [
    "df.head(20)"
   ]
  },
  {
   "cell_type": "code",
   "execution_count": 20,
   "metadata": {
    "colab": {
     "base_uri": "https://localhost:8080/",
     "height": 34
    },
    "colab_type": "code",
    "executionInfo": {
     "elapsed": 922,
     "status": "ok",
     "timestamp": 1543755246286,
     "user": {
      "displayName": "Örkény Zováthi",
      "photoUrl": "",
      "userId": "18120339239965062711"
     },
     "user_tz": -60
    },
    "id": "ZhfxIJgDVssK",
    "outputId": "e6794355-63ef-4b46-da6e-9fa8b35554d0"
   },
   "outputs": [
    {
     "data": {
      "text/plain": [
       "array([0.3438496 , 0.65615034], dtype=float32)"
      ]
     },
     "execution_count": 20,
     "metadata": {},
     "output_type": "execute_result"
    }
   ],
   "source": []
  },
  {
   "cell_type": "code",
   "execution_count": 48,
   "metadata": {
    "colab": {},
    "colab_type": "code",
    "id": "-KvWp8csg6jP"
   },
   "outputs": [],
   "source": [
    "if np.argmax(genderLabel) == 1:\n",
    "    gendertext = \"female\"\n",
    "else:\n",
    "    gendertext = \"male\""
   ]
  },
  {
   "cell_type": "code",
   "execution_count": null,
   "metadata": {},
   "outputs": [],
   "source": []
  },
  {
   "cell_type": "code",
   "execution_count": 49,
   "metadata": {
    "colab": {
     "base_uri": "https://localhost:8080/",
     "height": 304
    },
    "colab_type": "code",
    "executionInfo": {
     "elapsed": 1224,
     "status": "ok",
     "timestamp": 1543755246608,
     "user": {
      "displayName": "Örkény Zováthi",
      "photoUrl": "",
      "userId": "18120339239965062711"
     },
     "user_tz": -60
    },
    "id": "joVyaOJPDU6v",
    "outputId": "4fe48e80-bf58-425d-c3e2-fea44b5edd1f",
    "scrolled": false
   },
   "outputs": [
    {
     "name": "stdout",
     "output_type": "stream",
     "text": [
      "female\n",
      "3\n",
      "27 68\n",
      "[INFO] age: (42)\n"
     ]
    },
    {
     "data": {
      "text/plain": [
       "<matplotlib.image.AxesImage at 0x7f37077c16a0>"
      ]
     },
     "execution_count": 49,
     "metadata": {},
     "output_type": "execute_result"
    },
    {
     "data": {
      "image/png": "[encoded data removed]",
      "text/plain": [
       "<Figure size 432x288 with 1 Axes>"
      ]
     },
     "metadata": {
      "needs_background": "light"
     },
     "output_type": "display_data"
    }
   ],
   "source": [
    "# draw the category label and color label on the image\n",
    "agesText = \"age: ({:.0f})\".format(float(agesLabel))\n",
    "print(gendertext)\n",
    "fontsize = font_size_calculator(image.shape)\n",
    "fontwidth = font_width_calculator(image.shape)\n",
    "print(fontsize)\n",
    "x_pos, y_pos = calculate_text_position(image.shape)\n",
    "print(x_pos, y_pos)\n",
    "cv2.putText(output, agesText, (x_pos, y_pos+10), cv2.FONT_HERSHEY_SIMPLEX,\n",
    "\tfontsize, (255, 0, 0), fontwidth)\n",
    "cv2.putText(output, gendertext, (x_pos, y_pos*2+20), cv2.FONT_HERSHEY_SIMPLEX,\n",
    "\tfontsize, (255, 155, 0), fontwidth)\n",
    "# display the predictions to the terminal as well\n",
    "print(\"[INFO] {}\".format(agesText))\n",
    "# show the probabilities for each of the individual labels\n",
    "cv2.imwrite(image_name + \"_class.jpg\",output)\n",
    "outp = cv2.cvtColor(output, cv2.COLOR_BGR2RGB)\n",
    "# show the output image\n",
    "# print(\"[INFO] {} years old\".format(label))\n",
    "plt.imshow(outp,)"
   ]
  },
  {
   "cell_type": "code",
   "execution_count": 26,
   "metadata": {},
   "outputs": [
    {
     "data": {
      "text/plain": [
       "(3083, 1734, 3)"
      ]
     },
     "execution_count": 26,
     "metadata": {},
     "output_type": "execute_result"
    }
   ],
   "source": [
    "output.shape"
   ]
  },
  {
   "cell_type": "code",
   "execution_count": null,
   "metadata": {},
   "outputs": [],
   "source": []
  },
  {
   "cell_type": "code",
   "execution_count": null,
   "metadata": {},
   "outputs": [],
   "source": []
  }
 ],
 "metadata": {
  "colab": {
   "collapsed_sections": [],
   "name": "Xception-regression_classifiy.ipynb",
   "provenance": [],
   "version": "0.3.2"
  },
  "kernelspec": {
   "display_name": "Python 3",
   "language": "python",
   "name": "python3"
  },
  "language_info": {
   "codemirror_mode": {
    "name": "ipython",
    "version": 3
   },
   "file_extension": ".py",
   "mimetype": "text/x-python",
   "name": "python",
   "nbconvert_exporter": "python",
   "pygments_lexer": "ipython3",
   "version": "3.6.5"
  }
 },
 "nbformat": 4,
 "nbformat_minor": 1
}
